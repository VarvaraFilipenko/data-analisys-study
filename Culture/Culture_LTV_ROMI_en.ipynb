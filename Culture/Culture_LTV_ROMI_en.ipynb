{
 "cells": [
  {
   "cell_type": "markdown",
   "metadata": {},
   "source": [
    "# Project: Аnalysis of the online resource \"Culture\""
   ]
  },
  {
   "cell_type": "markdown",
   "metadata": {},
   "source": [
    "## Stage 1: Data preparation"
   ]
  },
  {
   "cell_type": "code",
   "execution_count": 1,
   "metadata": {},
   "outputs": [],
   "source": [
    "# import libraries\n",
    "import pandas as pd\n",
    "import numpy as np\n",
    "import seaborn as sns\n",
    "import matplotlib.pyplot as plt\n",
    "from matplotlib import pyplot as plt\n",
    "from matplotlib import rcParams"
   ]
  },
  {
   "cell_type": "code",
   "execution_count": 2,
   "metadata": {},
   "outputs": [],
   "source": [
    "# read csv files\n",
    "visits = pd.read_csv('./visits_log.csv')\n",
    "orders = pd.read_csv('./orders_log.csv')\n",
    "costs = pd.read_csv('./costs.csv')"
   ]
  },
  {
   "cell_type": "code",
   "execution_count": 3,
   "metadata": {},
   "outputs": [
    {
     "name": "stdout",
     "output_type": "stream",
     "text": [
      "<class 'pandas.core.frame.DataFrame'>\n",
      "RangeIndex: 359400 entries, 0 to 359399\n",
      "Data columns (total 5 columns):\n",
      "Device       359400 non-null object\n",
      "End Ts       359400 non-null datetime64[ns]\n",
      "Source Id    359400 non-null int64\n",
      "Start Ts     359400 non-null datetime64[ns]\n",
      "Uid          359400 non-null uint64\n",
      "dtypes: datetime64[ns](2), int64(1), object(1), uint64(1)\n",
      "memory usage: 13.7+ MB\n",
      "\n",
      "------------------------\n",
      "number of duplicates:  0\n"
     ]
    },
    {
     "data": {
      "text/html": [
       "<div>\n",
       "<style scoped>\n",
       "    .dataframe tbody tr th:only-of-type {\n",
       "        vertical-align: middle;\n",
       "    }\n",
       "\n",
       "    .dataframe tbody tr th {\n",
       "        vertical-align: top;\n",
       "    }\n",
       "\n",
       "    .dataframe thead th {\n",
       "        text-align: right;\n",
       "    }\n",
       "</style>\n",
       "<table border=\"1\" class=\"dataframe\">\n",
       "  <thead>\n",
       "    <tr style=\"text-align: right;\">\n",
       "      <th></th>\n",
       "      <th>Device</th>\n",
       "      <th>End Ts</th>\n",
       "      <th>Source Id</th>\n",
       "      <th>Start Ts</th>\n",
       "      <th>Uid</th>\n",
       "    </tr>\n",
       "  </thead>\n",
       "  <tbody>\n",
       "    <tr>\n",
       "      <td>0</td>\n",
       "      <td>touch</td>\n",
       "      <td>2017-12-20 17:38:00</td>\n",
       "      <td>4</td>\n",
       "      <td>2017-12-20 17:20:00</td>\n",
       "      <td>16879256277535980062</td>\n",
       "    </tr>\n",
       "    <tr>\n",
       "      <td>1</td>\n",
       "      <td>desktop</td>\n",
       "      <td>2018-02-19 17:21:00</td>\n",
       "      <td>2</td>\n",
       "      <td>2018-02-19 16:53:00</td>\n",
       "      <td>104060357244891740</td>\n",
       "    </tr>\n",
       "    <tr>\n",
       "      <td>2</td>\n",
       "      <td>touch</td>\n",
       "      <td>2017-07-01 01:54:00</td>\n",
       "      <td>5</td>\n",
       "      <td>2017-07-01 01:54:00</td>\n",
       "      <td>7459035603376831527</td>\n",
       "    </tr>\n",
       "  </tbody>\n",
       "</table>\n",
       "</div>"
      ],
      "text/plain": [
       "    Device              End Ts  Source Id            Start Ts  \\\n",
       "0    touch 2017-12-20 17:38:00          4 2017-12-20 17:20:00   \n",
       "1  desktop 2018-02-19 17:21:00          2 2018-02-19 16:53:00   \n",
       "2    touch 2017-07-01 01:54:00          5 2017-07-01 01:54:00   \n",
       "\n",
       "                    Uid  \n",
       "0  16879256277535980062  \n",
       "1    104060357244891740  \n",
       "2   7459035603376831527  "
      ]
     },
     "execution_count": 3,
     "metadata": {},
     "output_type": "execute_result"
    }
   ],
   "source": [
    "# check and modify the information in the file 'visits'\n",
    "# change the column format\n",
    "visits['End Ts'] = pd.to_datetime(visits['End Ts'])\n",
    "visits['Start Ts'] = pd.to_datetime(visits['Start Ts'])\n",
    "# check the common info about data set\n",
    "visits.info()\n",
    "print('')\n",
    "print('------------------------')\n",
    "# check duplicates\n",
    "print('number of duplicates: ',len(orders[orders.duplicated()]))\n",
    "visits.head(3)"
   ]
  },
  {
   "cell_type": "markdown",
   "metadata": {},
   "source": [
    "*Device — user device category <br>\n",
    "End Ts — date and time of the session end <br>\n",
    "Source Id — identifier of the advertising source from which the user came <br>\n",
    "Start Ts — date and time of session star <br>\n",
    "Uid — unique user ID <br>*"
   ]
  },
  {
   "cell_type": "code",
   "execution_count": 4,
   "metadata": {},
   "outputs": [
    {
     "name": "stdout",
     "output_type": "stream",
     "text": [
      "<class 'pandas.core.frame.DataFrame'>\n",
      "RangeIndex: 50415 entries, 0 to 50414\n",
      "Data columns (total 3 columns):\n",
      "Buy Ts     50415 non-null datetime64[ns]\n",
      "Revenue    50415 non-null float64\n",
      "Uid        50415 non-null uint64\n",
      "dtypes: datetime64[ns](1), float64(1), uint64(1)\n",
      "memory usage: 1.2 MB\n",
      "\n",
      "------------------------\n",
      "number of duplicates:  0\n"
     ]
    },
    {
     "data": {
      "text/html": [
       "<div>\n",
       "<style scoped>\n",
       "    .dataframe tbody tr th:only-of-type {\n",
       "        vertical-align: middle;\n",
       "    }\n",
       "\n",
       "    .dataframe tbody tr th {\n",
       "        vertical-align: top;\n",
       "    }\n",
       "\n",
       "    .dataframe thead th {\n",
       "        text-align: right;\n",
       "    }\n",
       "</style>\n",
       "<table border=\"1\" class=\"dataframe\">\n",
       "  <thead>\n",
       "    <tr style=\"text-align: right;\">\n",
       "      <th></th>\n",
       "      <th>Buy Ts</th>\n",
       "      <th>Revenue</th>\n",
       "      <th>Uid</th>\n",
       "    </tr>\n",
       "  </thead>\n",
       "  <tbody>\n",
       "    <tr>\n",
       "      <td>0</td>\n",
       "      <td>2017-06-01 00:10:00</td>\n",
       "      <td>17.00</td>\n",
       "      <td>10329302124590727494</td>\n",
       "    </tr>\n",
       "    <tr>\n",
       "      <td>1</td>\n",
       "      <td>2017-06-01 00:25:00</td>\n",
       "      <td>0.55</td>\n",
       "      <td>11627257723692907447</td>\n",
       "    </tr>\n",
       "    <tr>\n",
       "      <td>2</td>\n",
       "      <td>2017-06-01 00:27:00</td>\n",
       "      <td>0.37</td>\n",
       "      <td>17903680561304213844</td>\n",
       "    </tr>\n",
       "  </tbody>\n",
       "</table>\n",
       "</div>"
      ],
      "text/plain": [
       "               Buy Ts  Revenue                   Uid\n",
       "0 2017-06-01 00:10:00    17.00  10329302124590727494\n",
       "1 2017-06-01 00:25:00     0.55  11627257723692907447\n",
       "2 2017-06-01 00:27:00     0.37  17903680561304213844"
      ]
     },
     "execution_count": 4,
     "metadata": {},
     "output_type": "execute_result"
    }
   ],
   "source": [
    "# check and modify the information in the file 'orders'\n",
    "orders['Buy Ts'] = pd.to_datetime(orders['Buy Ts'])\n",
    "orders.info()\n",
    "print('')\n",
    "print('------------------------')\n",
    "print('number of duplicates: ',len(orders[orders.duplicated()]))\n",
    "orders.head(3)"
   ]
  },
  {
   "cell_type": "markdown",
   "metadata": {},
   "source": [
    "*Buy Ts - date and time of order <br>\n",
    "Revenue - \"Culture's\" revenue from this order <br>\n",
    "Uid - unique id of the user who made the order <br>*"
   ]
  },
  {
   "cell_type": "code",
   "execution_count": 5,
   "metadata": {},
   "outputs": [
    {
     "name": "stdout",
     "output_type": "stream",
     "text": [
      "<class 'pandas.core.frame.DataFrame'>\n",
      "RangeIndex: 2542 entries, 0 to 2541\n",
      "Data columns (total 3 columns):\n",
      "source_id    2542 non-null int64\n",
      "dt           2542 non-null datetime64[ns]\n",
      "costs        2542 non-null float64\n",
      "dtypes: datetime64[ns](1), float64(1), int64(1)\n",
      "memory usage: 59.7 KB\n",
      "\n",
      "------------------------\n",
      "number of duplicates:  0\n"
     ]
    },
    {
     "data": {
      "text/html": [
       "<div>\n",
       "<style scoped>\n",
       "    .dataframe tbody tr th:only-of-type {\n",
       "        vertical-align: middle;\n",
       "    }\n",
       "\n",
       "    .dataframe tbody tr th {\n",
       "        vertical-align: top;\n",
       "    }\n",
       "\n",
       "    .dataframe thead th {\n",
       "        text-align: right;\n",
       "    }\n",
       "</style>\n",
       "<table border=\"1\" class=\"dataframe\">\n",
       "  <thead>\n",
       "    <tr style=\"text-align: right;\">\n",
       "      <th></th>\n",
       "      <th>source_id</th>\n",
       "      <th>dt</th>\n",
       "      <th>costs</th>\n",
       "    </tr>\n",
       "  </thead>\n",
       "  <tbody>\n",
       "    <tr>\n",
       "      <td>0</td>\n",
       "      <td>1</td>\n",
       "      <td>2017-06-01</td>\n",
       "      <td>75.20</td>\n",
       "    </tr>\n",
       "    <tr>\n",
       "      <td>1</td>\n",
       "      <td>1</td>\n",
       "      <td>2017-06-02</td>\n",
       "      <td>62.25</td>\n",
       "    </tr>\n",
       "    <tr>\n",
       "      <td>2</td>\n",
       "      <td>1</td>\n",
       "      <td>2017-06-03</td>\n",
       "      <td>36.53</td>\n",
       "    </tr>\n",
       "  </tbody>\n",
       "</table>\n",
       "</div>"
      ],
      "text/plain": [
       "   source_id         dt  costs\n",
       "0          1 2017-06-01  75.20\n",
       "1          1 2017-06-02  62.25\n",
       "2          1 2017-06-03  36.53"
      ]
     },
     "execution_count": 5,
     "metadata": {},
     "output_type": "execute_result"
    }
   ],
   "source": [
    "# check and modify the information in the file 'costs'\n",
    "costs['dt'] = pd.to_datetime(costs['dt'])\n",
    "costs.info()\n",
    "print('')\n",
    "print('------------------------')\n",
    "print('number of duplicates: ',len(costs[costs.duplicated()]))\n",
    "costs.head(3)"
   ]
  },
  {
   "cell_type": "markdown",
   "metadata": {},
   "source": [
    "*source_id —  ID of  advertising sourse <br>\n",
    "dt — date <br>\n",
    "costs — spending of this advertising sourse on that date*"
   ]
  },
  {
   "cell_type": "markdown",
   "metadata": {},
   "source": [
    "#### The data is ready for the further analysis: no duplicates or NaN values.  The format of columns are correct, except for the date columns that have changed."
   ]
  },
  {
   "cell_type": "markdown",
   "metadata": {},
   "source": [
    "## Stage 2. Building a report and calculating metrics"
   ]
  },
  {
   "cell_type": "markdown",
   "metadata": {},
   "source": [
    "### Analysis of PRODUCT\n",
    "*How many people use the product per day, week, month?<br>\n",
    "How many sessions per day?<br>\n",
    "How long is the session?<br>\n",
    "How often do people come back?*"
   ]
  },
  {
   "cell_type": "code",
   "execution_count": 6,
   "metadata": {},
   "outputs": [
    {
     "data": {
      "text/html": [
       "<div>\n",
       "<style scoped>\n",
       "    .dataframe tbody tr th:only-of-type {\n",
       "        vertical-align: middle;\n",
       "    }\n",
       "\n",
       "    .dataframe tbody tr th {\n",
       "        vertical-align: top;\n",
       "    }\n",
       "\n",
       "    .dataframe thead th {\n",
       "        text-align: right;\n",
       "    }\n",
       "</style>\n",
       "<table border=\"1\" class=\"dataframe\">\n",
       "  <thead>\n",
       "    <tr style=\"text-align: right;\">\n",
       "      <th></th>\n",
       "      <th>Device</th>\n",
       "      <th>End Ts</th>\n",
       "      <th>Source Id</th>\n",
       "      <th>Start Ts</th>\n",
       "      <th>Uid</th>\n",
       "      <th>date</th>\n",
       "      <th>week</th>\n",
       "      <th>month</th>\n",
       "      <th>year</th>\n",
       "    </tr>\n",
       "  </thead>\n",
       "  <tbody>\n",
       "    <tr>\n",
       "      <td>0</td>\n",
       "      <td>touch</td>\n",
       "      <td>2017-12-20 17:38:00</td>\n",
       "      <td>4</td>\n",
       "      <td>2017-12-20 17:20:00</td>\n",
       "      <td>16879256277535980062</td>\n",
       "      <td>2017-12-20</td>\n",
       "      <td>51</td>\n",
       "      <td>12</td>\n",
       "      <td>2017</td>\n",
       "    </tr>\n",
       "    <tr>\n",
       "      <td>1</td>\n",
       "      <td>desktop</td>\n",
       "      <td>2018-02-19 17:21:00</td>\n",
       "      <td>2</td>\n",
       "      <td>2018-02-19 16:53:00</td>\n",
       "      <td>104060357244891740</td>\n",
       "      <td>2018-02-19</td>\n",
       "      <td>8</td>\n",
       "      <td>2</td>\n",
       "      <td>2018</td>\n",
       "    </tr>\n",
       "    <tr>\n",
       "      <td>2</td>\n",
       "      <td>touch</td>\n",
       "      <td>2017-07-01 01:54:00</td>\n",
       "      <td>5</td>\n",
       "      <td>2017-07-01 01:54:00</td>\n",
       "      <td>7459035603376831527</td>\n",
       "      <td>2017-07-01</td>\n",
       "      <td>26</td>\n",
       "      <td>7</td>\n",
       "      <td>2017</td>\n",
       "    </tr>\n",
       "  </tbody>\n",
       "</table>\n",
       "</div>"
      ],
      "text/plain": [
       "    Device              End Ts  Source Id            Start Ts  \\\n",
       "0    touch 2017-12-20 17:38:00          4 2017-12-20 17:20:00   \n",
       "1  desktop 2018-02-19 17:21:00          2 2018-02-19 16:53:00   \n",
       "2    touch 2017-07-01 01:54:00          5 2017-07-01 01:54:00   \n",
       "\n",
       "                    Uid        date  week  month  year  \n",
       "0  16879256277535980062  2017-12-20    51     12  2017  \n",
       "1    104060357244891740  2018-02-19     8      2  2018  \n",
       "2   7459035603376831527  2017-07-01    26      7  2017  "
      ]
     },
     "execution_count": 6,
     "metadata": {},
     "output_type": "execute_result"
    }
   ],
   "source": [
    "# add additional columns with date, week, month, year\n",
    "visits['date'] = visits['Start Ts'].dt.date\n",
    "visits['week'] = visits['Start Ts'].dt.week\n",
    "visits['month'] = visits['Start Ts'].dt.month\n",
    "visits['year'] = visits['Start Ts'].dt.year\n",
    "visits.head(3)"
   ]
  },
  {
   "cell_type": "code",
   "execution_count": 7,
   "metadata": {
    "scrolled": true
   },
   "outputs": [
    {
     "name": "stdout",
     "output_type": "stream",
     "text": [
      "number of months in the period under review:  12\n",
      "number of weeks in the period under review:  52\n",
      "number of days in the period under review:  364\n"
     ]
    }
   ],
   "source": [
    "# calculate values for  future calculations\n",
    "print('number of months in the period under review: ', visits['month'].value_counts().shape[0])\n",
    "print('number of weeks in the period under review: ', visits['week'].value_counts().shape[0])\n",
    "print('number of days in the period under review: ', visits['date'].value_counts().shape[0])"
   ]
  },
  {
   "cell_type": "markdown",
   "metadata": {},
   "source": [
    "**Number of unique users per day**"
   ]
  },
  {
   "cell_type": "code",
   "execution_count": 8,
   "metadata": {},
   "outputs": [
    {
     "data": {
      "text/plain": [
       "Uid    907.991758\n",
       "dtype: float64"
      ]
     },
     "execution_count": 8,
     "metadata": {},
     "output_type": "execute_result"
    }
   ],
   "source": [
    "visits.groupby('date').agg({'Uid': 'nunique'}).mean()"
   ]
  },
  {
   "cell_type": "markdown",
   "metadata": {},
   "source": [
    "****Number of unique users per week****"
   ]
  },
  {
   "cell_type": "code",
   "execution_count": 9,
   "metadata": {},
   "outputs": [
    {
     "data": {
      "text/plain": [
       "Uid    5825.288462\n",
       "dtype: float64"
      ]
     },
     "execution_count": 9,
     "metadata": {},
     "output_type": "execute_result"
    }
   ],
   "source": [
    "visits.groupby('week').agg({'Uid': 'nunique'}).mean()"
   ]
  },
  {
   "cell_type": "markdown",
   "metadata": {},
   "source": [
    "**Number of unique users per month**"
   ]
  },
  {
   "cell_type": "code",
   "execution_count": 10,
   "metadata": {},
   "outputs": [
    {
     "data": {
      "text/plain": [
       "Uid    23228.416667\n",
       "dtype: float64"
      ]
     },
     "execution_count": 10,
     "metadata": {},
     "output_type": "execute_result"
    }
   ],
   "source": [
    "visits.groupby('month').agg({'Uid': 'nunique'}).mean()"
   ]
  },
  {
   "cell_type": "markdown",
   "metadata": {},
   "source": [
    "**Number of sessions per day**"
   ]
  },
  {
   "cell_type": "code",
   "execution_count": 11,
   "metadata": {
    "scrolled": true
   },
   "outputs": [
    {
     "data": {
      "text/plain": [
       "Uid    987.362637\n",
       "dtype: float64"
      ]
     },
     "execution_count": 11,
     "metadata": {},
     "output_type": "execute_result"
    }
   ],
   "source": [
    "visits.groupby('date').agg({'Uid': 'count'}).mean()"
   ]
  },
  {
   "cell_type": "markdown",
   "metadata": {},
   "source": [
    "**Calculate the one session duration**"
   ]
  },
  {
   "cell_type": "code",
   "execution_count": 12,
   "metadata": {},
   "outputs": [
    {
     "data": {
      "image/png": "[encoded data removed]",
      "text/plain": [
       "<Figure size 432x288 with 1 Axes>"
      ]
     },
     "metadata": {
      "needs_background": "light"
     },
     "output_type": "display_data"
    }
   ],
   "source": [
    "# add additional column with session duration in seconds\n",
    "visits['session_duration_sec'] = (visits['End Ts'] - visits['Start Ts']).dt.seconds\n",
    "# build histogram\n",
    "visits['session_duration_sec'].hist(bins = 50)\n",
    "plt.title('One session duration')\n",
    "plt.xlabel('seconds')\n",
    "plt.ylabel('number of users')\n",
    "plt.show()"
   ]
  },
  {
   "cell_type": "code",
   "execution_count": 13,
   "metadata": {},
   "outputs": [
    {
     "data": {
      "text/plain": [
       "count    359400.000000\n",
       "mean        643.506489\n",
       "std        1016.334786\n",
       "min           0.000000\n",
       "25%         120.000000\n",
       "50%         300.000000\n",
       "75%         840.000000\n",
       "max       84480.000000\n",
       "Name: session_duration_sec, dtype: float64"
      ]
     },
     "execution_count": 13,
     "metadata": {},
     "output_type": "execute_result"
    }
   ],
   "source": [
    "# Look at min, max, mean and median values in session duration\n",
    "visits['session_duration_sec'].describe()"
   ]
  },
  {
   "cell_type": "markdown",
   "metadata": {},
   "source": [
    "##### We can see on the histogram the distribution is not normal. There are abnormal values, which have a significant impact on the average value. The better way to calculate mode value (the most frequent value)"
   ]
  },
  {
   "cell_type": "code",
   "execution_count": 14,
   "metadata": {
    "scrolled": true
   },
   "outputs": [
    {
     "name": "stdout",
     "output_type": "stream",
     "text": [
      "mean duration, sec:  643.506488592098\n",
      "median duration, sec:  300.0\n",
      "mode duration, sec:  0    60\n",
      "dtype: int64\n"
     ]
    }
   ],
   "source": [
    "print('mean duration, sec: ', visits['session_duration_sec'].mean())\n",
    "print('median duration, sec: ', visits['session_duration_sec'].median())\n",
    "print('mode duration, sec: ', visits['session_duration_sec'].mode())"
   ]
  },
  {
   "cell_type": "markdown",
   "metadata": {},
   "source": [
    "**Perform the analysis how often people return: Retention Rate**"
   ]
  },
  {
   "cell_type": "code",
   "execution_count": 15,
   "metadata": {},
   "outputs": [],
   "source": [
    "# Form a cohort on the first activity in the website \n",
    "first_activity_date = visits.groupby(['Uid'])['Start Ts'].min()\n",
    "first_activity_date.name = 'first_activity_date'\n",
    "visits = visits.join(first_activity_date, on = 'Uid')"
   ]
  },
  {
   "cell_type": "code",
   "execution_count": 16,
   "metadata": {},
   "outputs": [],
   "source": [
    "# extract from date in columns 'Start Ts' and 'first_activity_date' month\n",
    "visits['order_month'] = visits['Start Ts'].astype('datetime64[M]')\n",
    "visits['first_order_month'] = visits['first_activity_date'].astype('datetime64[M]')"
   ]
  },
  {
   "cell_type": "code",
   "execution_count": 17,
   "metadata": {},
   "outputs": [
    {
     "data": {
      "text/html": [
       "<div>\n",
       "<style scoped>\n",
       "    .dataframe tbody tr th:only-of-type {\n",
       "        vertical-align: middle;\n",
       "    }\n",
       "\n",
       "    .dataframe tbody tr th {\n",
       "        vertical-align: top;\n",
       "    }\n",
       "\n",
       "    .dataframe thead th {\n",
       "        text-align: right;\n",
       "    }\n",
       "</style>\n",
       "<table border=\"1\" class=\"dataframe\">\n",
       "  <thead>\n",
       "    <tr style=\"text-align: right;\">\n",
       "      <th></th>\n",
       "      <th>Device</th>\n",
       "      <th>End Ts</th>\n",
       "      <th>Source Id</th>\n",
       "      <th>Start Ts</th>\n",
       "      <th>Uid</th>\n",
       "      <th>date</th>\n",
       "      <th>week</th>\n",
       "      <th>month</th>\n",
       "      <th>year</th>\n",
       "      <th>session_duration_sec</th>\n",
       "      <th>first_activity_date</th>\n",
       "      <th>order_month</th>\n",
       "      <th>first_order_month</th>\n",
       "      <th>cohort_lifetime</th>\n",
       "    </tr>\n",
       "  </thead>\n",
       "  <tbody>\n",
       "    <tr>\n",
       "      <td>0</td>\n",
       "      <td>touch</td>\n",
       "      <td>2017-12-20 17:38:00</td>\n",
       "      <td>4</td>\n",
       "      <td>2017-12-20 17:20:00</td>\n",
       "      <td>16879256277535980062</td>\n",
       "      <td>2017-12-20</td>\n",
       "      <td>51</td>\n",
       "      <td>12</td>\n",
       "      <td>2017</td>\n",
       "      <td>1080</td>\n",
       "      <td>2017-12-20 17:20:00</td>\n",
       "      <td>2017-12-01</td>\n",
       "      <td>2017-12-01</td>\n",
       "      <td>0</td>\n",
       "    </tr>\n",
       "    <tr>\n",
       "      <td>1</td>\n",
       "      <td>desktop</td>\n",
       "      <td>2018-02-19 17:21:00</td>\n",
       "      <td>2</td>\n",
       "      <td>2018-02-19 16:53:00</td>\n",
       "      <td>104060357244891740</td>\n",
       "      <td>2018-02-19</td>\n",
       "      <td>8</td>\n",
       "      <td>2</td>\n",
       "      <td>2018</td>\n",
       "      <td>1680</td>\n",
       "      <td>2018-02-19 16:53:00</td>\n",
       "      <td>2018-02-01</td>\n",
       "      <td>2018-02-01</td>\n",
       "      <td>0</td>\n",
       "    </tr>\n",
       "    <tr>\n",
       "      <td>2</td>\n",
       "      <td>touch</td>\n",
       "      <td>2017-07-01 01:54:00</td>\n",
       "      <td>5</td>\n",
       "      <td>2017-07-01 01:54:00</td>\n",
       "      <td>7459035603376831527</td>\n",
       "      <td>2017-07-01</td>\n",
       "      <td>26</td>\n",
       "      <td>7</td>\n",
       "      <td>2017</td>\n",
       "      <td>0</td>\n",
       "      <td>2017-07-01 01:54:00</td>\n",
       "      <td>2017-07-01</td>\n",
       "      <td>2017-07-01</td>\n",
       "      <td>0</td>\n",
       "    </tr>\n",
       "  </tbody>\n",
       "</table>\n",
       "</div>"
      ],
      "text/plain": [
       "    Device              End Ts  Source Id            Start Ts  \\\n",
       "0    touch 2017-12-20 17:38:00          4 2017-12-20 17:20:00   \n",
       "1  desktop 2018-02-19 17:21:00          2 2018-02-19 16:53:00   \n",
       "2    touch 2017-07-01 01:54:00          5 2017-07-01 01:54:00   \n",
       "\n",
       "                    Uid        date  week  month  year  session_duration_sec  \\\n",
       "0  16879256277535980062  2017-12-20    51     12  2017                  1080   \n",
       "1    104060357244891740  2018-02-19     8      2  2018                  1680   \n",
       "2   7459035603376831527  2017-07-01    26      7  2017                     0   \n",
       "\n",
       "  first_activity_date order_month first_order_month  cohort_lifetime  \n",
       "0 2017-12-20 17:20:00  2017-12-01        2017-12-01                0  \n",
       "1 2018-02-19 16:53:00  2018-02-01        2018-02-01                0  \n",
       "2 2017-07-01 01:54:00  2017-07-01        2017-07-01                0  "
      ]
     },
     "execution_count": 17,
     "metadata": {},
     "output_type": "execute_result"
    }
   ],
   "source": [
    "# For each row of the dataframe, calculate the user lifetime within the cohort\n",
    "visits['cohort_lifetime'] = visits['order_month'] - visits['first_order_month']\n",
    "visits['cohort_lifetime'] = visits['cohort_lifetime'] / np.timedelta64(1,'M')\n",
    "visits['cohort_lifetime'] = visits['cohort_lifetime'].astype('int')\n",
    "visits.head(3)"
   ]
  },
  {
   "cell_type": "code",
   "execution_count": 18,
   "metadata": {
    "scrolled": false
   },
   "outputs": [
    {
     "data": {
      "text/html": [
       "<div>\n",
       "<style scoped>\n",
       "    .dataframe tbody tr th:only-of-type {\n",
       "        vertical-align: middle;\n",
       "    }\n",
       "\n",
       "    .dataframe tbody tr th {\n",
       "        vertical-align: top;\n",
       "    }\n",
       "\n",
       "    .dataframe thead th {\n",
       "        text-align: right;\n",
       "    }\n",
       "</style>\n",
       "<table border=\"1\" class=\"dataframe\">\n",
       "  <thead>\n",
       "    <tr style=\"text-align: right;\">\n",
       "      <th></th>\n",
       "      <th>first_order_month</th>\n",
       "      <th>cohort_lifetime</th>\n",
       "      <th>Uid</th>\n",
       "    </tr>\n",
       "  </thead>\n",
       "  <tbody>\n",
       "    <tr>\n",
       "      <td>0</td>\n",
       "      <td>2017-06-01</td>\n",
       "      <td>0</td>\n",
       "      <td>13259</td>\n",
       "    </tr>\n",
       "    <tr>\n",
       "      <td>1</td>\n",
       "      <td>2017-06-01</td>\n",
       "      <td>2</td>\n",
       "      <td>713</td>\n",
       "    </tr>\n",
       "    <tr>\n",
       "      <td>2</td>\n",
       "      <td>2017-06-01</td>\n",
       "      <td>3</td>\n",
       "      <td>814</td>\n",
       "    </tr>\n",
       "    <tr>\n",
       "      <td>3</td>\n",
       "      <td>2017-06-01</td>\n",
       "      <td>4</td>\n",
       "      <td>909</td>\n",
       "    </tr>\n",
       "    <tr>\n",
       "      <td>4</td>\n",
       "      <td>2017-06-01</td>\n",
       "      <td>5</td>\n",
       "      <td>947</td>\n",
       "    </tr>\n",
       "  </tbody>\n",
       "</table>\n",
       "</div>"
      ],
      "text/plain": [
       "  first_order_month  cohort_lifetime    Uid\n",
       "0        2017-06-01                0  13259\n",
       "1        2017-06-01                2    713\n",
       "2        2017-06-01                3    814\n",
       "3        2017-06-01                4    909\n",
       "4        2017-06-01                5    947"
      ]
     },
     "execution_count": 18,
     "metadata": {},
     "output_type": "execute_result"
    }
   ],
   "source": [
    "# Group data by 'cohort' and 'cohort_lifetime'.\n",
    "# Calculate the number of active users for a certain \"month of life\"\n",
    "cohorts = visits.groupby(\n",
    "    ['first_order_month','cohort_lifetime']).agg({'Uid':'nunique'}).reset_index()\n",
    "cohorts.head()"
   ]
  },
  {
   "cell_type": "code",
   "execution_count": 19,
   "metadata": {},
   "outputs": [
    {
     "data": {
      "text/html": [
       "<div>\n",
       "<style scoped>\n",
       "    .dataframe tbody tr th:only-of-type {\n",
       "        vertical-align: middle;\n",
       "    }\n",
       "\n",
       "    .dataframe tbody tr th {\n",
       "        vertical-align: top;\n",
       "    }\n",
       "\n",
       "    .dataframe thead th {\n",
       "        text-align: right;\n",
       "    }\n",
       "</style>\n",
       "<table border=\"1\" class=\"dataframe\">\n",
       "  <thead>\n",
       "    <tr style=\"text-align: right;\">\n",
       "      <th></th>\n",
       "      <th>first_order_month</th>\n",
       "      <th>Uid</th>\n",
       "    </tr>\n",
       "  </thead>\n",
       "  <tbody>\n",
       "    <tr>\n",
       "      <td>0</td>\n",
       "      <td>2017-06-01</td>\n",
       "      <td>13259</td>\n",
       "    </tr>\n",
       "    <tr>\n",
       "      <td>10</td>\n",
       "      <td>2017-07-01</td>\n",
       "      <td>13140</td>\n",
       "    </tr>\n",
       "    <tr>\n",
       "      <td>19</td>\n",
       "      <td>2017-08-01</td>\n",
       "      <td>10181</td>\n",
       "    </tr>\n",
       "  </tbody>\n",
       "</table>\n",
       "</div>"
      ],
      "text/plain": [
       "   first_order_month    Uid\n",
       "0         2017-06-01  13259\n",
       "10        2017-07-01  13140\n",
       "19        2017-08-01  10181"
      ]
     },
     "execution_count": 19,
     "metadata": {},
     "output_type": "execute_result"
    }
   ],
   "source": [
    "# Find the initial number of users for each cohort. This is a number of users in zero week\n",
    "initial_users_count = cohorts[cohorts['cohort_lifetime'] == 0][['first_order_month','Uid']]\n",
    "initial_users_count.head(3)"
   ]
  },
  {
   "cell_type": "code",
   "execution_count": 20,
   "metadata": {},
   "outputs": [
    {
     "data": {
      "text/html": [
       "<div>\n",
       "<style scoped>\n",
       "    .dataframe tbody tr th:only-of-type {\n",
       "        vertical-align: middle;\n",
       "    }\n",
       "\n",
       "    .dataframe tbody tr th {\n",
       "        vertical-align: top;\n",
       "    }\n",
       "\n",
       "    .dataframe thead th {\n",
       "        text-align: right;\n",
       "    }\n",
       "</style>\n",
       "<table border=\"1\" class=\"dataframe\">\n",
       "  <thead>\n",
       "    <tr style=\"text-align: right;\">\n",
       "      <th></th>\n",
       "      <th>first_order_month</th>\n",
       "      <th>cohort_users</th>\n",
       "    </tr>\n",
       "  </thead>\n",
       "  <tbody>\n",
       "    <tr>\n",
       "      <td>0</td>\n",
       "      <td>2017-06-01</td>\n",
       "      <td>13259</td>\n",
       "    </tr>\n",
       "    <tr>\n",
       "      <td>10</td>\n",
       "      <td>2017-07-01</td>\n",
       "      <td>13140</td>\n",
       "    </tr>\n",
       "    <tr>\n",
       "      <td>19</td>\n",
       "      <td>2017-08-01</td>\n",
       "      <td>10181</td>\n",
       "    </tr>\n",
       "  </tbody>\n",
       "</table>\n",
       "</div>"
      ],
      "text/plain": [
       "   first_order_month  cohort_users\n",
       "0         2017-06-01         13259\n",
       "10        2017-07-01         13140\n",
       "19        2017-08-01         10181"
      ]
     },
     "execution_count": 20,
     "metadata": {},
     "output_type": "execute_result"
    }
   ],
   "source": [
    "# change the column name from Uid to initial_users_count\n",
    "initial_users_count = initial_users_count.rename(columns={'Uid':'cohort_users'})\n",
    "initial_users_count.head(3)"
   ]
  },
  {
   "cell_type": "code",
   "execution_count": 21,
   "metadata": {},
   "outputs": [
    {
     "data": {
      "text/html": [
       "<div>\n",
       "<style scoped>\n",
       "    .dataframe tbody tr th:only-of-type {\n",
       "        vertical-align: middle;\n",
       "    }\n",
       "\n",
       "    .dataframe tbody tr th {\n",
       "        vertical-align: top;\n",
       "    }\n",
       "\n",
       "    .dataframe thead th {\n",
       "        text-align: right;\n",
       "    }\n",
       "</style>\n",
       "<table border=\"1\" class=\"dataframe\">\n",
       "  <thead>\n",
       "    <tr style=\"text-align: right;\">\n",
       "      <th></th>\n",
       "      <th>first_order_month</th>\n",
       "      <th>cohort_lifetime</th>\n",
       "      <th>Uid</th>\n",
       "      <th>cohort_users</th>\n",
       "    </tr>\n",
       "  </thead>\n",
       "  <tbody>\n",
       "    <tr>\n",
       "      <td>0</td>\n",
       "      <td>2017-06-01</td>\n",
       "      <td>0</td>\n",
       "      <td>13259</td>\n",
       "      <td>13259</td>\n",
       "    </tr>\n",
       "    <tr>\n",
       "      <td>1</td>\n",
       "      <td>2017-06-01</td>\n",
       "      <td>2</td>\n",
       "      <td>713</td>\n",
       "      <td>13259</td>\n",
       "    </tr>\n",
       "    <tr>\n",
       "      <td>2</td>\n",
       "      <td>2017-06-01</td>\n",
       "      <td>3</td>\n",
       "      <td>814</td>\n",
       "      <td>13259</td>\n",
       "    </tr>\n",
       "  </tbody>\n",
       "</table>\n",
       "</div>"
      ],
      "text/plain": [
       "  first_order_month  cohort_lifetime    Uid  cohort_users\n",
       "0        2017-06-01                0  13259         13259\n",
       "1        2017-06-01                2    713         13259\n",
       "2        2017-06-01                3    814         13259"
      ]
     },
     "execution_count": 21,
     "metadata": {},
     "output_type": "execute_result"
    }
   ],
   "source": [
    "# Add initial number of user in cohorts table\n",
    "cohorts = cohorts.merge(initial_users_count, on='first_order_month')\n",
    "cohorts['first_order_month'] = cohorts['first_order_month'].dt.date\n",
    "cohorts.head(3)"
   ]
  },
  {
   "cell_type": "code",
   "execution_count": 22,
   "metadata": {},
   "outputs": [
    {
     "data": {
      "text/html": [
       "<div>\n",
       "<style scoped>\n",
       "    .dataframe tbody tr th:only-of-type {\n",
       "        vertical-align: middle;\n",
       "    }\n",
       "\n",
       "    .dataframe tbody tr th {\n",
       "        vertical-align: top;\n",
       "    }\n",
       "\n",
       "    .dataframe thead th {\n",
       "        text-align: right;\n",
       "    }\n",
       "</style>\n",
       "<table border=\"1\" class=\"dataframe\">\n",
       "  <thead>\n",
       "    <tr style=\"text-align: right;\">\n",
       "      <th></th>\n",
       "      <th>first_order_month</th>\n",
       "      <th>cohort_lifetime</th>\n",
       "      <th>Uid</th>\n",
       "      <th>cohort_users</th>\n",
       "      <th>retention</th>\n",
       "    </tr>\n",
       "  </thead>\n",
       "  <tbody>\n",
       "    <tr>\n",
       "      <td>0</td>\n",
       "      <td>2017-06-01</td>\n",
       "      <td>0</td>\n",
       "      <td>13259</td>\n",
       "      <td>13259</td>\n",
       "      <td>1.000000</td>\n",
       "    </tr>\n",
       "    <tr>\n",
       "      <td>1</td>\n",
       "      <td>2017-06-01</td>\n",
       "      <td>2</td>\n",
       "      <td>713</td>\n",
       "      <td>13259</td>\n",
       "      <td>0.053775</td>\n",
       "    </tr>\n",
       "    <tr>\n",
       "      <td>2</td>\n",
       "      <td>2017-06-01</td>\n",
       "      <td>3</td>\n",
       "      <td>814</td>\n",
       "      <td>13259</td>\n",
       "      <td>0.061392</td>\n",
       "    </tr>\n",
       "  </tbody>\n",
       "</table>\n",
       "</div>"
      ],
      "text/plain": [
       "  first_order_month  cohort_lifetime    Uid  cohort_users  retention\n",
       "0        2017-06-01                0  13259         13259   1.000000\n",
       "1        2017-06-01                2    713         13259   0.053775\n",
       "2        2017-06-01                3    814         13259   0.061392"
      ]
     },
     "execution_count": 22,
     "metadata": {},
     "output_type": "execute_result"
    }
   ],
   "source": [
    "# Calculate Retention Rate\n",
    "cohorts['retention'] = cohorts['Uid']/cohorts['cohort_users']\n",
    "cohorts.head(3)"
   ]
  },
  {
   "cell_type": "code",
   "execution_count": 23,
   "metadata": {},
   "outputs": [],
   "source": [
    "# Create pivot table \n",
    "retention_pivot = cohorts.pivot_table(index='first_order_month',\n",
    "                                      columns='cohort_lifetime',values='retention',\n",
    "                                      aggfunc='sum')"
   ]
  },
  {
   "cell_type": "code",
   "execution_count": 24,
   "metadata": {
    "scrolled": false
   },
   "outputs": [
    {
     "data": {
      "image/png": "[encoded data removed]",
      "text/plain": [
       "<Figure size 936x648 with 2 Axes>"
      ]
     },
     "metadata": {},
     "output_type": "display_data"
    }
   ],
   "source": [
    "# Build heatmap\n",
    "sns.set(style='white')\n",
    "plt.figure(figsize=(13, 9))\n",
    "plt.title('Cohorts: User Retention')\n",
    "sns.heatmap(retention_pivot, annot=True, fmt='.2%', linewidths=1, linecolor='gray');"
   ]
  },
  {
   "cell_type": "markdown",
   "metadata": {},
   "source": [
    "### Сonclusions: \n",
    " - Number of unique users per day:  908\n",
    " - Number of unique users per week:  5825\n",
    " - Number of unique users per month:  23228\n",
    " - Mean number of session per day:  987\n",
    " - Mean session duration :  300 sec\n",
    " - Moad session duration:  60 sec\n",
    " - Retention Rate:  1,9% - 10,0%. (*These are very low values, which means that most of the clients are leaving irretrievably. Also, in the latter cohorts, there is a significant  Retention Rate decrease to 2%. This may indicate that the effectiveness of marketing advertising decreases over time.*)"
   ]
  },
  {
   "cell_type": "markdown",
   "metadata": {},
   "source": [
    "### SALES analysis\n",
    "*When do people start buying? <br>\n",
    "How many times are purchased per period? <br>\n",
    "What is the average check? <br>\n",
    "How much money do they bring? (LTV)*"
   ]
  },
  {
   "cell_type": "code",
   "execution_count": 25,
   "metadata": {},
   "outputs": [
    {
     "name": "stdout",
     "output_type": "stream",
     "text": [
      "<class 'pandas.core.frame.DataFrame'>\n",
      "RangeIndex: 50415 entries, 0 to 50414\n",
      "Data columns (total 3 columns):\n",
      "Buy Ts     50415 non-null datetime64[ns]\n",
      "Revenue    50415 non-null float64\n",
      "Uid        50415 non-null uint64\n",
      "dtypes: datetime64[ns](1), float64(1), uint64(1)\n",
      "memory usage: 1.2 MB\n"
     ]
    },
    {
     "data": {
      "text/html": [
       "<div>\n",
       "<style scoped>\n",
       "    .dataframe tbody tr th:only-of-type {\n",
       "        vertical-align: middle;\n",
       "    }\n",
       "\n",
       "    .dataframe tbody tr th {\n",
       "        vertical-align: top;\n",
       "    }\n",
       "\n",
       "    .dataframe thead th {\n",
       "        text-align: right;\n",
       "    }\n",
       "</style>\n",
       "<table border=\"1\" class=\"dataframe\">\n",
       "  <thead>\n",
       "    <tr style=\"text-align: right;\">\n",
       "      <th></th>\n",
       "      <th>Buy Ts</th>\n",
       "      <th>Revenue</th>\n",
       "      <th>Uid</th>\n",
       "    </tr>\n",
       "  </thead>\n",
       "  <tbody>\n",
       "    <tr>\n",
       "      <td>0</td>\n",
       "      <td>2017-06-01 00:10:00</td>\n",
       "      <td>17.00</td>\n",
       "      <td>10329302124590727494</td>\n",
       "    </tr>\n",
       "    <tr>\n",
       "      <td>1</td>\n",
       "      <td>2017-06-01 00:25:00</td>\n",
       "      <td>0.55</td>\n",
       "      <td>11627257723692907447</td>\n",
       "    </tr>\n",
       "    <tr>\n",
       "      <td>2</td>\n",
       "      <td>2017-06-01 00:27:00</td>\n",
       "      <td>0.37</td>\n",
       "      <td>17903680561304213844</td>\n",
       "    </tr>\n",
       "  </tbody>\n",
       "</table>\n",
       "</div>"
      ],
      "text/plain": [
       "               Buy Ts  Revenue                   Uid\n",
       "0 2017-06-01 00:10:00    17.00  10329302124590727494\n",
       "1 2017-06-01 00:25:00     0.55  11627257723692907447\n",
       "2 2017-06-01 00:27:00     0.37  17903680561304213844"
      ]
     },
     "execution_count": 25,
     "metadata": {},
     "output_type": "execute_result"
    }
   ],
   "source": [
    "orders.info()\n",
    "orders.head(3)"
   ]
  },
  {
   "cell_type": "markdown",
   "metadata": {},
   "source": [
    "**When do people start buying?**"
   ]
  },
  {
   "cell_type": "code",
   "execution_count": 26,
   "metadata": {},
   "outputs": [
    {
     "data": {
      "text/html": [
       "<div>\n",
       "<style scoped>\n",
       "    .dataframe tbody tr th:only-of-type {\n",
       "        vertical-align: middle;\n",
       "    }\n",
       "\n",
       "    .dataframe tbody tr th {\n",
       "        vertical-align: top;\n",
       "    }\n",
       "\n",
       "    .dataframe thead th {\n",
       "        text-align: right;\n",
       "    }\n",
       "</style>\n",
       "<table border=\"1\" class=\"dataframe\">\n",
       "  <thead>\n",
       "    <tr style=\"text-align: right;\">\n",
       "      <th></th>\n",
       "      <th>Buy Ts</th>\n",
       "      <th>Revenue</th>\n",
       "      <th>Uid</th>\n",
       "      <th>first_activity_date</th>\n",
       "    </tr>\n",
       "  </thead>\n",
       "  <tbody>\n",
       "    <tr>\n",
       "      <td>0</td>\n",
       "      <td>2017-06-01 00:10:00</td>\n",
       "      <td>17.00</td>\n",
       "      <td>10329302124590727494</td>\n",
       "      <td>2017-06-01 00:09:00</td>\n",
       "    </tr>\n",
       "    <tr>\n",
       "      <td>1</td>\n",
       "      <td>2017-06-01 00:25:00</td>\n",
       "      <td>0.55</td>\n",
       "      <td>11627257723692907447</td>\n",
       "      <td>2017-06-01 00:14:00</td>\n",
       "    </tr>\n",
       "    <tr>\n",
       "      <td>2</td>\n",
       "      <td>2017-06-01 00:27:00</td>\n",
       "      <td>0.37</td>\n",
       "      <td>17903680561304213844</td>\n",
       "      <td>2017-06-01 00:25:00</td>\n",
       "    </tr>\n",
       "  </tbody>\n",
       "</table>\n",
       "</div>"
      ],
      "text/plain": [
       "               Buy Ts  Revenue                   Uid first_activity_date\n",
       "0 2017-06-01 00:10:00    17.00  10329302124590727494 2017-06-01 00:09:00\n",
       "1 2017-06-01 00:25:00     0.55  11627257723692907447 2017-06-01 00:14:00\n",
       "2 2017-06-01 00:27:00     0.37  17903680561304213844 2017-06-01 00:25:00"
      ]
     },
     "execution_count": 26,
     "metadata": {},
     "output_type": "execute_result"
    }
   ],
   "source": [
    "# add information about first visit in 'orders' table\n",
    "orders_new = pd.merge(orders, visits[['Uid','first_activity_date']], on='Uid', how='left')\n",
    "orders_new = orders_new.drop_duplicates().reset_index(drop=True)\n",
    "orders_new.head(3)"
   ]
  },
  {
   "cell_type": "code",
   "execution_count": 27,
   "metadata": {},
   "outputs": [
    {
     "name": "stdout",
     "output_type": "stream",
     "text": [
      "The number of clients who made an order on the day of the visit:  28103\n",
      "Total number of clients:  50415\n"
     ]
    }
   ],
   "source": [
    "# посчитаем, через сколько дней после первого визита делали первый заказ\n",
    "orders_new['first_order'] = (orders_new['Buy Ts'] - orders_new['first_activity_date']).dt.days\n",
    "\n",
    "orders_new_pivot = orders_new.pivot_table(index = 'first_order', values = 'Uid', \n",
    "                 aggfunc = 'count').sort_values(by='Uid',ascending = False).reset_index()\n",
    "\n",
    "#orders_new_pivot\n",
    "print('The number of clients who made an order on the day of the visit: ', orders_new_pivot.loc[0,'Uid'])\n",
    "print('Total number of clients: ', orders_new_pivot['Uid'].sum())"
   ]
  },
  {
   "cell_type": "code",
   "execution_count": 28,
   "metadata": {},
   "outputs": [
    {
     "name": "stdout",
     "output_type": "stream",
     "text": [
      "Percentage of orders made on the first day of registration: 55.7%\n"
     ]
    }
   ],
   "source": [
    "print('Percentage of orders made on the first day of registration: {:.1%}'. format(\n",
    "    orders_new_pivot.loc[0,'Uid']/orders_new_pivot['Uid'].sum()))"
   ]
  },
  {
   "cell_type": "markdown",
   "metadata": {},
   "source": [
    "##### The majority of users - 55.7%, make the first order on the first day of visiting the site."
   ]
  },
  {
   "cell_type": "markdown",
   "metadata": {},
   "source": [
    "**How many times are purchased per period? **"
   ]
  },
  {
   "cell_type": "code",
   "execution_count": 29,
   "metadata": {},
   "outputs": [
    {
     "name": "stdout",
     "output_type": "stream",
     "text": [
      "Total revenue is: 252057.2 \n"
     ]
    }
   ],
   "source": [
    "# calculate total revenue\n",
    "print('Total revenue is: {:.1f} '. format(orders['Revenue'].sum()))"
   ]
  },
  {
   "cell_type": "code",
   "execution_count": 30,
   "metadata": {},
   "outputs": [
    {
     "name": "stdout",
     "output_type": "stream",
     "text": [
      "Avarage number of purchases per user per: \n",
      "year : 1.38\n",
      "month : 0.12\n",
      "week : 0.03\n",
      "day : 0.004\n"
     ]
    }
   ],
   "source": [
    "# Number of purchases per client per year\n",
    "orders_by_period = orders_new.pivot_table(index = 'Uid',values = 'Revenue',aggfunc = 'count'\n",
    "                            ).sort_values(by='Revenue',ascending = False).reset_index()\n",
    "orders_by_period.columns = ['Uid','count_of_orders']\n",
    "orders_by_period['by_month'] = orders_by_period['count_of_orders']/12\n",
    "orders_by_period['by_week'] = orders_by_period['count_of_orders']/52\n",
    "orders_by_period['by_day'] = orders_by_period['count_of_orders']/364\n",
    "\n",
    "\n",
    "print('Avarage number of purchases per user per: ')\n",
    "print('year : {:.2f}'. format(orders_by_period['count_of_orders'].mean()))\n",
    "print('month : {:.2f}'. format(orders_by_period['by_month'].mean()))\n",
    "print('week : {:.2f}'. format(orders_by_period['by_week'].mean()))\n",
    "print('day : {:.3f}'. format(orders_by_period['by_day'].mean()))"
   ]
  },
  {
   "cell_type": "markdown",
   "metadata": {},
   "source": [
    "**What is the average check?**"
   ]
  },
  {
   "cell_type": "code",
   "execution_count": 31,
   "metadata": {},
   "outputs": [
    {
     "name": "stdout",
     "output_type": "stream",
     "text": [
      "Avarage check per user per: \n",
      "year : 6.90 y.e.\n",
      "month : 0.58 y.e.\n",
      "week : 0.13 y.e.\n",
      "day : 0.019 y.e.\n"
     ]
    }
   ],
   "source": [
    "orders_by_period_revenue = orders_new.pivot_table(index = 'Uid',values = 'Revenue',aggfunc = 'sum'\n",
    "                            ).sort_values(by='Revenue',ascending = False).reset_index()\n",
    "orders_by_period_revenue['by_month'] = orders_by_period_revenue['Revenue']/12\n",
    "orders_by_period_revenue['by_week'] = orders_by_period_revenue['Revenue']/52\n",
    "orders_by_period_revenue['by_day'] = orders_by_period_revenue['Revenue']/364\n",
    "\n",
    "print('Avarage check per user per: ')\n",
    "print('year : {:.2f}'. format(orders_by_period_revenue['Revenue'].mean()), 'y.e.')\n",
    "print('month : {:.2f}'. format(orders_by_period_revenue['by_month'].mean()), 'y.e.')\n",
    "print('week : {:.2f}'. format(orders_by_period_revenue['by_week'].mean()), 'y.e.')\n",
    "print('day : {:.3f}'. format(orders_by_period_revenue['by_day'].mean()), 'y.e.')"
   ]
  },
  {
   "cell_type": "markdown",
   "metadata": {},
   "source": [
    "**How much money do client bring? (LTV)**"
   ]
  },
  {
   "cell_type": "markdown",
   "metadata": {},
   "source": [
    "##### Form monthly cohorts by the month of the first purchase"
   ]
  },
  {
   "cell_type": "code",
   "execution_count": 32,
   "metadata": {},
   "outputs": [
    {
     "data": {
      "text/html": [
       "<div>\n",
       "<style scoped>\n",
       "    .dataframe tbody tr th:only-of-type {\n",
       "        vertical-align: middle;\n",
       "    }\n",
       "\n",
       "    .dataframe tbody tr th {\n",
       "        vertical-align: top;\n",
       "    }\n",
       "\n",
       "    .dataframe thead th {\n",
       "        text-align: right;\n",
       "    }\n",
       "</style>\n",
       "<table border=\"1\" class=\"dataframe\">\n",
       "  <thead>\n",
       "    <tr style=\"text-align: right;\">\n",
       "      <th></th>\n",
       "      <th>Buy Ts</th>\n",
       "      <th>Revenue</th>\n",
       "      <th>Uid</th>\n",
       "      <th>order_month</th>\n",
       "    </tr>\n",
       "  </thead>\n",
       "  <tbody>\n",
       "    <tr>\n",
       "      <td>0</td>\n",
       "      <td>2017-06-01 00:10:00</td>\n",
       "      <td>17.00</td>\n",
       "      <td>10329302124590727494</td>\n",
       "      <td>2017-06-01</td>\n",
       "    </tr>\n",
       "    <tr>\n",
       "      <td>1</td>\n",
       "      <td>2017-06-01 00:25:00</td>\n",
       "      <td>0.55</td>\n",
       "      <td>11627257723692907447</td>\n",
       "      <td>2017-06-01</td>\n",
       "    </tr>\n",
       "    <tr>\n",
       "      <td>2</td>\n",
       "      <td>2017-06-01 00:27:00</td>\n",
       "      <td>0.37</td>\n",
       "      <td>17903680561304213844</td>\n",
       "      <td>2017-06-01</td>\n",
       "    </tr>\n",
       "  </tbody>\n",
       "</table>\n",
       "</div>"
      ],
      "text/plain": [
       "               Buy Ts  Revenue                   Uid order_month\n",
       "0 2017-06-01 00:10:00    17.00  10329302124590727494  2017-06-01\n",
       "1 2017-06-01 00:25:00     0.55  11627257723692907447  2017-06-01\n",
       "2 2017-06-01 00:27:00     0.37  17903680561304213844  2017-06-01"
      ]
     },
     "execution_count": 32,
     "metadata": {},
     "output_type": "execute_result"
    }
   ],
   "source": [
    "# add the column 'order_month'\n",
    "orders['order_month'] = orders['Buy Ts'].astype('datetime64[M]')\n",
    "orders.head(3)"
   ]
  },
  {
   "cell_type": "code",
   "execution_count": 33,
   "metadata": {
    "scrolled": true
   },
   "outputs": [
    {
     "data": {
      "text/html": [
       "<div>\n",
       "<style scoped>\n",
       "    .dataframe tbody tr th:only-of-type {\n",
       "        vertical-align: middle;\n",
       "    }\n",
       "\n",
       "    .dataframe tbody tr th {\n",
       "        vertical-align: top;\n",
       "    }\n",
       "\n",
       "    .dataframe thead th {\n",
       "        text-align: right;\n",
       "    }\n",
       "</style>\n",
       "<table border=\"1\" class=\"dataframe\">\n",
       "  <thead>\n",
       "    <tr style=\"text-align: right;\">\n",
       "      <th></th>\n",
       "      <th>Uid</th>\n",
       "      <th>first_order_month</th>\n",
       "    </tr>\n",
       "  </thead>\n",
       "  <tbody>\n",
       "    <tr>\n",
       "      <td>0</td>\n",
       "      <td>313578113262317</td>\n",
       "      <td>2018-01-01</td>\n",
       "    </tr>\n",
       "    <tr>\n",
       "      <td>1</td>\n",
       "      <td>1575281904278712</td>\n",
       "      <td>2017-06-01</td>\n",
       "    </tr>\n",
       "    <tr>\n",
       "      <td>2</td>\n",
       "      <td>2429014661409475</td>\n",
       "      <td>2017-10-01</td>\n",
       "    </tr>\n",
       "  </tbody>\n",
       "</table>\n",
       "</div>"
      ],
      "text/plain": [
       "                Uid first_order_month\n",
       "0   313578113262317        2018-01-01\n",
       "1  1575281904278712        2017-06-01\n",
       "2  2429014661409475        2017-10-01"
      ]
     },
     "execution_count": 33,
     "metadata": {},
     "output_type": "execute_result"
    }
   ],
   "source": [
    "#    find the month with a first purchase \n",
    "first_orders = orders.groupby('Uid').agg({'order_month': 'min'}).reset_index()\n",
    "first_orders.columns = ['Uid', 'first_order_month']\n",
    "first_orders.head(3)"
   ]
  },
  {
   "cell_type": "code",
   "execution_count": 34,
   "metadata": {},
   "outputs": [
    {
     "data": {
      "text/html": [
       "<div>\n",
       "<style scoped>\n",
       "    .dataframe tbody tr th:only-of-type {\n",
       "        vertical-align: middle;\n",
       "    }\n",
       "\n",
       "    .dataframe tbody tr th {\n",
       "        vertical-align: top;\n",
       "    }\n",
       "\n",
       "    .dataframe thead th {\n",
       "        text-align: right;\n",
       "    }\n",
       "</style>\n",
       "<table border=\"1\" class=\"dataframe\">\n",
       "  <thead>\n",
       "    <tr style=\"text-align: right;\">\n",
       "      <th></th>\n",
       "      <th>first_order_month</th>\n",
       "      <th>n_buyers</th>\n",
       "    </tr>\n",
       "  </thead>\n",
       "  <tbody>\n",
       "    <tr>\n",
       "      <td>0</td>\n",
       "      <td>2017-06-01</td>\n",
       "      <td>2023</td>\n",
       "    </tr>\n",
       "    <tr>\n",
       "      <td>1</td>\n",
       "      <td>2017-07-01</td>\n",
       "      <td>1923</td>\n",
       "    </tr>\n",
       "    <tr>\n",
       "      <td>2</td>\n",
       "      <td>2017-08-01</td>\n",
       "      <td>1370</td>\n",
       "    </tr>\n",
       "  </tbody>\n",
       "</table>\n",
       "</div>"
      ],
      "text/plain": [
       "  first_order_month  n_buyers\n",
       "0        2017-06-01      2023\n",
       "1        2017-07-01      1923\n",
       "2        2017-08-01      1370"
      ]
     },
     "execution_count": 34,
     "metadata": {},
     "output_type": "execute_result"
    }
   ],
   "source": [
    "#  Count the number of users (n_buyers) per each month:\n",
    "cohort_sizes = first_orders.groupby('first_order_month').agg({'Uid': 'nunique'}).reset_index()\n",
    "cohort_sizes.columns = ['first_order_month', 'n_buyers']\n",
    "cohort_sizes.head(3)"
   ]
  },
  {
   "cell_type": "code",
   "execution_count": 35,
   "metadata": {},
   "outputs": [
    {
     "data": {
      "text/html": [
       "<div>\n",
       "<style scoped>\n",
       "    .dataframe tbody tr th:only-of-type {\n",
       "        vertical-align: middle;\n",
       "    }\n",
       "\n",
       "    .dataframe tbody tr th {\n",
       "        vertical-align: top;\n",
       "    }\n",
       "\n",
       "    .dataframe thead th {\n",
       "        text-align: right;\n",
       "    }\n",
       "</style>\n",
       "<table border=\"1\" class=\"dataframe\">\n",
       "  <thead>\n",
       "    <tr style=\"text-align: right;\">\n",
       "      <th></th>\n",
       "      <th>Buy Ts</th>\n",
       "      <th>Revenue</th>\n",
       "      <th>Uid</th>\n",
       "      <th>order_month</th>\n",
       "      <th>first_order_month</th>\n",
       "    </tr>\n",
       "  </thead>\n",
       "  <tbody>\n",
       "    <tr>\n",
       "      <td>0</td>\n",
       "      <td>2017-06-01 00:10:00</td>\n",
       "      <td>17.00</td>\n",
       "      <td>10329302124590727494</td>\n",
       "      <td>2017-06-01</td>\n",
       "      <td>2017-06-01</td>\n",
       "    </tr>\n",
       "    <tr>\n",
       "      <td>1</td>\n",
       "      <td>2017-06-01 00:25:00</td>\n",
       "      <td>0.55</td>\n",
       "      <td>11627257723692907447</td>\n",
       "      <td>2017-06-01</td>\n",
       "      <td>2017-06-01</td>\n",
       "    </tr>\n",
       "    <tr>\n",
       "      <td>2</td>\n",
       "      <td>2017-06-01 00:27:00</td>\n",
       "      <td>0.37</td>\n",
       "      <td>17903680561304213844</td>\n",
       "      <td>2017-06-01</td>\n",
       "      <td>2017-06-01</td>\n",
       "    </tr>\n",
       "  </tbody>\n",
       "</table>\n",
       "</div>"
      ],
      "text/plain": [
       "               Buy Ts  Revenue                   Uid order_month  \\\n",
       "0 2017-06-01 00:10:00    17.00  10329302124590727494  2017-06-01   \n",
       "1 2017-06-01 00:25:00     0.55  11627257723692907447  2017-06-01   \n",
       "2 2017-06-01 00:27:00     0.37  17903680561304213844  2017-06-01   \n",
       "\n",
       "  first_order_month  \n",
       "0        2017-06-01  \n",
       "1        2017-06-01  \n",
       "2        2017-06-01  "
      ]
     },
     "execution_count": 35,
     "metadata": {},
     "output_type": "execute_result"
    }
   ],
   "source": [
    "# Create cohorts. Add month of first purchase for each user to 'orders' table.\n",
    "orders_new_2 = pd.merge(orders, first_orders, on='Uid')\n",
    "orders_new_2.head(3)"
   ]
  },
  {
   "cell_type": "code",
   "execution_count": 36,
   "metadata": {},
   "outputs": [
    {
     "data": {
      "text/html": [
       "<div>\n",
       "<style scoped>\n",
       "    .dataframe tbody tr th:only-of-type {\n",
       "        vertical-align: middle;\n",
       "    }\n",
       "\n",
       "    .dataframe tbody tr th {\n",
       "        vertical-align: top;\n",
       "    }\n",
       "\n",
       "    .dataframe thead th {\n",
       "        text-align: right;\n",
       "    }\n",
       "</style>\n",
       "<table border=\"1\" class=\"dataframe\">\n",
       "  <thead>\n",
       "    <tr style=\"text-align: right;\">\n",
       "      <th></th>\n",
       "      <th>first_order_month</th>\n",
       "      <th>order_month</th>\n",
       "      <th>Revenue</th>\n",
       "    </tr>\n",
       "  </thead>\n",
       "  <tbody>\n",
       "    <tr>\n",
       "      <td>0</td>\n",
       "      <td>2017-06-01</td>\n",
       "      <td>2017-06-01</td>\n",
       "      <td>9557.49</td>\n",
       "    </tr>\n",
       "    <tr>\n",
       "      <td>1</td>\n",
       "      <td>2017-06-01</td>\n",
       "      <td>2017-07-01</td>\n",
       "      <td>981.82</td>\n",
       "    </tr>\n",
       "    <tr>\n",
       "      <td>2</td>\n",
       "      <td>2017-06-01</td>\n",
       "      <td>2017-08-01</td>\n",
       "      <td>885.34</td>\n",
       "    </tr>\n",
       "  </tbody>\n",
       "</table>\n",
       "</div>"
      ],
      "text/plain": [
       "  first_order_month order_month  Revenue\n",
       "0        2017-06-01  2017-06-01  9557.49\n",
       "1        2017-06-01  2017-07-01   981.82\n",
       "2        2017-06-01  2017-08-01   885.34"
      ]
     },
     "execution_count": 36,
     "metadata": {},
     "output_type": "execute_result"
    }
   ],
   "source": [
    "#  Group 'orders' table by month of the first purchase and month of each order\n",
    "cohorts = orders_new_2.groupby(['first_order_month','order_month']\n",
    "                            ).agg({'Revenue': 'sum'}).reset_index()\n",
    "cohorts.head(3)"
   ]
  },
  {
   "cell_type": "code",
   "execution_count": 37,
   "metadata": {},
   "outputs": [
    {
     "data": {
      "text/html": [
       "<div>\n",
       "<style scoped>\n",
       "    .dataframe tbody tr th:only-of-type {\n",
       "        vertical-align: middle;\n",
       "    }\n",
       "\n",
       "    .dataframe tbody tr th {\n",
       "        vertical-align: top;\n",
       "    }\n",
       "\n",
       "    .dataframe thead th {\n",
       "        text-align: right;\n",
       "    }\n",
       "</style>\n",
       "<table border=\"1\" class=\"dataframe\">\n",
       "  <thead>\n",
       "    <tr style=\"text-align: right;\">\n",
       "      <th></th>\n",
       "      <th>first_order_month</th>\n",
       "      <th>n_buyers</th>\n",
       "      <th>order_month</th>\n",
       "      <th>Revenue</th>\n",
       "    </tr>\n",
       "  </thead>\n",
       "  <tbody>\n",
       "    <tr>\n",
       "      <td>0</td>\n",
       "      <td>2017-06-01</td>\n",
       "      <td>2023</td>\n",
       "      <td>2017-06-01</td>\n",
       "      <td>9557.49</td>\n",
       "    </tr>\n",
       "    <tr>\n",
       "      <td>1</td>\n",
       "      <td>2017-06-01</td>\n",
       "      <td>2023</td>\n",
       "      <td>2017-07-01</td>\n",
       "      <td>981.82</td>\n",
       "    </tr>\n",
       "    <tr>\n",
       "      <td>2</td>\n",
       "      <td>2017-06-01</td>\n",
       "      <td>2023</td>\n",
       "      <td>2017-08-01</td>\n",
       "      <td>885.34</td>\n",
       "    </tr>\n",
       "  </tbody>\n",
       "</table>\n",
       "</div>"
      ],
      "text/plain": [
       "  first_order_month  n_buyers order_month  Revenue\n",
       "0        2017-06-01      2023  2017-06-01  9557.49\n",
       "1        2017-06-01      2023  2017-07-01   981.82\n",
       "2        2017-06-01      2023  2017-08-01   885.34"
      ]
     },
     "execution_count": 37,
     "metadata": {},
     "output_type": "execute_result"
    }
   ],
   "source": [
    "# Add information about how many people made a purchase for the first time in each month\n",
    "report = pd.merge(cohort_sizes, cohorts, on='first_order_month')\n",
    "report.head(3)"
   ]
  },
  {
   "cell_type": "code",
   "execution_count": 38,
   "metadata": {},
   "outputs": [
    {
     "data": {
      "text/html": [
       "<div>\n",
       "<style scoped>\n",
       "    .dataframe tbody tr th:only-of-type {\n",
       "        vertical-align: middle;\n",
       "    }\n",
       "\n",
       "    .dataframe tbody tr th {\n",
       "        vertical-align: top;\n",
       "    }\n",
       "\n",
       "    .dataframe thead th {\n",
       "        text-align: right;\n",
       "    }\n",
       "</style>\n",
       "<table border=\"1\" class=\"dataframe\">\n",
       "  <thead>\n",
       "    <tr style=\"text-align: right;\">\n",
       "      <th></th>\n",
       "      <th>first_order_month</th>\n",
       "      <th>n_buyers</th>\n",
       "      <th>order_month</th>\n",
       "      <th>Revenue</th>\n",
       "      <th>age</th>\n",
       "    </tr>\n",
       "  </thead>\n",
       "  <tbody>\n",
       "    <tr>\n",
       "      <td>0</td>\n",
       "      <td>2017-06-01</td>\n",
       "      <td>2023</td>\n",
       "      <td>2017-06-01</td>\n",
       "      <td>9557.49</td>\n",
       "      <td>0</td>\n",
       "    </tr>\n",
       "    <tr>\n",
       "      <td>1</td>\n",
       "      <td>2017-06-01</td>\n",
       "      <td>2023</td>\n",
       "      <td>2017-07-01</td>\n",
       "      <td>981.82</td>\n",
       "      <td>1</td>\n",
       "    </tr>\n",
       "    <tr>\n",
       "      <td>2</td>\n",
       "      <td>2017-06-01</td>\n",
       "      <td>2023</td>\n",
       "      <td>2017-08-01</td>\n",
       "      <td>885.34</td>\n",
       "      <td>2</td>\n",
       "    </tr>\n",
       "  </tbody>\n",
       "</table>\n",
       "</div>"
      ],
      "text/plain": [
       "  first_order_month  n_buyers order_month  Revenue  age\n",
       "0        2017-06-01      2023  2017-06-01  9557.49    0\n",
       "1        2017-06-01      2023  2017-07-01   981.82    1\n",
       "2        2017-06-01      2023  2017-08-01   885.34    2"
      ]
     },
     "execution_count": 38,
     "metadata": {},
     "output_type": "execute_result"
    }
   ],
   "source": [
    "# LTV считают из валовой прибыли, но поскольку маржинальность нам не известна, примем ее за единицу. \n",
    "# Соответственно валовая прибыль = выручке\n",
    "# Find the 'age' of cohorts \n",
    "report['age'] = (report['order_month'] - report['first_order_month'])/np.timedelta64(1, 'M')\n",
    "report['age'] = report['age'].round().astype('int')\n",
    "report['first_order_month'] = report['first_order_month'].dt.normalize()\n",
    "report.head(3)"
   ]
  },
  {
   "cell_type": "code",
   "execution_count": 39,
   "metadata": {
    "scrolled": false
   },
   "outputs": [],
   "source": [
    "# calculate LTV\n",
    "report['ltv'] = report['Revenue'] / report['n_buyers']"
   ]
  },
  {
   "cell_type": "code",
   "execution_count": 40,
   "metadata": {},
   "outputs": [
    {
     "data": {
      "image/png": "[encoded data removed]",
      "text/plain": [
       "<Figure size 1008x720 with 2 Axes>"
      ]
     },
     "metadata": {},
     "output_type": "display_data"
    }
   ],
   "source": [
    "# create heatmap\n",
    "report['first_order_month'] = report['first_order_month'].dt.date\n",
    "\n",
    "output = report.pivot_table(\n",
    "        index='first_order_month', \n",
    "        columns='age', \n",
    "        values='ltv', \n",
    "        aggfunc='mean').round(2)\n",
    "\n",
    "sns.set(style='white')\n",
    "plt.figure(figsize=(14, 10))\n",
    "plt.title('Cohorts: LTV')\n",
    "sns.heatmap(output, annot=True, fmt='.2f', linewidths=1, linecolor='gray');"
   ]
  },
  {
   "cell_type": "code",
   "execution_count": 41,
   "metadata": {},
   "outputs": [
    {
     "data": {
      "text/html": [
       "<div>\n",
       "<style scoped>\n",
       "    .dataframe tbody tr th:only-of-type {\n",
       "        vertical-align: middle;\n",
       "    }\n",
       "\n",
       "    .dataframe tbody tr th {\n",
       "        vertical-align: top;\n",
       "    }\n",
       "\n",
       "    .dataframe thead th {\n",
       "        text-align: right;\n",
       "    }\n",
       "</style>\n",
       "<table border=\"1\" class=\"dataframe\">\n",
       "  <thead>\n",
       "    <tr style=\"text-align: right;\">\n",
       "      <th>age</th>\n",
       "      <th>0</th>\n",
       "      <th>1</th>\n",
       "      <th>2</th>\n",
       "      <th>3</th>\n",
       "      <th>4</th>\n",
       "      <th>5</th>\n",
       "      <th>6</th>\n",
       "      <th>7</th>\n",
       "      <th>8</th>\n",
       "      <th>9</th>\n",
       "      <th>10</th>\n",
       "      <th>11</th>\n",
       "      <th>ltv</th>\n",
       "    </tr>\n",
       "    <tr>\n",
       "      <th>first_order_month</th>\n",
       "      <th></th>\n",
       "      <th></th>\n",
       "      <th></th>\n",
       "      <th></th>\n",
       "      <th></th>\n",
       "      <th></th>\n",
       "      <th></th>\n",
       "      <th></th>\n",
       "      <th></th>\n",
       "      <th></th>\n",
       "      <th></th>\n",
       "      <th></th>\n",
       "      <th></th>\n",
       "    </tr>\n",
       "  </thead>\n",
       "  <tbody>\n",
       "    <tr>\n",
       "      <td>2017-06-01</td>\n",
       "      <td>4.72</td>\n",
       "      <td>0.49</td>\n",
       "      <td>0.44</td>\n",
       "      <td>0.95</td>\n",
       "      <td>1.02</td>\n",
       "      <td>0.74</td>\n",
       "      <td>0.95</td>\n",
       "      <td>0.58</td>\n",
       "      <td>0.55</td>\n",
       "      <td>0.61</td>\n",
       "      <td>0.57</td>\n",
       "      <td>0.26</td>\n",
       "      <td>8.36</td>\n",
       "    </tr>\n",
       "    <tr>\n",
       "      <td>2017-07-01</td>\n",
       "      <td>6.01</td>\n",
       "      <td>0.34</td>\n",
       "      <td>0.62</td>\n",
       "      <td>0.36</td>\n",
       "      <td>0.18</td>\n",
       "      <td>0.16</td>\n",
       "      <td>0.12</td>\n",
       "      <td>0.14</td>\n",
       "      <td>0.16</td>\n",
       "      <td>0.15</td>\n",
       "      <td>0.16</td>\n",
       "      <td></td>\n",
       "      <td>7.67</td>\n",
       "    </tr>\n",
       "    <tr>\n",
       "      <td>2017-08-01</td>\n",
       "      <td>5.28</td>\n",
       "      <td>0.47</td>\n",
       "      <td>0.46</td>\n",
       "      <td>0.39</td>\n",
       "      <td>0.49</td>\n",
       "      <td>0.28</td>\n",
       "      <td>0.21</td>\n",
       "      <td>0.41</td>\n",
       "      <td>0.29</td>\n",
       "      <td>0.19</td>\n",
       "      <td></td>\n",
       "      <td></td>\n",
       "      <td>7.37</td>\n",
       "    </tr>\n",
       "    <tr>\n",
       "      <td>2017-09-01</td>\n",
       "      <td>5.64</td>\n",
       "      <td>1.12</td>\n",
       "      <td>0.52</td>\n",
       "      <td>3.98</td>\n",
       "      <td>0.4</td>\n",
       "      <td>0.65</td>\n",
       "      <td>0.7</td>\n",
       "      <td>0.24</td>\n",
       "      <td>0.18</td>\n",
       "      <td></td>\n",
       "      <td></td>\n",
       "      <td></td>\n",
       "      <td>12.31</td>\n",
       "    </tr>\n",
       "    <tr>\n",
       "      <td>2017-10-01</td>\n",
       "      <td>5.00</td>\n",
       "      <td>0.54</td>\n",
       "      <td>0.19</td>\n",
       "      <td>0.16</td>\n",
       "      <td>0.15</td>\n",
       "      <td>0.12</td>\n",
       "      <td>0.08</td>\n",
       "      <td>0.12</td>\n",
       "      <td></td>\n",
       "      <td></td>\n",
       "      <td></td>\n",
       "      <td></td>\n",
       "      <td>6.16</td>\n",
       "    </tr>\n",
       "    <tr>\n",
       "      <td>2017-11-01</td>\n",
       "      <td>5.15</td>\n",
       "      <td>0.4</td>\n",
       "      <td>0.2</td>\n",
       "      <td>0.32</td>\n",
       "      <td>0.15</td>\n",
       "      <td>0.05</td>\n",
       "      <td>0.11</td>\n",
       "      <td></td>\n",
       "      <td></td>\n",
       "      <td></td>\n",
       "      <td></td>\n",
       "      <td></td>\n",
       "      <td>6.27</td>\n",
       "    </tr>\n",
       "    <tr>\n",
       "      <td>2017-12-01</td>\n",
       "      <td>4.74</td>\n",
       "      <td>0.26</td>\n",
       "      <td>0.93</td>\n",
       "      <td>1.07</td>\n",
       "      <td>0.31</td>\n",
       "      <td>0.34</td>\n",
       "      <td></td>\n",
       "      <td></td>\n",
       "      <td></td>\n",
       "      <td></td>\n",
       "      <td></td>\n",
       "      <td></td>\n",
       "      <td>7.65</td>\n",
       "    </tr>\n",
       "  </tbody>\n",
       "</table>\n",
       "</div>"
      ],
      "text/plain": [
       "age                   0     1     2     3     4     5     6     7     8     9  \\\n",
       "first_order_month                                                               \n",
       "2017-06-01         4.72  0.49  0.44  0.95  1.02  0.74  0.95  0.58  0.55  0.61   \n",
       "2017-07-01         6.01  0.34  0.62  0.36  0.18  0.16  0.12  0.14  0.16  0.15   \n",
       "2017-08-01         5.28  0.47  0.46  0.39  0.49  0.28  0.21  0.41  0.29  0.19   \n",
       "2017-09-01         5.64  1.12  0.52  3.98   0.4  0.65   0.7  0.24  0.18         \n",
       "2017-10-01         5.00  0.54  0.19  0.16  0.15  0.12  0.08  0.12               \n",
       "2017-11-01         5.15   0.4   0.2  0.32  0.15  0.05  0.11                     \n",
       "2017-12-01         4.74  0.26  0.93  1.07  0.31  0.34                           \n",
       "\n",
       "age                  10    11    ltv  \n",
       "first_order_month                     \n",
       "2017-06-01         0.57  0.26   8.36  \n",
       "2017-07-01         0.16         7.67  \n",
       "2017-08-01                      7.37  \n",
       "2017-09-01                     12.31  \n",
       "2017-10-01                      6.16  \n",
       "2017-11-01                      6.27  \n",
       "2017-12-01                      7.65  "
      ]
     },
     "execution_count": 41,
     "metadata": {},
     "output_type": "execute_result"
    }
   ],
   "source": [
    "# Calculate cumulative LTV for 6 month for the first 7 cohorts \n",
    "output['ltv'] = output[range(0,6)].sum(axis = 1)\n",
    "output.fillna('').head(7)"
   ]
  },
  {
   "cell_type": "markdown",
   "metadata": {},
   "source": [
    "### Сonclusions: \n",
    "- Total revenue for the entire period: 252057 y.e.\n",
    "- Most of users - 55.7%, make their first purchase on the first day of visiting the site\n",
    "- Average number of purchases per one user for:\n",
    "     - year : 1.38\n",
    "     - month : 0.12\n",
    "     - week : 0.03\n",
    "     - day : 0.004\n",
    " - Average revenue per one user for:\n",
    "     - year : 6.90 y.e.\n",
    "     - month : 0.58 y.e.\n",
    "     - week : 0.13 y.e.\n",
    "     - day : 0.019 y.e.\n",
    " - LTV for 6 monthes\n",
    "     - 1st cohort:  4.72 y.e. \n",
    "     - 2nd cohort:  6.01 y.e. \n",
    "     - 3rd cohort:  5.28 y.e. \n",
    "     - 4th cohort:  5.64 y.e. \n",
    "     - 5th cohort:  5.00 y.e.  \n",
    "     - 6th cohort:  5.15 y.e. \n",
    "     - 7th cohort:  4.74 y.e. \n",
    "     \n",
    "     \n",
    "*(that is, on average, each customer brings +/- (5 y.e.) revenue for 6 months of \"life\". Starting from the second cohort, there is a tendency towards a decrease in accumulated LTV)*"
   ]
  },
  {
   "cell_type": "markdown",
   "metadata": {},
   "source": [
    "### Marketing\n",
    "*How much money was spend? Total / per source / by time <br>\n",
    "How much did it cost to get one customer from each source? (CAC) <br>\n",
    "How much have the costs paid off? (ROI)* <br>"
   ]
  },
  {
   "cell_type": "markdown",
   "metadata": {},
   "source": [
    "***How much money was spend? Total / per source / by time <br>**"
   ]
  },
  {
   "cell_type": "code",
   "execution_count": 42,
   "metadata": {},
   "outputs": [
    {
     "name": "stdout",
     "output_type": "stream",
     "text": [
      "money spent in a year:  329131.62\n",
      "------------------------------\n",
      "money spent from the perspective by source\n",
      "source_id\n",
      "1      20833.27\n",
      "2      42806.04\n",
      "3     141321.63\n",
      "4      61073.60\n",
      "5      51757.10\n",
      "9       5517.49\n",
      "10      5822.49\n",
      "Name: costs, dtype: float64\n",
      "------------------------------\n",
      "money spent by month: \n",
      "            source_id     costs\n",
      "dt_month                       \n",
      "2017-06-01       1020  18015.00\n",
      "2017-07-01       1054  18240.59\n",
      "2017-08-01       1054  14790.54\n",
      "2017-09-01       1020  24368.91\n",
      "2017-10-01       1054  36322.88\n",
      "2017-11-01       1020  37907.88\n",
      "2017-12-01       1054  38315.35\n",
      "2018-01-01       1054  33518.52\n",
      "2018-02-01        952  32723.03\n",
      "2018-03-01       1025  30415.27\n",
      "2018-04-01        986  22289.38\n",
      "2018-05-01       1054  22224.27\n"
     ]
    }
   ],
   "source": [
    "print('money spent in a year: ', costs['costs'].sum())\n",
    "print('------------------------------')\n",
    "print('money spent from the perspective by source')\n",
    "print(costs.groupby(['source_id'])['costs'].sum())\n",
    "\n",
    "# add the month of the cost incurred\n",
    "costs['dt_month'] = costs['dt'].astype('datetime64[M]')\n",
    "print('------------------------------')\n",
    "print('money spent by month: ')\n",
    "monthly_costs = costs.groupby('dt_month').sum()\n",
    "print(monthly_costs)"
   ]
  },
  {
   "cell_type": "markdown",
   "metadata": {},
   "source": [
    "**How much did it cost to get one customer from each source?  (CAC)**"
   ]
  },
  {
   "cell_type": "code",
   "execution_count": 43,
   "metadata": {},
   "outputs": [
    {
     "data": {
      "text/html": [
       "<div>\n",
       "<style scoped>\n",
       "    .dataframe tbody tr th:only-of-type {\n",
       "        vertical-align: middle;\n",
       "    }\n",
       "\n",
       "    .dataframe tbody tr th {\n",
       "        vertical-align: top;\n",
       "    }\n",
       "\n",
       "    .dataframe thead th {\n",
       "        text-align: right;\n",
       "    }\n",
       "</style>\n",
       "<table border=\"1\" class=\"dataframe\">\n",
       "  <thead>\n",
       "    <tr style=\"text-align: right;\">\n",
       "      <th></th>\n",
       "      <th>source_id</th>\n",
       "      <th>costs</th>\n",
       "    </tr>\n",
       "  </thead>\n",
       "  <tbody>\n",
       "    <tr>\n",
       "      <td>0</td>\n",
       "      <td>1</td>\n",
       "      <td>20833.27</td>\n",
       "    </tr>\n",
       "    <tr>\n",
       "      <td>1</td>\n",
       "      <td>2</td>\n",
       "      <td>42806.04</td>\n",
       "    </tr>\n",
       "    <tr>\n",
       "      <td>2</td>\n",
       "      <td>3</td>\n",
       "      <td>141321.63</td>\n",
       "    </tr>\n",
       "    <tr>\n",
       "      <td>3</td>\n",
       "      <td>4</td>\n",
       "      <td>61073.60</td>\n",
       "    </tr>\n",
       "    <tr>\n",
       "      <td>4</td>\n",
       "      <td>5</td>\n",
       "      <td>51757.10</td>\n",
       "    </tr>\n",
       "    <tr>\n",
       "      <td>5</td>\n",
       "      <td>9</td>\n",
       "      <td>5517.49</td>\n",
       "    </tr>\n",
       "    <tr>\n",
       "      <td>6</td>\n",
       "      <td>10</td>\n",
       "      <td>5822.49</td>\n",
       "    </tr>\n",
       "  </tbody>\n",
       "</table>\n",
       "</div>"
      ],
      "text/plain": [
       "   source_id      costs\n",
       "0          1   20833.27\n",
       "1          2   42806.04\n",
       "2          3  141321.63\n",
       "3          4   61073.60\n",
       "4          5   51757.10\n",
       "5          9    5517.49\n",
       "6         10    5822.49"
      ]
     },
     "execution_count": 43,
     "metadata": {},
     "output_type": "execute_result"
    }
   ],
   "source": [
    "costs_source = costs.pivot_table(\n",
    "        index='source_id',\n",
    "        values='costs', \n",
    "        aggfunc = 'sum').round(2).reset_index()\n",
    "costs_source"
   ]
  },
  {
   "cell_type": "code",
   "execution_count": 44,
   "metadata": {},
   "outputs": [
    {
     "data": {
      "text/html": [
       "<div>\n",
       "<style scoped>\n",
       "    .dataframe tbody tr th:only-of-type {\n",
       "        vertical-align: middle;\n",
       "    }\n",
       "\n",
       "    .dataframe tbody tr th {\n",
       "        vertical-align: top;\n",
       "    }\n",
       "\n",
       "    .dataframe thead th {\n",
       "        text-align: right;\n",
       "    }\n",
       "</style>\n",
       "<table border=\"1\" class=\"dataframe\">\n",
       "  <thead>\n",
       "    <tr style=\"text-align: right;\">\n",
       "      <th></th>\n",
       "      <th>source_id</th>\n",
       "      <th>n_users</th>\n",
       "    </tr>\n",
       "  </thead>\n",
       "  <tbody>\n",
       "    <tr>\n",
       "      <td>0</td>\n",
       "      <td>1</td>\n",
       "      <td>18999</td>\n",
       "    </tr>\n",
       "    <tr>\n",
       "      <td>1</td>\n",
       "      <td>2</td>\n",
       "      <td>26245</td>\n",
       "    </tr>\n",
       "    <tr>\n",
       "      <td>2</td>\n",
       "      <td>3</td>\n",
       "      <td>74756</td>\n",
       "    </tr>\n",
       "    <tr>\n",
       "      <td>3</td>\n",
       "      <td>4</td>\n",
       "      <td>83525</td>\n",
       "    </tr>\n",
       "    <tr>\n",
       "      <td>4</td>\n",
       "      <td>5</td>\n",
       "      <td>56974</td>\n",
       "    </tr>\n",
       "    <tr>\n",
       "      <td>5</td>\n",
       "      <td>6</td>\n",
       "      <td>6</td>\n",
       "    </tr>\n",
       "    <tr>\n",
       "      <td>6</td>\n",
       "      <td>7</td>\n",
       "      <td>34</td>\n",
       "    </tr>\n",
       "    <tr>\n",
       "      <td>7</td>\n",
       "      <td>9</td>\n",
       "      <td>9264</td>\n",
       "    </tr>\n",
       "    <tr>\n",
       "      <td>8</td>\n",
       "      <td>10</td>\n",
       "      <td>8067</td>\n",
       "    </tr>\n",
       "  </tbody>\n",
       "</table>\n",
       "</div>"
      ],
      "text/plain": [
       "   source_id  n_users\n",
       "0          1    18999\n",
       "1          2    26245\n",
       "2          3    74756\n",
       "3          4    83525\n",
       "4          5    56974\n",
       "5          6        6\n",
       "6          7       34\n",
       "7          9     9264\n",
       "8         10     8067"
      ]
     },
     "execution_count": 44,
     "metadata": {},
     "output_type": "execute_result"
    }
   ],
   "source": [
    "# Calculate the number of users per each source\n",
    "visits_source = visits.groupby('Source Id').agg({'Uid': 'nunique'}).reset_index()\n",
    "visits_source.columns = ['source_id', 'n_users']\n",
    "visits_source"
   ]
  },
  {
   "cell_type": "markdown",
   "metadata": {},
   "source": [
    "**Customer Acquisition Cost by source**"
   ]
  },
  {
   "cell_type": "code",
   "execution_count": 45,
   "metadata": {},
   "outputs": [
    {
     "data": {
      "text/html": [
       "<div>\n",
       "<style scoped>\n",
       "    .dataframe tbody tr th:only-of-type {\n",
       "        vertical-align: middle;\n",
       "    }\n",
       "\n",
       "    .dataframe tbody tr th {\n",
       "        vertical-align: top;\n",
       "    }\n",
       "\n",
       "    .dataframe thead th {\n",
       "        text-align: right;\n",
       "    }\n",
       "</style>\n",
       "<table border=\"1\" class=\"dataframe\">\n",
       "  <thead>\n",
       "    <tr style=\"text-align: right;\">\n",
       "      <th></th>\n",
       "      <th>source_id</th>\n",
       "      <th>costs</th>\n",
       "      <th>n_users</th>\n",
       "      <th>cac</th>\n",
       "    </tr>\n",
       "  </thead>\n",
       "  <tbody>\n",
       "    <tr>\n",
       "      <td>0</td>\n",
       "      <td>1</td>\n",
       "      <td>20833.27</td>\n",
       "      <td>18999</td>\n",
       "      <td>1.096546</td>\n",
       "    </tr>\n",
       "    <tr>\n",
       "      <td>1</td>\n",
       "      <td>2</td>\n",
       "      <td>42806.04</td>\n",
       "      <td>26245</td>\n",
       "      <td>1.631017</td>\n",
       "    </tr>\n",
       "    <tr>\n",
       "      <td>2</td>\n",
       "      <td>3</td>\n",
       "      <td>141321.63</td>\n",
       "      <td>74756</td>\n",
       "      <td>1.890439</td>\n",
       "    </tr>\n",
       "    <tr>\n",
       "      <td>3</td>\n",
       "      <td>4</td>\n",
       "      <td>61073.60</td>\n",
       "      <td>83525</td>\n",
       "      <td>0.731201</td>\n",
       "    </tr>\n",
       "    <tr>\n",
       "      <td>4</td>\n",
       "      <td>5</td>\n",
       "      <td>51757.10</td>\n",
       "      <td>56974</td>\n",
       "      <td>0.908434</td>\n",
       "    </tr>\n",
       "    <tr>\n",
       "      <td>5</td>\n",
       "      <td>9</td>\n",
       "      <td>5517.49</td>\n",
       "      <td>9264</td>\n",
       "      <td>0.595584</td>\n",
       "    </tr>\n",
       "    <tr>\n",
       "      <td>6</td>\n",
       "      <td>10</td>\n",
       "      <td>5822.49</td>\n",
       "      <td>8067</td>\n",
       "      <td>0.721766</td>\n",
       "    </tr>\n",
       "    <tr>\n",
       "      <td>7</td>\n",
       "      <td>6</td>\n",
       "      <td>NaN</td>\n",
       "      <td>6</td>\n",
       "      <td>NaN</td>\n",
       "    </tr>\n",
       "    <tr>\n",
       "      <td>8</td>\n",
       "      <td>7</td>\n",
       "      <td>NaN</td>\n",
       "      <td>34</td>\n",
       "      <td>NaN</td>\n",
       "    </tr>\n",
       "  </tbody>\n",
       "</table>\n",
       "</div>"
      ],
      "text/plain": [
       "   source_id      costs  n_users       cac\n",
       "0          1   20833.27    18999  1.096546\n",
       "1          2   42806.04    26245  1.631017\n",
       "2          3  141321.63    74756  1.890439\n",
       "3          4   61073.60    83525  0.731201\n",
       "4          5   51757.10    56974  0.908434\n",
       "5          9    5517.49     9264  0.595584\n",
       "6         10    5822.49     8067  0.721766\n",
       "7          6        NaN        6       NaN\n",
       "8          7        NaN       34       NaN"
      ]
     },
     "execution_count": 45,
     "metadata": {},
     "output_type": "execute_result"
    }
   ],
   "source": [
    "cac = costs_source.merge(visits_source, on = 'source_id', how = 'outer')\n",
    "cac['cac'] = cac['costs']/cac['n_users']\n",
    "cac"
   ]
  },
  {
   "cell_type": "markdown",
   "metadata": {},
   "source": [
    "**Customer Acquisition Cost in terms of cohorts**"
   ]
  },
  {
   "cell_type": "code",
   "execution_count": 46,
   "metadata": {},
   "outputs": [
    {
     "data": {
      "text/html": [
       "<div>\n",
       "<style scoped>\n",
       "    .dataframe tbody tr th:only-of-type {\n",
       "        vertical-align: middle;\n",
       "    }\n",
       "\n",
       "    .dataframe tbody tr th {\n",
       "        vertical-align: top;\n",
       "    }\n",
       "\n",
       "    .dataframe thead th {\n",
       "        text-align: right;\n",
       "    }\n",
       "</style>\n",
       "<table border=\"1\" class=\"dataframe\">\n",
       "  <thead>\n",
       "    <tr style=\"text-align: right;\">\n",
       "      <th></th>\n",
       "      <th>dt_month</th>\n",
       "      <th>costs</th>\n",
       "    </tr>\n",
       "  </thead>\n",
       "  <tbody>\n",
       "    <tr>\n",
       "      <td>0</td>\n",
       "      <td>2017-06-01</td>\n",
       "      <td>18015.00</td>\n",
       "    </tr>\n",
       "    <tr>\n",
       "      <td>1</td>\n",
       "      <td>2017-07-01</td>\n",
       "      <td>18240.59</td>\n",
       "    </tr>\n",
       "    <tr>\n",
       "      <td>2</td>\n",
       "      <td>2017-08-01</td>\n",
       "      <td>14790.54</td>\n",
       "    </tr>\n",
       "  </tbody>\n",
       "</table>\n",
       "</div>"
      ],
      "text/plain": [
       "    dt_month     costs\n",
       "0 2017-06-01  18015.00\n",
       "1 2017-07-01  18240.59\n",
       "2 2017-08-01  14790.54"
      ]
     },
     "execution_count": 46,
     "metadata": {},
     "output_type": "execute_result"
    }
   ],
   "source": [
    "# group costs by month\n",
    "cohort_by_month = costs.groupby('dt_month').agg({'costs': 'sum'}).reset_index()\n",
    "cohort_by_month.head(3)"
   ]
  },
  {
   "cell_type": "code",
   "execution_count": 47,
   "metadata": {},
   "outputs": [
    {
     "data": {
      "text/html": [
       "<div>\n",
       "<style scoped>\n",
       "    .dataframe tbody tr th:only-of-type {\n",
       "        vertical-align: middle;\n",
       "    }\n",
       "\n",
       "    .dataframe tbody tr th {\n",
       "        vertical-align: top;\n",
       "    }\n",
       "\n",
       "    .dataframe thead th {\n",
       "        text-align: right;\n",
       "    }\n",
       "</style>\n",
       "<table border=\"1\" class=\"dataframe\">\n",
       "  <thead>\n",
       "    <tr style=\"text-align: right;\">\n",
       "      <th></th>\n",
       "      <th>first_order_month</th>\n",
       "      <th>n_buyers</th>\n",
       "    </tr>\n",
       "  </thead>\n",
       "  <tbody>\n",
       "    <tr>\n",
       "      <td>0</td>\n",
       "      <td>2017-06-01</td>\n",
       "      <td>2023</td>\n",
       "    </tr>\n",
       "    <tr>\n",
       "      <td>1</td>\n",
       "      <td>2017-07-01</td>\n",
       "      <td>1923</td>\n",
       "    </tr>\n",
       "    <tr>\n",
       "      <td>2</td>\n",
       "      <td>2017-08-01</td>\n",
       "      <td>1370</td>\n",
       "    </tr>\n",
       "  </tbody>\n",
       "</table>\n",
       "</div>"
      ],
      "text/plain": [
       "  first_order_month  n_buyers\n",
       "0        2017-06-01      2023\n",
       "1        2017-07-01      1923\n",
       "2        2017-08-01      1370"
      ]
     },
     "execution_count": 47,
     "metadata": {},
     "output_type": "execute_result"
    }
   ],
   "source": [
    "# Calculate the number of users in each cohorts\n",
    "cohort_users = (report[['first_order_month','n_buyers']\n",
    "                      ][report['age'] == 0]).reset_index().drop('index', axis = 1)\n",
    "cohort_users['first_order_month'] = pd.to_datetime(cohort_users['first_order_month'])\n",
    "cohort_users.head(3)"
   ]
  },
  {
   "cell_type": "code",
   "execution_count": 48,
   "metadata": {},
   "outputs": [
    {
     "data": {
      "text/html": [
       "<div>\n",
       "<style scoped>\n",
       "    .dataframe tbody tr th:only-of-type {\n",
       "        vertical-align: middle;\n",
       "    }\n",
       "\n",
       "    .dataframe tbody tr th {\n",
       "        vertical-align: top;\n",
       "    }\n",
       "\n",
       "    .dataframe thead th {\n",
       "        text-align: right;\n",
       "    }\n",
       "</style>\n",
       "<table border=\"1\" class=\"dataframe\">\n",
       "  <thead>\n",
       "    <tr style=\"text-align: right;\">\n",
       "      <th></th>\n",
       "      <th>dt_month</th>\n",
       "      <th>costs</th>\n",
       "      <th>n_buyers</th>\n",
       "      <th>cac</th>\n",
       "    </tr>\n",
       "  </thead>\n",
       "  <tbody>\n",
       "    <tr>\n",
       "      <td>0</td>\n",
       "      <td>2017-06-01</td>\n",
       "      <td>18015.00</td>\n",
       "      <td>2023</td>\n",
       "      <td>8.905091</td>\n",
       "    </tr>\n",
       "    <tr>\n",
       "      <td>1</td>\n",
       "      <td>2017-07-01</td>\n",
       "      <td>18240.59</td>\n",
       "      <td>1923</td>\n",
       "      <td>9.485486</td>\n",
       "    </tr>\n",
       "    <tr>\n",
       "      <td>2</td>\n",
       "      <td>2017-08-01</td>\n",
       "      <td>14790.54</td>\n",
       "      <td>1370</td>\n",
       "      <td>10.796015</td>\n",
       "    </tr>\n",
       "    <tr>\n",
       "      <td>3</td>\n",
       "      <td>2017-09-01</td>\n",
       "      <td>24368.91</td>\n",
       "      <td>2581</td>\n",
       "      <td>9.441654</td>\n",
       "    </tr>\n",
       "    <tr>\n",
       "      <td>4</td>\n",
       "      <td>2017-10-01</td>\n",
       "      <td>36322.88</td>\n",
       "      <td>4340</td>\n",
       "      <td>8.369327</td>\n",
       "    </tr>\n",
       "  </tbody>\n",
       "</table>\n",
       "</div>"
      ],
      "text/plain": [
       "    dt_month     costs  n_buyers        cac\n",
       "0 2017-06-01  18015.00      2023   8.905091\n",
       "1 2017-07-01  18240.59      1923   9.485486\n",
       "2 2017-08-01  14790.54      1370  10.796015\n",
       "3 2017-09-01  24368.91      2581   9.441654\n",
       "4 2017-10-01  36322.88      4340   8.369327"
      ]
     },
     "execution_count": 48,
     "metadata": {},
     "output_type": "execute_result"
    }
   ],
   "source": [
    "# merge the table\n",
    "cac = cohort_by_month.merge(cohort_users, how = 'left', left_on = 'dt_month', \n",
    "                            right_on = 'first_order_month').drop('first_order_month',axis = 1)\n",
    "# calculate the CAC for each cohorts\n",
    "cac['cac'] = cac['costs']/cac['n_buyers']\n",
    "cac.head()"
   ]
  },
  {
   "cell_type": "markdown",
   "metadata": {},
   "source": [
    "**Calculate ROMI for the first 7 cohorts by 6 monthes**"
   ]
  },
  {
   "cell_type": "code",
   "execution_count": 49,
   "metadata": {},
   "outputs": [
    {
     "data": {
      "text/html": [
       "<div>\n",
       "<style scoped>\n",
       "    .dataframe tbody tr th:only-of-type {\n",
       "        vertical-align: middle;\n",
       "    }\n",
       "\n",
       "    .dataframe tbody tr th {\n",
       "        vertical-align: top;\n",
       "    }\n",
       "\n",
       "    .dataframe thead th {\n",
       "        text-align: right;\n",
       "    }\n",
       "</style>\n",
       "<table border=\"1\" class=\"dataframe\">\n",
       "  <thead>\n",
       "    <tr style=\"text-align: right;\">\n",
       "      <th></th>\n",
       "      <th>dt_month</th>\n",
       "      <th>costs</th>\n",
       "      <th>n_buyers</th>\n",
       "      <th>cac</th>\n",
       "      <th>ltv</th>\n",
       "      <th>romi</th>\n",
       "    </tr>\n",
       "  </thead>\n",
       "  <tbody>\n",
       "    <tr>\n",
       "      <td>0</td>\n",
       "      <td>2017-06-01</td>\n",
       "      <td>18015.00</td>\n",
       "      <td>2023</td>\n",
       "      <td>8.905091</td>\n",
       "      <td>8.36</td>\n",
       "      <td>0.938789</td>\n",
       "    </tr>\n",
       "    <tr>\n",
       "      <td>1</td>\n",
       "      <td>2017-07-01</td>\n",
       "      <td>18240.59</td>\n",
       "      <td>1923</td>\n",
       "      <td>9.485486</td>\n",
       "      <td>7.67</td>\n",
       "      <td>0.808604</td>\n",
       "    </tr>\n",
       "    <tr>\n",
       "      <td>2</td>\n",
       "      <td>2017-08-01</td>\n",
       "      <td>14790.54</td>\n",
       "      <td>1370</td>\n",
       "      <td>10.796015</td>\n",
       "      <td>7.37</td>\n",
       "      <td>0.682659</td>\n",
       "    </tr>\n",
       "    <tr>\n",
       "      <td>3</td>\n",
       "      <td>2017-09-01</td>\n",
       "      <td>24368.91</td>\n",
       "      <td>2581</td>\n",
       "      <td>9.441654</td>\n",
       "      <td>12.31</td>\n",
       "      <td>1.303797</td>\n",
       "    </tr>\n",
       "    <tr>\n",
       "      <td>4</td>\n",
       "      <td>2017-10-01</td>\n",
       "      <td>36322.88</td>\n",
       "      <td>4340</td>\n",
       "      <td>8.369327</td>\n",
       "      <td>6.16</td>\n",
       "      <td>0.736021</td>\n",
       "    </tr>\n",
       "    <tr>\n",
       "      <td>5</td>\n",
       "      <td>2017-11-01</td>\n",
       "      <td>37907.88</td>\n",
       "      <td>4081</td>\n",
       "      <td>9.288870</td>\n",
       "      <td>6.27</td>\n",
       "      <td>0.675001</td>\n",
       "    </tr>\n",
       "    <tr>\n",
       "      <td>6</td>\n",
       "      <td>2017-12-01</td>\n",
       "      <td>38315.35</td>\n",
       "      <td>4383</td>\n",
       "      <td>8.741809</td>\n",
       "      <td>7.65</td>\n",
       "      <td>0.875105</td>\n",
       "    </tr>\n",
       "  </tbody>\n",
       "</table>\n",
       "</div>"
      ],
      "text/plain": [
       "    dt_month     costs  n_buyers        cac    ltv      romi\n",
       "0 2017-06-01  18015.00      2023   8.905091   8.36  0.938789\n",
       "1 2017-07-01  18240.59      1923   9.485486   7.67  0.808604\n",
       "2 2017-08-01  14790.54      1370  10.796015   7.37  0.682659\n",
       "3 2017-09-01  24368.91      2581   9.441654  12.31  1.303797\n",
       "4 2017-10-01  36322.88      4340   8.369327   6.16  0.736021\n",
       "5 2017-11-01  37907.88      4081   9.288870   6.27  0.675001\n",
       "6 2017-12-01  38315.35      4383   8.741809   7.65  0.875105"
      ]
     },
     "execution_count": 49,
     "metadata": {},
     "output_type": "execute_result"
    }
   ],
   "source": [
    "output = output.reset_index()\n",
    "output['first_order_month'] = pd.to_datetime(output['first_order_month'])\n",
    "\n",
    "romi = cac.merge(output[['first_order_month','ltv']], how = 'left',\n",
    "                 left_on = 'dt_month', right_on = 'first_order_month'\n",
    "                ).drop('first_order_month',axis = 1).head(7)\n",
    "romi['romi'] = romi['ltv']/romi['cac']\n",
    "romi"
   ]
  },
  {
   "cell_type": "markdown",
   "metadata": {},
   "source": [
    "**Calculate cumulative ROMI to understand from which month the return on investment begins**"
   ]
  },
  {
   "cell_type": "code",
   "execution_count": 50,
   "metadata": {},
   "outputs": [
    {
     "data": {
      "text/html": [
       "<div>\n",
       "<style scoped>\n",
       "    .dataframe tbody tr th:only-of-type {\n",
       "        vertical-align: middle;\n",
       "    }\n",
       "\n",
       "    .dataframe tbody tr th {\n",
       "        vertical-align: top;\n",
       "    }\n",
       "\n",
       "    .dataframe thead th {\n",
       "        text-align: right;\n",
       "    }\n",
       "</style>\n",
       "<table border=\"1\" class=\"dataframe\">\n",
       "  <thead>\n",
       "    <tr style=\"text-align: right;\">\n",
       "      <th></th>\n",
       "      <th>first_order_month</th>\n",
       "      <th>n_buyers</th>\n",
       "      <th>order_month</th>\n",
       "      <th>Revenue</th>\n",
       "      <th>age</th>\n",
       "      <th>ltv</th>\n",
       "      <th>dt_month</th>\n",
       "      <th>source_id</th>\n",
       "      <th>costs</th>\n",
       "      <th>cac</th>\n",
       "    </tr>\n",
       "  </thead>\n",
       "  <tbody>\n",
       "    <tr>\n",
       "      <td>0</td>\n",
       "      <td>2017-06-01</td>\n",
       "      <td>2023</td>\n",
       "      <td>2017-06-01</td>\n",
       "      <td>9557.49</td>\n",
       "      <td>0</td>\n",
       "      <td>4.724414</td>\n",
       "      <td>2017-06-01</td>\n",
       "      <td>1020</td>\n",
       "      <td>18015.0</td>\n",
       "      <td>8.905091</td>\n",
       "    </tr>\n",
       "    <tr>\n",
       "      <td>1</td>\n",
       "      <td>2017-06-01</td>\n",
       "      <td>2023</td>\n",
       "      <td>2017-07-01</td>\n",
       "      <td>981.82</td>\n",
       "      <td>1</td>\n",
       "      <td>0.485329</td>\n",
       "      <td>2017-06-01</td>\n",
       "      <td>1020</td>\n",
       "      <td>18015.0</td>\n",
       "      <td>8.905091</td>\n",
       "    </tr>\n",
       "    <tr>\n",
       "      <td>2</td>\n",
       "      <td>2017-06-01</td>\n",
       "      <td>2023</td>\n",
       "      <td>2017-08-01</td>\n",
       "      <td>885.34</td>\n",
       "      <td>2</td>\n",
       "      <td>0.437637</td>\n",
       "      <td>2017-06-01</td>\n",
       "      <td>1020</td>\n",
       "      <td>18015.0</td>\n",
       "      <td>8.905091</td>\n",
       "    </tr>\n",
       "    <tr>\n",
       "      <td>3</td>\n",
       "      <td>2017-06-01</td>\n",
       "      <td>2023</td>\n",
       "      <td>2017-09-01</td>\n",
       "      <td>1931.30</td>\n",
       "      <td>3</td>\n",
       "      <td>0.954671</td>\n",
       "      <td>2017-06-01</td>\n",
       "      <td>1020</td>\n",
       "      <td>18015.0</td>\n",
       "      <td>8.905091</td>\n",
       "    </tr>\n",
       "    <tr>\n",
       "      <td>4</td>\n",
       "      <td>2017-06-01</td>\n",
       "      <td>2023</td>\n",
       "      <td>2017-10-01</td>\n",
       "      <td>2068.58</td>\n",
       "      <td>4</td>\n",
       "      <td>1.022531</td>\n",
       "      <td>2017-06-01</td>\n",
       "      <td>1020</td>\n",
       "      <td>18015.0</td>\n",
       "      <td>8.905091</td>\n",
       "    </tr>\n",
       "  </tbody>\n",
       "</table>\n",
       "</div>"
      ],
      "text/plain": [
       "  first_order_month  n_buyers order_month  Revenue  age       ltv   dt_month  \\\n",
       "0        2017-06-01      2023  2017-06-01  9557.49    0  4.724414 2017-06-01   \n",
       "1        2017-06-01      2023  2017-07-01   981.82    1  0.485329 2017-06-01   \n",
       "2        2017-06-01      2023  2017-08-01   885.34    2  0.437637 2017-06-01   \n",
       "3        2017-06-01      2023  2017-09-01  1931.30    3  0.954671 2017-06-01   \n",
       "4        2017-06-01      2023  2017-10-01  2068.58    4  1.022531 2017-06-01   \n",
       "\n",
       "   source_id    costs       cac  \n",
       "0       1020  18015.0  8.905091  \n",
       "1       1020  18015.0  8.905091  \n",
       "2       1020  18015.0  8.905091  \n",
       "3       1020  18015.0  8.905091  \n",
       "4       1020  18015.0  8.905091  "
      ]
     },
     "execution_count": 50,
     "metadata": {},
     "output_type": "execute_result"
    }
   ],
   "source": [
    "report['first_order_month'] = pd.to_datetime(report['first_order_month'])\n",
    "monthly_costs = monthly_costs.reset_index()\n",
    "\n",
    "report_new = report.merge(monthly_costs, left_on='first_order_month', right_on='dt_month')\n",
    "report_new['cac'] = report_new['costs'] / report_new['n_buyers']\n",
    "report_new['first_order_month'] = report_new['first_order_month'].dt.date\n",
    "report_new.head()"
   ]
  },
  {
   "cell_type": "code",
   "execution_count": 51,
   "metadata": {},
   "outputs": [],
   "source": [
    "report_new['romi'] = report_new['ltv'] / report_new['cac']\n",
    "output = report_new.pivot_table(\n",
    "        index='first_order_month', \n",
    "        columns='age', \n",
    "        values='romi', \n",
    "        aggfunc='mean')\n",
    "\n",
    "output = output.cumsum(axis=1).round(2)"
   ]
  },
  {
   "cell_type": "code",
   "execution_count": 52,
   "metadata": {},
   "outputs": [
    {
     "data": {
      "image/png": "[encoded data removed]",
      "text/plain": [
       "<Figure size 936x648 with 2 Axes>"
      ]
     },
     "metadata": {},
     "output_type": "display_data"
    }
   ],
   "source": [
    "sns.set(style='white')\n",
    "plt.figure(figsize=(13, 9))\n",
    "plt.title('Cohorts: ROMI')\n",
    "sns.heatmap(output, annot=True, fmt='.2f', linewidths=1, linecolor='gray');"
   ]
  },
  {
   "cell_type": "markdown",
   "metadata": {},
   "source": [
    "**Let's see if there was a significant change in the distribution of the marketing budget (depending on the source) in the \"leading\" 4th cohort '2017-09-01'**"
   ]
  },
  {
   "cell_type": "code",
   "execution_count": 53,
   "metadata": {},
   "outputs": [],
   "source": [
    "cost_source_month = costs.groupby(['dt_month','source_id']).agg({'costs': 'sum'}\n",
    "                                                               ).reset_index()\n",
    "cost_source_month['dt_month'] = cost_source_month['dt_month'].dt.date"
   ]
  },
  {
   "cell_type": "code",
   "execution_count": 54,
   "metadata": {},
   "outputs": [
    {
     "data": {
      "image/png": "[encoded data removed]",
      "text/plain": [
       "<Figure size 895.325x595.44 with 1 Axes>"
      ]
     },
     "metadata": {},
     "output_type": "display_data"
    }
   ],
   "source": [
    "ax = sns.catplot(x='dt_month', y='costs', hue='source_id', kind='bar', \n",
    "                data = cost_source_month, height=8.27, aspect=11.7/8.27)\n",
    "ax.set_xticklabels(rotation=45);"
   ]
  },
  {
   "cell_type": "markdown",
   "metadata": {},
   "source": [
    "**Budget distribution in 4th cohort '2017-09-01' does not differ significantly from other cohorts. In addition, the increase in the budget is observed only from the next cohort**"
   ]
  },
  {
   "cell_type": "markdown",
   "metadata": {},
   "source": [
    "##### The behavior of seven cohorts was studied over 6 months. Only one cohort '2019-09-01' showed return on investment by 4th month  (which is December) and the first cohort ('2017-06-01') by 7th month (which is December as well) <br> Thus , the return on investment occurred during the seasonal peak of sales, and therefore, it is not advisable to take these results into account."
   ]
  },
  {
   "cell_type": "markdown",
   "metadata": {},
   "source": [
    "### CONCLUSION: \n",
    "#### The project 'Cultura' doesn't pay off in general.\n",
    "\n",
    "#### The only two cohorts,  which begin to pay off from 4th and 7th month. Moreover, the month of the beginning of return of investment is December. This is a traditional time for increasing spending to gifts and entertainment.\n",
    "\n",
    "#### In my opinion, it is possible to identify 2 main reasons of \"non-profitability\" of the project.\n",
    "- Low profit from each purchase (some purchases have zero profit, more than 90% of purchases bring profit less than  10 y.e. from each purchase)\n",
    "- Low Retention Rate: 1.9% - 9.0%.\n",
    "- Average number of purchases made by user per year: 1.38. That's mean, most buyers make a purchase only once a year.\n",
    "   \n",
    "#### Thus, I recommend targeting an ad campaign to customer retention. <br> It might be a choosing and mailing of thematic events for clients or offer a bonus system for repeated purchase."
   ]
  }
 ],
 "metadata": {
  "kernelspec": {
   "display_name": "Python 3",
   "language": "python",
   "name": "python3"
  },
  "language_info": {
   "codemirror_mode": {
    "name": "ipython",
    "version": 3
   },
   "file_extension": ".py",
   "mimetype": "text/x-python",
   "name": "python",
   "nbconvert_exporter": "python",
   "pygments_lexer": "ipython3",
   "version": "3.7.4"
  }
 },
 "nbformat": 4,
 "nbformat_minor": 2
}
