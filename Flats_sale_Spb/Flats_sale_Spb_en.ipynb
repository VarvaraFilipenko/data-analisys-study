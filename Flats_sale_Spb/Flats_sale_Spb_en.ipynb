{
 "cells": [
  {
   "cell_type": "markdown",
   "metadata": {},
   "source": [
    "# Research of apartment sale ads"
   ]
  },
  {
   "cell_type": "markdown",
   "metadata": {},
   "source": [
    "### Stage 1. Data research"
   ]
  },
  {
   "cell_type": "code",
   "execution_count": 2,
   "metadata": {},
   "outputs": [],
   "source": [
    "# import libraries\n",
    "import pandas as pd\n",
    "import matplotlib.pyplot as plt\n",
    "\n",
    "import warnings\n",
    "warnings.filterwarnings(\"ignore\")\n",
    "\n",
    "%matplotlib inline"
   ]
  },
  {
   "cell_type": "code",
   "execution_count": 4,
   "metadata": {},
   "outputs": [
    {
     "output_type": "execute_result",
     "data": {
      "text/plain": "   total_images  last_price  total_area first_day_exposition  rooms  \\\n0            20  13000000.0       108.0  2019-03-07T00:00:00      3   \n1             7   3350000.0        40.4  2018-12-04T00:00:00      1   \n2            10   5196000.0        56.0  2015-08-20T00:00:00      2   \n3             0  64900000.0       159.0  2015-07-24T00:00:00      3   \n4             2  10000000.0       100.0  2018-06-19T00:00:00      2   \n\n   ceiling_height  floors_total  living_area  floor is_apartment  ...  \\\n0            2.70          16.0         51.0      8          NaN  ...   \n1             NaN          11.0         18.6      1          NaN  ...   \n2             NaN           5.0         34.3      4          NaN  ...   \n3             NaN          14.0          NaN      9          NaN  ...   \n4            3.03          14.0         32.0     13          NaN  ...   \n\n   kitchen_area  balcony    locality_name  airports_nearest  \\\n0          25.0      NaN  Санкт-Петербург           18863.0   \n1          11.0      2.0   посёлок Шушары           12817.0   \n2           8.3      0.0  Санкт-Петербург           21741.0   \n3           NaN      0.0  Санкт-Петербург           28098.0   \n4          41.0      NaN  Санкт-Петербург           31856.0   \n\n  cityCenters_nearest  parks_around3000  parks_nearest  ponds_around3000  \\\n0             16028.0               1.0          482.0               2.0   \n1             18603.0               0.0            NaN               0.0   \n2             13933.0               1.0           90.0               2.0   \n3              6800.0               2.0           84.0               3.0   \n4              8098.0               2.0          112.0               1.0   \n\n   ponds_nearest  days_exposition  \n0          755.0              NaN  \n1            NaN             81.0  \n2          574.0            558.0  \n3          234.0            424.0  \n4           48.0            121.0  \n\n[5 rows x 22 columns]",
      "text/html": "<div>\n<style scoped>\n    .dataframe tbody tr th:only-of-type {\n        vertical-align: middle;\n    }\n\n    .dataframe tbody tr th {\n        vertical-align: top;\n    }\n\n    .dataframe thead th {\n        text-align: right;\n    }\n</style>\n<table border=\"1\" class=\"dataframe\">\n  <thead>\n    <tr style=\"text-align: right;\">\n      <th></th>\n      <th>total_images</th>\n      <th>last_price</th>\n      <th>total_area</th>\n      <th>first_day_exposition</th>\n      <th>rooms</th>\n      <th>ceiling_height</th>\n      <th>floors_total</th>\n      <th>living_area</th>\n      <th>floor</th>\n      <th>is_apartment</th>\n      <th>...</th>\n      <th>kitchen_area</th>\n      <th>balcony</th>\n      <th>locality_name</th>\n      <th>airports_nearest</th>\n      <th>cityCenters_nearest</th>\n      <th>parks_around3000</th>\n      <th>parks_nearest</th>\n      <th>ponds_around3000</th>\n      <th>ponds_nearest</th>\n      <th>days_exposition</th>\n    </tr>\n  </thead>\n  <tbody>\n    <tr>\n      <td>0</td>\n      <td>20</td>\n      <td>13000000.0</td>\n      <td>108.0</td>\n      <td>2019-03-07T00:00:00</td>\n      <td>3</td>\n      <td>2.70</td>\n      <td>16.0</td>\n      <td>51.0</td>\n      <td>8</td>\n      <td>NaN</td>\n      <td>...</td>\n      <td>25.0</td>\n      <td>NaN</td>\n      <td>Санкт-Петербург</td>\n      <td>18863.0</td>\n      <td>16028.0</td>\n      <td>1.0</td>\n      <td>482.0</td>\n      <td>2.0</td>\n      <td>755.0</td>\n      <td>NaN</td>\n    </tr>\n    <tr>\n      <td>1</td>\n      <td>7</td>\n      <td>3350000.0</td>\n      <td>40.4</td>\n      <td>2018-12-04T00:00:00</td>\n      <td>1</td>\n      <td>NaN</td>\n      <td>11.0</td>\n      <td>18.6</td>\n      <td>1</td>\n      <td>NaN</td>\n      <td>...</td>\n      <td>11.0</td>\n      <td>2.0</td>\n      <td>посёлок Шушары</td>\n      <td>12817.0</td>\n      <td>18603.0</td>\n      <td>0.0</td>\n      <td>NaN</td>\n      <td>0.0</td>\n      <td>NaN</td>\n      <td>81.0</td>\n    </tr>\n    <tr>\n      <td>2</td>\n      <td>10</td>\n      <td>5196000.0</td>\n      <td>56.0</td>\n      <td>2015-08-20T00:00:00</td>\n      <td>2</td>\n      <td>NaN</td>\n      <td>5.0</td>\n      <td>34.3</td>\n      <td>4</td>\n      <td>NaN</td>\n      <td>...</td>\n      <td>8.3</td>\n      <td>0.0</td>\n      <td>Санкт-Петербург</td>\n      <td>21741.0</td>\n      <td>13933.0</td>\n      <td>1.0</td>\n      <td>90.0</td>\n      <td>2.0</td>\n      <td>574.0</td>\n      <td>558.0</td>\n    </tr>\n    <tr>\n      <td>3</td>\n      <td>0</td>\n      <td>64900000.0</td>\n      <td>159.0</td>\n      <td>2015-07-24T00:00:00</td>\n      <td>3</td>\n      <td>NaN</td>\n      <td>14.0</td>\n      <td>NaN</td>\n      <td>9</td>\n      <td>NaN</td>\n      <td>...</td>\n      <td>NaN</td>\n      <td>0.0</td>\n      <td>Санкт-Петербург</td>\n      <td>28098.0</td>\n      <td>6800.0</td>\n      <td>2.0</td>\n      <td>84.0</td>\n      <td>3.0</td>\n      <td>234.0</td>\n      <td>424.0</td>\n    </tr>\n    <tr>\n      <td>4</td>\n      <td>2</td>\n      <td>10000000.0</td>\n      <td>100.0</td>\n      <td>2018-06-19T00:00:00</td>\n      <td>2</td>\n      <td>3.03</td>\n      <td>14.0</td>\n      <td>32.0</td>\n      <td>13</td>\n      <td>NaN</td>\n      <td>...</td>\n      <td>41.0</td>\n      <td>NaN</td>\n      <td>Санкт-Петербург</td>\n      <td>31856.0</td>\n      <td>8098.0</td>\n      <td>2.0</td>\n      <td>112.0</td>\n      <td>1.0</td>\n      <td>48.0</td>\n      <td>121.0</td>\n    </tr>\n  </tbody>\n</table>\n<p>5 rows × 22 columns</p>\n</div>"
     },
     "metadata": {},
     "execution_count": 4
    }
   ],
   "source": [
    "# read the data \n",
    "data = pd.read_csv('./real_estate_data.csv', sep = '\\t')\n",
    "data.head()"
   ]
  },
  {
   "cell_type": "code",
   "execution_count": 25,
   "metadata": {
    "scrolled": false
   },
   "outputs": [
    {
     "name": "stdout",
     "output_type": "stream",
     "text": [
      "<class 'pandas.core.frame.DataFrame'>\n",
      "RangeIndex: 23699 entries, 0 to 23698\n",
      "Data columns (total 22 columns):\n",
      "total_images            23699 non-null int64\n",
      "last_price              23699 non-null float64\n",
      "total_area              23699 non-null float64\n",
      "first_day_exposition    23699 non-null object\n",
      "rooms                   23699 non-null int64\n",
      "ceiling_height          14504 non-null float64\n",
      "floors_total            23613 non-null float64\n",
      "living_area             21796 non-null float64\n",
      "floor                   23699 non-null int64\n",
      "is_apartment            2775 non-null object\n",
      "studio                  23699 non-null bool\n",
      "open_plan               23699 non-null bool\n",
      "kitchen_area            21421 non-null float64\n",
      "balcony                 12180 non-null float64\n",
      "locality_name           23650 non-null object\n",
      "airports_nearest        18157 non-null float64\n",
      "cityCenters_nearest     18180 non-null float64\n",
      "parks_around3000        18181 non-null float64\n",
      "parks_nearest           8079 non-null float64\n",
      "ponds_around3000        18181 non-null float64\n",
      "ponds_nearest           9110 non-null float64\n",
      "days_exposition         20518 non-null float64\n",
      "dtypes: bool(2), float64(14), int64(3), object(3)\n",
      "memory usage: 3.7+ MB\n"
     ]
    }
   ],
   "source": [
    "# print the general information to check NaN values and columns type\n",
    "data.info()"
   ]
  },
  {
   "cell_type": "markdown",
   "metadata": {},
   "source": [
    "###### According to recieved information we see, there are NaN values in some columns. <br> Check values in each column and determine where and how NaN values should be filled."
   ]
  },
  {
   "cell_type": "code",
   "execution_count": 26,
   "metadata": {},
   "outputs": [
    {
     "data": {
      "text/plain": [
       "0     1059\n",
       "1      872\n",
       "2      640\n",
       "3      769\n",
       "4      986\n",
       "5     1301\n",
       "6     1482\n",
       "7     1521\n",
       "8     1585\n",
       "9     1725\n",
       "10    1798\n",
       "11    1362\n",
       "12    1225\n",
       "13    1015\n",
       "14     986\n",
       "15     948\n",
       "16     761\n",
       "17     650\n",
       "18     642\n",
       "19     603\n",
       "20    1694\n",
       "21      12\n",
       "22       8\n",
       "23      16\n",
       "24       8\n",
       "25       1\n",
       "26       5\n",
       "27       2\n",
       "28       4\n",
       "29       3\n",
       "30       2\n",
       "31       2\n",
       "32       4\n",
       "35       2\n",
       "37       1\n",
       "39       1\n",
       "42       1\n",
       "50       3\n",
       "Name: total_images, dtype: int64"
      ]
     },
     "execution_count": 26,
     "metadata": {},
     "output_type": "execute_result"
    }
   ],
   "source": [
    "# check values in column 'total_images'\n",
    "data['total_images'].value_counts().sort_index()"
   ]
  },
  {
   "cell_type": "markdown",
   "metadata": {},
   "source": [
    "######  Everything is ok"
   ]
  },
  {
   "cell_type": "code",
   "execution_count": 27,
   "metadata": {},
   "outputs": [
    {
     "name": "stdout",
     "output_type": "stream",
     "text": [
      "12190.0\n",
      "763000000.0\n"
     ]
    }
   ],
   "source": [
    "#check range of values in 'last_price' column\n",
    "print(data['last_price'].min())\n",
    "print(data['last_price'].max())"
   ]
  },
  {
   "cell_type": "markdown",
   "metadata": {},
   "source": [
    "###### <font color='red'>The range of values is too wide. <br> It is necessary to examine the price in more detail   for presence outlier</font>"
   ]
  },
  {
   "cell_type": "code",
   "execution_count": 28,
   "metadata": {},
   "outputs": [
    {
     "name": "stdout",
     "output_type": "stream",
     "text": [
      "12.0\n",
      "900.0\n"
     ]
    }
   ],
   "source": [
    "#check range of values in 'total_area' column\n",
    "print(data['total_area'].min())\n",
    "print(data['total_area'].max())"
   ]
  },
  {
   "cell_type": "markdown",
   "metadata": {},
   "source": [
    "###### <font color='red'>The range of values is too wide. <br> It is necessary to examine the price in more detail  for presence outlier</font>"
   ]
  },
  {
   "cell_type": "code",
   "execution_count": 29,
   "metadata": {
    "scrolled": true
   },
   "outputs": [
    {
     "data": {
      "text/plain": [
       "0      197\n",
       "1     8047\n",
       "2     7940\n",
       "3     5814\n",
       "4     1180\n",
       "5      326\n",
       "6      105\n",
       "7       59\n",
       "8       12\n",
       "9        8\n",
       "10       3\n",
       "11       2\n",
       "12       1\n",
       "14       2\n",
       "15       1\n",
       "16       1\n",
       "19       1\n",
       "Name: rooms, dtype: int64"
      ]
     },
     "execution_count": 29,
     "metadata": {},
     "output_type": "execute_result"
    }
   ],
   "source": [
    "# check values in 'rooms' column\n",
    "data['rooms'].value_counts().sort_index()"
   ]
  },
  {
   "cell_type": "markdown",
   "metadata": {},
   "source": [
    "###### <font color='red'>It's necessary to check ads with zero number of room. Is it studio or not.</font>"
   ]
  },
  {
   "cell_type": "code",
   "execution_count": 30,
   "metadata": {},
   "outputs": [
    {
     "name": "stdout",
     "output_type": "stream",
     "text": [
      "count of NaN: 9195\n",
      "min height: 1.0\n",
      "min height: 100.0\n"
     ]
    }
   ],
   "source": [
    "# Count number of NaN values in column 'ceiling_height',and max and min values\n",
    "print('count of NaN:',data['ceiling_height'].isna().sum())\n",
    "#print('min height:',(data.query('ceiling_height.isna() == False'))['ceiling_height'].min())\n",
    "#print('max height:',(data.query('ceiling_height.isna() == False'))['ceiling_height'].max())\n",
    "\n",
    "print('min height:', ( data[data['ceiling_height'].isna() == False] ['ceiling_height'].min() ))\n",
    "print('min height:', ( data[data['ceiling_height'].isna() == False] ['ceiling_height'].max() ))"
   ]
  },
  {
   "cell_type": "markdown",
   "metadata": {},
   "source": [
    "###### <font color='red'>NaN values should be filled. <br> The max and min values looks like outliers. </font>"
   ]
  },
  {
   "cell_type": "code",
   "execution_count": 31,
   "metadata": {},
   "outputs": [
    {
     "name": "stdout",
     "output_type": "stream",
     "text": [
      "floors_total info\n",
      "count of NaN: 86\n",
      "min: 1\n",
      "max: 33\n",
      "\n",
      "living_area info\n",
      "count of NaN: 1903\n",
      "min: 2.0\n",
      "max: 409.7\n"
     ]
    }
   ],
   "source": [
    "# Count number of NaN values in column 'floors_total' and 'living area'\n",
    "print('floors_total info')\n",
    "print('count of NaN:', data['floors_total'].isnull().sum())\n",
    "print('min:',data['floor'].min())\n",
    "print('max:', data['floor'].max())\n",
    "\n",
    "print()\n",
    "print('living_area info')\n",
    "print('count of NaN:', data['living_area'].isnull().sum())\n",
    "print('min:',data['living_area'].min())\n",
    "print('max:',data['living_area'].max())"
   ]
  },
  {
   "cell_type": "markdown",
   "metadata": {},
   "source": [
    "###### <font color='red'>NaN values should be filled. <br> 'living_area info' should be cleaned from outlier data </font>"
   ]
  },
  {
   "cell_type": "code",
   "execution_count": 32,
   "metadata": {},
   "outputs": [
    {
     "name": "stdout",
     "output_type": "stream",
     "text": [
      "False    2725\n",
      "True       50\n",
      "Name: is_apartment, dtype: int64\n",
      "count of NaN: 20924\n"
     ]
    }
   ],
   "source": [
    "# Count number of NaN values in column\n",
    "print(data['is_apartment'].value_counts())\n",
    "print('count of NaN:',data['is_apartment'].isnull().sum())"
   ]
  },
  {
   "cell_type": "markdown",
   "metadata": {},
   "source": [
    "###### <font color='red'>NaN values should be filled. <br> A column type should be chenged to 'bool'. </font>"
   ]
  },
  {
   "cell_type": "code",
   "execution_count": 33,
   "metadata": {},
   "outputs": [
    {
     "name": "stdout",
     "output_type": "stream",
     "text": [
      "studio_values\n",
      "False    23550\n",
      "True       149\n",
      "Name: studio, dtype: int64\n",
      "\n",
      "open_plan_values\n",
      "False    23632\n",
      "True        67\n",
      "Name: open_plan, dtype: int64\n"
     ]
    }
   ],
   "source": [
    "# check unique values in column 'studio_values'\n",
    "print('studio_values')\n",
    "print(data['studio'].value_counts())\n",
    "print('')\n",
    "# check unique values in column 'open_plan_values'\n",
    "print('open_plan_values')\n",
    "print(data['open_plan'].value_counts())"
   ]
  },
  {
   "cell_type": "markdown",
   "metadata": {},
   "source": [
    "###### Everything is ok"
   ]
  },
  {
   "cell_type": "code",
   "execution_count": 34,
   "metadata": {},
   "outputs": [
    {
     "name": "stdout",
     "output_type": "stream",
     "text": [
      "min value: 1.3\n",
      "max value: 112.0\n",
      "count of NaN: 2278\n"
     ]
    }
   ],
   "source": [
    "# count of NaN values in column 'kitchen_area' and check the range\n",
    "print('min value:', data['kitchen_area'].min())\n",
    "print('max value:', data['kitchen_area'].max())\n",
    "print('count of NaN:',data['kitchen_area'].isnull().sum())"
   ]
  },
  {
   "cell_type": "markdown",
   "metadata": {},
   "source": [
    "###### <font color='red'>NaN values should be filled. . </font>"
   ]
  },
  {
   "cell_type": "code",
   "execution_count": 35,
   "metadata": {
    "scrolled": true
   },
   "outputs": [
    {
     "name": "stdout",
     "output_type": "stream",
     "text": [
      "0.0    3758\n",
      "1.0    4195\n",
      "2.0    3659\n",
      "3.0      81\n",
      "4.0     183\n",
      "5.0     304\n",
      "Name: balcony, dtype: int64\n",
      "count of NaN: 11519\n"
     ]
    }
   ],
   "source": [
    "# count of NaN values in column 'balcony'\n",
    "print(data['balcony'].value_counts().sort_index())\n",
    "print('count of NaN:',data['balcony'].isnull().sum())"
   ]
  },
  {
   "cell_type": "markdown",
   "metadata": {},
   "source": [
    "###### <font color='red'>NaN values should be filled. </font>"
   ]
  },
  {
   "cell_type": "code",
   "execution_count": 36,
   "metadata": {},
   "outputs": [
    {
     "name": "stdout",
     "output_type": "stream",
     "text": [
      "count of NaN: 49\n"
     ]
    }
   ],
   "source": [
    "# count of NaN values in column 'locality_name'\n",
    "print('count of NaN:', data['locality_name'].isnull().sum())"
   ]
  },
  {
   "cell_type": "markdown",
   "metadata": {},
   "source": [
    "###### <font color='red'>NaN values should be filled or removed from data set </font>"
   ]
  },
  {
   "cell_type": "code",
   "execution_count": 37,
   "metadata": {},
   "outputs": [
    {
     "name": "stdout",
     "output_type": "stream",
     "text": [
      "min 0.0\n",
      "max 84869.0\n",
      "count of NaN value 5542\n"
     ]
    }
   ],
   "source": [
    "# check values in column - 'airports_nearest'\n",
    "print('min', data['airports_nearest'].min())\n",
    "print('max', data['airports_nearest'].max())\n",
    "print('count of NaN value',data['airports_nearest'].isnull().sum())"
   ]
  },
  {
   "cell_type": "markdown",
   "metadata": {},
   "source": [
    "###### <font color='red'>NaN values should be filled. <br> zero value is outlier and should be replaced to true value or to be ignored in analysis </font>"
   ]
  },
  {
   "cell_type": "code",
   "execution_count": 38,
   "metadata": {},
   "outputs": [
    {
     "name": "stdout",
     "output_type": "stream",
     "text": [
      "min: 181.0\n",
      "max: 65968.0\n",
      "count of NaN values: 5542\n"
     ]
    }
   ],
   "source": [
    "# check the column 'cityCenters_nearest'\n",
    "print('min:', data['cityCenters_nearest'].min())\n",
    "print('max:', data['cityCenters_nearest'].max())\n",
    "print('count of NaN values:',data['airports_nearest'].isnull().sum())"
   ]
  },
  {
   "cell_type": "markdown",
   "metadata": {},
   "source": [
    "###### <font color='red'>NaN values should be filled </font>"
   ]
  },
  {
   "cell_type": "code",
   "execution_count": 39,
   "metadata": {},
   "outputs": [
    {
     "name": "stdout",
     "output_type": "stream",
     "text": [
      "parks_around3000 information\n",
      "0.0    10106\n",
      "1.0     5681\n",
      "2.0     1747\n",
      "3.0      647\n",
      "Name: parks_around3000, dtype: int64\n",
      "count of NaN values: 5518\n",
      "\n",
      "ponds_around3000 information\n",
      "0.0    9071\n",
      "1.0    5717\n",
      "2.0    1892\n",
      "3.0    1501\n",
      "Name: ponds_around3000, dtype: int64\n",
      "count of NaN values: 5518\n"
     ]
    }
   ],
   "source": [
    "# check the column 'parks_around3000' and 'ponds_around3000'\n",
    "print('parks_around3000 information')\n",
    "print(data['parks_around3000'].value_counts().sort_index())\n",
    "print('count of NaN values:',data['parks_around3000'].isnull().sum())\n",
    "\n",
    "print('')\n",
    "print('ponds_around3000 information')\n",
    "print(data['ponds_around3000'].value_counts().sort_index())\n",
    "print('count of NaN values:',data['ponds_around3000'].isnull().sum())\n"
   ]
  },
  {
   "cell_type": "markdown",
   "metadata": {},
   "source": [
    "###### <font color='red'>NaN values should be filled </font>"
   ]
  },
  {
   "cell_type": "code",
   "execution_count": 40,
   "metadata": {},
   "outputs": [
    {
     "name": "stdout",
     "output_type": "stream",
     "text": [
      "nearest_park distance\n",
      "min: 1.0\n",
      "max: 3190.0\n",
      "count of NaN values: 15620\n",
      "\n",
      "nearest_pond distance\n",
      "min: 13.0\n",
      "max: 1344.0\n",
      "count of NaN values: 14589\n"
     ]
    }
   ],
   "source": [
    "# check the column 'nearest_park' and 'nearest_pond'\n",
    "print('nearest_park distance')\n",
    "print('min:', data['parks_nearest'].min())\n",
    "print('max:', data['parks_nearest'].max())\n",
    "print('count of NaN values:',data['parks_nearest'].isnull().sum())\n",
    "\n",
    "print('')\n",
    "print('nearest_pond distance')\n",
    "print('min:', data['ponds_nearest'].min())\n",
    "print('max:', data['ponds_nearest'].max())\n",
    "print('count of NaN values:',data['ponds_nearest'].isnull().sum())"
   ]
  },
  {
   "cell_type": "markdown",
   "metadata": {},
   "source": [
    "###### <font color='red'>NaN values should be filled </font>"
   ]
  },
  {
   "cell_type": "code",
   "execution_count": 41,
   "metadata": {},
   "outputs": [
    {
     "name": "stdout",
     "output_type": "stream",
     "text": [
      "min 1.0\n",
      "max 1580.0\n",
      "count of NaN values: 3181\n"
     ]
    }
   ],
   "source": [
    "# check values in column 'days_exposition'\n",
    "print('min', data['days_exposition'].min())\n",
    "print('max', data['days_exposition'].max())\n",
    "print('count of NaN values:',data['days_exposition'].isnull().sum())"
   ]
  },
  {
   "cell_type": "markdown",
   "metadata": {},
   "source": [
    "###### <font color='red'>NaN values should be filled </font>"
   ]
  },
  {
   "cell_type": "markdown",
   "metadata": {},
   "source": [
    "##  Сonclusions"
   ]
  },
  {
   "cell_type": "markdown",
   "metadata": {},
   "source": [
    "##### The data set contain information about 23699 flats. <br> It's required to modify information in some columns: to fill 'NaN' values, to clean outlier data, to change column type.\n",
    "\n",
    "##### total_images ----- ok <br> last_price --------- to clean outlier data , change type to int (stage 3) <br>total_area --------- to check outlier data (max value) (stage 3)<br>first_day_exposition --------- ok<br>rooms --------- ok<br>ceiling_height  ---------  to clean outlier data, to fill in NaN values<br>floors_total  ---------  to change type value to int<br>living_area  --------- to clean outlier data<br>floor  ---------  ok<br>is_apartment  ---------  to fill in NaN values, to change column type to bool<br>studio   ---------   ok<br>open_plan  ---------   ok<br>kitchen_area  ---------   to clean outlier data, to fill in NaN values<br>balcony  ---------  to fill in NaN values, to check 3-5 balkonies<br>locality_name  ---------  to fill in NaN values<br>airports_nearest  ---------  to fill in NaN values, to change column type to int<br>cityCenters_nearest  ---------  to fill in NaN values, to change column type to int<br>parks_around3000  ---------  to fill in NaN values, to change column type to int<br>parks_nearest  ---------   to fill in NaN values, to change column type to int<br>ponds_around3000  ---------  to fill in NaN values, to change column type to int<br>ponds_nearest  ---------   to fill in NaN values, to change column type to int<br>days_exposition  ---------   to fill in NaN values "
   ]
  },
  {
   "cell_type": "markdown",
   "metadata": {},
   "source": [
    "### Stage 2. Preliminary data preparation"
   ]
  },
  {
   "cell_type": "code",
   "execution_count": 42,
   "metadata": {
    "scrolled": true
   },
   "outputs": [
    {
     "data": {
      "image/png": "[encoded data removed]",
      "text/plain": [
       "<Figure size 432x288 with 1 Axes>"
      ]
     },
     "metadata": {
      "needs_background": "light"
     },
     "output_type": "display_data"
    }
   ],
   "source": [
    "#clean outlier data and to fill in NaN values in column 'ceiling_height'\n",
    "# draw the histogram to determine which values are outliers\n",
    "data['ceiling_height'].hist(bins=5,range=(1.5,5));"
   ]
  },
  {
   "cell_type": "code",
   "execution_count": 43,
   "metadata": {},
   "outputs": [
    {
     "name": "stdout",
     "output_type": "stream",
     "text": [
      "count    14504.000000\n",
      "mean         2.771499\n",
      "std          1.261056\n",
      "min          1.000000\n",
      "25%          2.520000\n",
      "50%          2.650000\n",
      "75%          2.800000\n",
      "max        100.000000\n",
      "Name: ceiling_height, dtype: float64\n"
     ]
    }
   ],
   "source": [
    "#check the max, min and median values of 'ceiling_height'\n",
    "print(data['ceiling_height'].describe())"
   ]
  },
  {
   "cell_type": "markdown",
   "metadata": {},
   "source": [
    "##### We can see on the histogram that the ceiling height, which is less than 2.2 m and above 4.4 m. are outliers. <br>It is not recommended to delete rows with these values, because the the most valuable information, like the price, will be loss in this way. The better way to replece outliers values to median ones."
   ]
  },
  {
   "cell_type": "code",
   "execution_count": 44,
   "metadata": {},
   "outputs": [],
   "source": [
    "# replace outlier values to median ones\n",
    "data.loc[(data['ceiling_height'] < 2.2) | (data['ceiling_height'] > 4.4), \n",
    "         'ceiling_height'] = data['ceiling_height'].median()"
   ]
  },
  {
   "cell_type": "code",
   "execution_count": 45,
   "metadata": {
    "scrolled": false
   },
   "outputs": [
    {
     "name": "stdout",
     "output_type": "stream",
     "text": [
      "Nan_values_ceiling_height_before: 9195\n",
      "Nan_values_ceiling_height_after: 0\n"
     ]
    }
   ],
   "source": [
    "# count NaN values in 'ceiling_height' columns\n",
    "print('Nan_values_ceiling_height_before:',data['ceiling_height'].isnull().sum())\n",
    "# find 'ceiling_height' median value\n",
    "ceiling_height_median = data['ceiling_height'].median()\n",
    "# replace NaN value to median\n",
    "data['ceiling_height'] = data['ceiling_height'].fillna(ceiling_height_median)\n",
    "# check NaN values after replacement \n",
    "print('Nan_values_ceiling_height_after:',data['ceiling_height'].isnull().sum())"
   ]
  },
  {
   "cell_type": "code",
   "execution_count": 46,
   "metadata": {},
   "outputs": [
    {
     "data": {
      "text/html": [
       "<div>\n",
       "<style scoped>\n",
       "    .dataframe tbody tr th:only-of-type {\n",
       "        vertical-align: middle;\n",
       "    }\n",
       "\n",
       "    .dataframe tbody tr th {\n",
       "        vertical-align: top;\n",
       "    }\n",
       "\n",
       "    .dataframe thead th {\n",
       "        text-align: right;\n",
       "    }\n",
       "</style>\n",
       "<table border=\"1\" class=\"dataframe\">\n",
       "  <thead>\n",
       "    <tr style=\"text-align: right;\">\n",
       "      <th></th>\n",
       "      <th>total_images</th>\n",
       "      <th>last_price</th>\n",
       "      <th>total_area</th>\n",
       "      <th>first_day_exposition</th>\n",
       "      <th>rooms</th>\n",
       "      <th>ceiling_height</th>\n",
       "      <th>floors_total</th>\n",
       "      <th>living_area</th>\n",
       "      <th>floor</th>\n",
       "      <th>is_apartment</th>\n",
       "      <th>...</th>\n",
       "      <th>kitchen_area</th>\n",
       "      <th>balcony</th>\n",
       "      <th>locality_name</th>\n",
       "      <th>airports_nearest</th>\n",
       "      <th>cityCenters_nearest</th>\n",
       "      <th>parks_around3000</th>\n",
       "      <th>parks_nearest</th>\n",
       "      <th>ponds_around3000</th>\n",
       "      <th>ponds_nearest</th>\n",
       "      <th>days_exposition</th>\n",
       "    </tr>\n",
       "  </thead>\n",
       "  <tbody>\n",
       "    <tr>\n",
       "      <td>0</td>\n",
       "      <td>20</td>\n",
       "      <td>13000000.0</td>\n",
       "      <td>108.0</td>\n",
       "      <td>2019-03-07T00:00:00</td>\n",
       "      <td>3</td>\n",
       "      <td>2.70</td>\n",
       "      <td>16.0</td>\n",
       "      <td>51.0</td>\n",
       "      <td>8</td>\n",
       "      <td>NaN</td>\n",
       "      <td>...</td>\n",
       "      <td>25.0</td>\n",
       "      <td>NaN</td>\n",
       "      <td>Санкт-Петербург</td>\n",
       "      <td>18863.0</td>\n",
       "      <td>16028.0</td>\n",
       "      <td>1.0</td>\n",
       "      <td>482.0</td>\n",
       "      <td>2.0</td>\n",
       "      <td>755.0</td>\n",
       "      <td>NaN</td>\n",
       "    </tr>\n",
       "    <tr>\n",
       "      <td>1</td>\n",
       "      <td>7</td>\n",
       "      <td>3350000.0</td>\n",
       "      <td>40.4</td>\n",
       "      <td>2018-12-04T00:00:00</td>\n",
       "      <td>1</td>\n",
       "      <td>2.65</td>\n",
       "      <td>11.0</td>\n",
       "      <td>18.6</td>\n",
       "      <td>1</td>\n",
       "      <td>NaN</td>\n",
       "      <td>...</td>\n",
       "      <td>11.0</td>\n",
       "      <td>2.0</td>\n",
       "      <td>посёлок Шушары</td>\n",
       "      <td>12817.0</td>\n",
       "      <td>18603.0</td>\n",
       "      <td>0.0</td>\n",
       "      <td>NaN</td>\n",
       "      <td>0.0</td>\n",
       "      <td>NaN</td>\n",
       "      <td>81.0</td>\n",
       "    </tr>\n",
       "    <tr>\n",
       "      <td>2</td>\n",
       "      <td>10</td>\n",
       "      <td>5196000.0</td>\n",
       "      <td>56.0</td>\n",
       "      <td>2015-08-20T00:00:00</td>\n",
       "      <td>2</td>\n",
       "      <td>2.65</td>\n",
       "      <td>5.0</td>\n",
       "      <td>34.3</td>\n",
       "      <td>4</td>\n",
       "      <td>NaN</td>\n",
       "      <td>...</td>\n",
       "      <td>8.3</td>\n",
       "      <td>0.0</td>\n",
       "      <td>Санкт-Петербург</td>\n",
       "      <td>21741.0</td>\n",
       "      <td>13933.0</td>\n",
       "      <td>1.0</td>\n",
       "      <td>90.0</td>\n",
       "      <td>2.0</td>\n",
       "      <td>574.0</td>\n",
       "      <td>558.0</td>\n",
       "    </tr>\n",
       "    <tr>\n",
       "      <td>3</td>\n",
       "      <td>0</td>\n",
       "      <td>64900000.0</td>\n",
       "      <td>159.0</td>\n",
       "      <td>2015-07-24T00:00:00</td>\n",
       "      <td>3</td>\n",
       "      <td>2.65</td>\n",
       "      <td>14.0</td>\n",
       "      <td>NaN</td>\n",
       "      <td>9</td>\n",
       "      <td>NaN</td>\n",
       "      <td>...</td>\n",
       "      <td>NaN</td>\n",
       "      <td>0.0</td>\n",
       "      <td>Санкт-Петербург</td>\n",
       "      <td>28098.0</td>\n",
       "      <td>6800.0</td>\n",
       "      <td>2.0</td>\n",
       "      <td>84.0</td>\n",
       "      <td>3.0</td>\n",
       "      <td>234.0</td>\n",
       "      <td>424.0</td>\n",
       "    </tr>\n",
       "    <tr>\n",
       "      <td>4</td>\n",
       "      <td>2</td>\n",
       "      <td>10000000.0</td>\n",
       "      <td>100.0</td>\n",
       "      <td>2018-06-19T00:00:00</td>\n",
       "      <td>2</td>\n",
       "      <td>3.03</td>\n",
       "      <td>14.0</td>\n",
       "      <td>32.0</td>\n",
       "      <td>13</td>\n",
       "      <td>NaN</td>\n",
       "      <td>...</td>\n",
       "      <td>41.0</td>\n",
       "      <td>NaN</td>\n",
       "      <td>Санкт-Петербург</td>\n",
       "      <td>31856.0</td>\n",
       "      <td>8098.0</td>\n",
       "      <td>2.0</td>\n",
       "      <td>112.0</td>\n",
       "      <td>1.0</td>\n",
       "      <td>48.0</td>\n",
       "      <td>121.0</td>\n",
       "    </tr>\n",
       "  </tbody>\n",
       "</table>\n",
       "<p>5 rows × 22 columns</p>\n",
       "</div>"
      ],
      "text/plain": [
       "   total_images  last_price  total_area first_day_exposition  rooms  \\\n",
       "0            20  13000000.0       108.0  2019-03-07T00:00:00      3   \n",
       "1             7   3350000.0        40.4  2018-12-04T00:00:00      1   \n",
       "2            10   5196000.0        56.0  2015-08-20T00:00:00      2   \n",
       "3             0  64900000.0       159.0  2015-07-24T00:00:00      3   \n",
       "4             2  10000000.0       100.0  2018-06-19T00:00:00      2   \n",
       "\n",
       "   ceiling_height  floors_total  living_area  floor is_apartment  ...  \\\n",
       "0            2.70          16.0         51.0      8          NaN  ...   \n",
       "1            2.65          11.0         18.6      1          NaN  ...   \n",
       "2            2.65           5.0         34.3      4          NaN  ...   \n",
       "3            2.65          14.0          NaN      9          NaN  ...   \n",
       "4            3.03          14.0         32.0     13          NaN  ...   \n",
       "\n",
       "   kitchen_area  balcony    locality_name  airports_nearest  \\\n",
       "0          25.0      NaN  Санкт-Петербург           18863.0   \n",
       "1          11.0      2.0   посёлок Шушары           12817.0   \n",
       "2           8.3      0.0  Санкт-Петербург           21741.0   \n",
       "3           NaN      0.0  Санкт-Петербург           28098.0   \n",
       "4          41.0      NaN  Санкт-Петербург           31856.0   \n",
       "\n",
       "  cityCenters_nearest  parks_around3000  parks_nearest  ponds_around3000  \\\n",
       "0             16028.0               1.0          482.0               2.0   \n",
       "1             18603.0               0.0            NaN               0.0   \n",
       "2             13933.0               1.0           90.0               2.0   \n",
       "3              6800.0               2.0           84.0               3.0   \n",
       "4              8098.0               2.0          112.0               1.0   \n",
       "\n",
       "   ponds_nearest  days_exposition  \n",
       "0          755.0              NaN  \n",
       "1            NaN             81.0  \n",
       "2          574.0            558.0  \n",
       "3          234.0            424.0  \n",
       "4           48.0            121.0  \n",
       "\n",
       "[5 rows x 22 columns]"
      ]
     },
     "execution_count": 46,
     "metadata": {},
     "output_type": "execute_result"
    }
   ],
   "source": [
    "# replace NaN values in column 'floors_total' to median value. \n",
    "# If number of floor greater then menian, replace NaN value to total_floors value\n",
    "\n",
    "floor_median = data['floors_total'].median()\n",
    "\n",
    "def FloorTotalValue(value):\n",
    "    if value > floor_median:\n",
    "        return floor_median\n",
    "    else:\n",
    "        return value\n",
    "\n",
    "cleaned = data[data['floors_total'].isnull()]\n",
    "nan_replacement = cleaned['floor'].apply(FloorTotalValue)\n",
    "data.loc[data['floors_total'].isnull(), 'floors_total'] = nan_replacement\n",
    "data.head()"
   ]
  },
  {
   "cell_type": "code",
   "execution_count": 54,
   "metadata": {},
   "outputs": [
    {
     "name": "stdout",
     "output_type": "stream",
     "text": [
      "NaN_value_living_area_before: 0\n",
      "NaN_value_living_area_after: 0\n"
     ]
    }
   ],
   "source": [
    "# fill NaN value in 'living_area'\n",
    "# count the number of NaN value\n",
    "print('NaN_value_living_area_before:',data['living_area'].isnull().sum())\n",
    "\n",
    "# Replace NaN values to median ones according to number of rooms\n",
    "for rooms in data['rooms'].unique():\n",
    "    filter_flags = data['living_area'].isnull() & (data['rooms'] == rooms)\n",
    "    data.loc[filter_flags, 'living_area'] = data.loc[data['rooms'] == rooms, 'living_area'].median()\n",
    "      \n",
    "# count the number of NaN value after replacement \n",
    "print('NaN_value_living_area_after:', data['living_area'].isnull().sum())"
   ]
  },
  {
   "cell_type": "code",
   "execution_count": 55,
   "metadata": {},
   "outputs": [
    {
     "name": "stdout",
     "output_type": "stream",
     "text": [
      "Nan_values_is_apartment 0\n",
      "Nan_values_is_apartment_after 0\n"
     ]
    },
    {
     "data": {
      "text/plain": [
       "0       23649\n",
       "True       50\n",
       "Name: is_apartment, dtype: int64"
      ]
     },
     "execution_count": 55,
     "metadata": {},
     "output_type": "execute_result"
    }
   ],
   "source": [
    "# fill NaN values in column 'is_apartment'\n",
    "#  count NaN values in 'is_apartment' columns\n",
    "print('Nan_values_is_apartment',data['is_apartment'].isnull().sum())\n",
    "# replace NaN value to 0\n",
    "data['is_apartment'] = data['is_apartment'].fillna(0)\n",
    "# check NaN values after replacement \n",
    "print('Nan_values_is_apartment_after',data['is_apartment'].isnull().sum())\n",
    "# check all unique values\n",
    "data['is_apartment'].value_counts()"
   ]
  },
  {
   "cell_type": "code",
   "execution_count": 56,
   "metadata": {},
   "outputs": [
    {
     "name": "stdout",
     "output_type": "stream",
     "text": [
      "Nan_values_kitchen_area_before 0\n",
      "Nan_values_kitchen_area_after 0\n"
     ]
    }
   ],
   "source": [
    "#  count NaN values in 'kitchen_area' columns\n",
    "print('Nan_values_kitchen_area_before', data['kitchen_area'].isnull().sum())\n",
    "              \n",
    "#Replace NaN value in 'kitchen area' to '0', if the flat is the studio\n",
    "data.loc[data['studio'] & data['kitchen_area'].isna(), 'kitchen_area'] = 0.0\n",
    "\n",
    "# Raplace all the rest values to median area in the flat with the same number of rooms\n",
    "for rooms in data['rooms'].unique():\n",
    "    filter_flags = data['kitchen_area'].isnull() & (data['rooms'] == rooms)\n",
    "    data.loc[filter_flags, 'kitchen_area'] = data.loc[data['rooms'] == rooms, 'kitchen_area'].median()\n",
    "\n",
    "# check the result after replacement\n",
    "print('Nan_values_kitchen_area_after', data['kitchen_area'].isnull().sum())"
   ]
  },
  {
   "cell_type": "code",
   "execution_count": 57,
   "metadata": {},
   "outputs": [
    {
     "data": {
      "image/png": "[encoded data removed]",
      "text/plain": [
       "<Figure size 432x288 with 1 Axes>"
      ]
     },
     "metadata": {
      "needs_background": "light"
     },
     "output_type": "display_data"
    }
   ],
   "source": [
    "#to fill the NaN value in column 'balcony'\n",
    "# sorted data by apartments without balcony\n",
    "#data_without_balcony = data.query('balcony.isnull() == True')\n",
    "data_without_balcony = data[data['balcony'].isnull() == True]\n",
    "# draw the histogram to check living area of sorted data\n",
    "data_without_balcony['living_area'].hist(bins = 10)\n",
    "plt.xlabel('living area')\n",
    "plt.ylabel('number of adds');"
   ]
  },
  {
   "cell_type": "markdown",
   "metadata": {},
   "source": [
    "##### We can see on the histogram, than most appartments with NaN values in column 'balcony' have living  area 20-40 m2. It's mean, we can assume these flats have no balconies, and we can change 'NaN' values to '0'"
   ]
  },
  {
   "cell_type": "code",
   "execution_count": 58,
   "metadata": {},
   "outputs": [
    {
     "name": "stdout",
     "output_type": "stream",
     "text": [
      "NaN_values_balcony_before 11519\n",
      "NaN_values_balcony_after 0\n"
     ]
    }
   ],
   "source": [
    "#replace 'NaN' values in column 'balcony' to '0'\n",
    "print('NaN_values_balcony_before',data['balcony'].isnull().sum())\n",
    "data['balcony'] = data['balcony'].fillna(0)\n",
    "# check if the date has been cleaned\n",
    "print('NaN_values_balcony_after', data['balcony'].isnull().sum())"
   ]
  },
  {
   "cell_type": "code",
   "execution_count": 59,
   "metadata": {},
   "outputs": [
    {
     "name": "stdout",
     "output_type": "stream",
     "text": [
      "NaN_value_locality_name: 49\n",
      "percentage of total: 0.20675977889362418\n"
     ]
    }
   ],
   "source": [
    "# fill NaN values in 'locality_name' column or remove these rows\n",
    "#count NaN values in 'locality_name' column\n",
    "print('NaN_value_locality_name:', data['locality_name'].isnull().sum())\n",
    "# calculate the percentage of total\n",
    "print('percentage of total:', data['locality_name'].isnull().sum()/len(data)*100)\n"
   ]
  },
  {
   "cell_type": "markdown",
   "metadata": {},
   "source": [
    "##### The percentage of NaN values in column locality name' is 0,2 % <b> We can't clear determine the right location, that's why we can remove rows with these values. "
   ]
  },
  {
   "cell_type": "code",
   "execution_count": 62,
   "metadata": {},
   "outputs": [
    {
     "data": {
      "text/html": [
       "<div>\n",
       "<style scoped>\n",
       "    .dataframe tbody tr th:only-of-type {\n",
       "        vertical-align: middle;\n",
       "    }\n",
       "\n",
       "    .dataframe tbody tr th {\n",
       "        vertical-align: top;\n",
       "    }\n",
       "\n",
       "    .dataframe thead th {\n",
       "        text-align: right;\n",
       "    }\n",
       "</style>\n",
       "<table border=\"1\" class=\"dataframe\">\n",
       "  <thead>\n",
       "    <tr style=\"text-align: right;\">\n",
       "      <th></th>\n",
       "      <th>index</th>\n",
       "      <th>total_images</th>\n",
       "      <th>last_price</th>\n",
       "      <th>total_area</th>\n",
       "      <th>first_day_exposition</th>\n",
       "      <th>rooms</th>\n",
       "      <th>ceiling_height</th>\n",
       "      <th>floors_total</th>\n",
       "      <th>living_area</th>\n",
       "      <th>floor</th>\n",
       "      <th>...</th>\n",
       "      <th>kitchen_area</th>\n",
       "      <th>balcony</th>\n",
       "      <th>locality_name</th>\n",
       "      <th>airports_nearest</th>\n",
       "      <th>cityCenters_nearest</th>\n",
       "      <th>parks_around3000</th>\n",
       "      <th>parks_nearest</th>\n",
       "      <th>ponds_around3000</th>\n",
       "      <th>ponds_nearest</th>\n",
       "      <th>days_exposition</th>\n",
       "    </tr>\n",
       "  </thead>\n",
       "  <tbody>\n",
       "    <tr>\n",
       "      <td>0</td>\n",
       "      <td>0</td>\n",
       "      <td>20</td>\n",
       "      <td>13000000.0</td>\n",
       "      <td>108.0</td>\n",
       "      <td>2019-03-07T00:00:00</td>\n",
       "      <td>3</td>\n",
       "      <td>2.70</td>\n",
       "      <td>16.0</td>\n",
       "      <td>51.0</td>\n",
       "      <td>8</td>\n",
       "      <td>...</td>\n",
       "      <td>25.0</td>\n",
       "      <td>0.0</td>\n",
       "      <td>Санкт-Петербург</td>\n",
       "      <td>18863.0</td>\n",
       "      <td>16028.0</td>\n",
       "      <td>1.0</td>\n",
       "      <td>482.0</td>\n",
       "      <td>2.0</td>\n",
       "      <td>755.0</td>\n",
       "      <td>NaN</td>\n",
       "    </tr>\n",
       "    <tr>\n",
       "      <td>1</td>\n",
       "      <td>1</td>\n",
       "      <td>7</td>\n",
       "      <td>3350000.0</td>\n",
       "      <td>40.4</td>\n",
       "      <td>2018-12-04T00:00:00</td>\n",
       "      <td>1</td>\n",
       "      <td>2.65</td>\n",
       "      <td>11.0</td>\n",
       "      <td>18.6</td>\n",
       "      <td>1</td>\n",
       "      <td>...</td>\n",
       "      <td>11.0</td>\n",
       "      <td>2.0</td>\n",
       "      <td>посёлок Шушары</td>\n",
       "      <td>12817.0</td>\n",
       "      <td>18603.0</td>\n",
       "      <td>0.0</td>\n",
       "      <td>NaN</td>\n",
       "      <td>0.0</td>\n",
       "      <td>NaN</td>\n",
       "      <td>81.0</td>\n",
       "    </tr>\n",
       "    <tr>\n",
       "      <td>2</td>\n",
       "      <td>2</td>\n",
       "      <td>10</td>\n",
       "      <td>5196000.0</td>\n",
       "      <td>56.0</td>\n",
       "      <td>2015-08-20T00:00:00</td>\n",
       "      <td>2</td>\n",
       "      <td>2.65</td>\n",
       "      <td>5.0</td>\n",
       "      <td>34.3</td>\n",
       "      <td>4</td>\n",
       "      <td>...</td>\n",
       "      <td>8.3</td>\n",
       "      <td>0.0</td>\n",
       "      <td>Санкт-Петербург</td>\n",
       "      <td>21741.0</td>\n",
       "      <td>13933.0</td>\n",
       "      <td>1.0</td>\n",
       "      <td>90.0</td>\n",
       "      <td>2.0</td>\n",
       "      <td>574.0</td>\n",
       "      <td>558.0</td>\n",
       "    </tr>\n",
       "    <tr>\n",
       "      <td>3</td>\n",
       "      <td>3</td>\n",
       "      <td>0</td>\n",
       "      <td>64900000.0</td>\n",
       "      <td>159.0</td>\n",
       "      <td>2015-07-24T00:00:00</td>\n",
       "      <td>3</td>\n",
       "      <td>2.65</td>\n",
       "      <td>14.0</td>\n",
       "      <td>45.0</td>\n",
       "      <td>9</td>\n",
       "      <td>...</td>\n",
       "      <td>9.5</td>\n",
       "      <td>0.0</td>\n",
       "      <td>Санкт-Петербург</td>\n",
       "      <td>28098.0</td>\n",
       "      <td>6800.0</td>\n",
       "      <td>2.0</td>\n",
       "      <td>84.0</td>\n",
       "      <td>3.0</td>\n",
       "      <td>234.0</td>\n",
       "      <td>424.0</td>\n",
       "    </tr>\n",
       "    <tr>\n",
       "      <td>4</td>\n",
       "      <td>4</td>\n",
       "      <td>2</td>\n",
       "      <td>10000000.0</td>\n",
       "      <td>100.0</td>\n",
       "      <td>2018-06-19T00:00:00</td>\n",
       "      <td>2</td>\n",
       "      <td>3.03</td>\n",
       "      <td>14.0</td>\n",
       "      <td>32.0</td>\n",
       "      <td>13</td>\n",
       "      <td>...</td>\n",
       "      <td>41.0</td>\n",
       "      <td>0.0</td>\n",
       "      <td>Санкт-Петербург</td>\n",
       "      <td>31856.0</td>\n",
       "      <td>8098.0</td>\n",
       "      <td>2.0</td>\n",
       "      <td>112.0</td>\n",
       "      <td>1.0</td>\n",
       "      <td>48.0</td>\n",
       "      <td>121.0</td>\n",
       "    </tr>\n",
       "  </tbody>\n",
       "</table>\n",
       "<p>5 rows × 23 columns</p>\n",
       "</div>"
      ],
      "text/plain": [
       "   index  total_images  last_price  total_area first_day_exposition  rooms  \\\n",
       "0      0            20  13000000.0       108.0  2019-03-07T00:00:00      3   \n",
       "1      1             7   3350000.0        40.4  2018-12-04T00:00:00      1   \n",
       "2      2            10   5196000.0        56.0  2015-08-20T00:00:00      2   \n",
       "3      3             0  64900000.0       159.0  2015-07-24T00:00:00      3   \n",
       "4      4             2  10000000.0       100.0  2018-06-19T00:00:00      2   \n",
       "\n",
       "   ceiling_height  floors_total  living_area  floor  ... kitchen_area  \\\n",
       "0            2.70          16.0         51.0      8  ...         25.0   \n",
       "1            2.65          11.0         18.6      1  ...         11.0   \n",
       "2            2.65           5.0         34.3      4  ...          8.3   \n",
       "3            2.65          14.0         45.0      9  ...          9.5   \n",
       "4            3.03          14.0         32.0     13  ...         41.0   \n",
       "\n",
       "   balcony    locality_name  airports_nearest  cityCenters_nearest  \\\n",
       "0      0.0  Санкт-Петербург           18863.0              16028.0   \n",
       "1      2.0   посёлок Шушары           12817.0              18603.0   \n",
       "2      0.0  Санкт-Петербург           21741.0              13933.0   \n",
       "3      0.0  Санкт-Петербург           28098.0               6800.0   \n",
       "4      0.0  Санкт-Петербург           31856.0               8098.0   \n",
       "\n",
       "  parks_around3000  parks_nearest  ponds_around3000  ponds_nearest  \\\n",
       "0              1.0          482.0               2.0          755.0   \n",
       "1              0.0            NaN               0.0            NaN   \n",
       "2              1.0           90.0               2.0          574.0   \n",
       "3              2.0           84.0               3.0          234.0   \n",
       "4              2.0          112.0               1.0           48.0   \n",
       "\n",
       "   days_exposition  \n",
       "0              NaN  \n",
       "1             81.0  \n",
       "2            558.0  \n",
       "3            424.0  \n",
       "4            121.0  \n",
       "\n",
       "[5 rows x 23 columns]"
      ]
     },
     "execution_count": 62,
     "metadata": {},
     "output_type": "execute_result"
    }
   ],
   "source": [
    "# remove the row with NaN value in 'locality_name' column\n",
    "data = data[data['locality_name'].isnull() == False]\n",
    "data.reset_index().head()"
   ]
  },
  {
   "cell_type": "code",
   "execution_count": 63,
   "metadata": {
    "scrolled": true
   },
   "outputs": [
    {
     "name": "stdout",
     "output_type": "stream",
     "text": [
      "NaN_ count_airport_nearest_before: 5534\n",
      "NaN_ count_airport_nearest_after: 5386\n"
     ]
    }
   ],
   "source": [
    "#count NaN values in 'airport_nearest' columns\n",
    "print('NaN_ count_airport_nearest_before:',data['airports_nearest'].isnull().sum())\n",
    "\n",
    "# replace NaN value to median value for the same location   \n",
    "for locality_name in data['locality_name'].unique():\n",
    "    filter_flags = data['airports_nearest'].isnull() & (data['locality_name'] == locality_name)\n",
    "    data.loc[filter_flags, 'airports_nearest'] = data.loc[data['locality_name'] == locality_name, 'airports_nearest'].median()\n",
    "        \n",
    "#count NaN values in 'airport_nearest' columns after replacement \n",
    "print('NaN_ count_airport_nearest_after:',data['airports_nearest'].isnull().sum())"
   ]
  },
  {
   "cell_type": "code",
   "execution_count": 64,
   "metadata": {},
   "outputs": [
    {
     "name": "stdout",
     "output_type": "stream",
     "text": [
      "airports_nearest_was_filled: 148\n"
     ]
    }
   ],
   "source": [
    "# calculate the number of NaN values was filled\n",
    "print('airports_nearest_was_filled:', 5534 - 5386)"
   ]
  },
  {
   "cell_type": "markdown",
   "metadata": {},
   "source": [
    "##### We are able to fill only 148 values from 5534 ones without analisys of external data. <b> These values are minor for our analysys and we can remain the value as 'NaN'."
   ]
  },
  {
   "cell_type": "code",
   "execution_count": 65,
   "metadata": {},
   "outputs": [
    {
     "name": "stdout",
     "output_type": "stream",
     "text": [
      "NaN_ count_cityCenters_nearest_before: 5511\n",
      "NaN_ count_cityCenters_nearest_after: 5386\n"
     ]
    }
   ],
   "source": [
    "#count NaN values in 'cityCenters_nearest' columns\n",
    "print('NaN_ count_cityCenters_nearest_before:',data['cityCenters_nearest'].isnull().sum())\n",
    "\n",
    "# replace NaN value to median value for the same location\n",
    "for locality_name in data['locality_name'].unique():\n",
    "    filter_flags = data['cityCenters_nearest'].isnull() & (data['locality_name'] == locality_name)\n",
    "    data.loc[filter_flags, 'cityCenters_nearest'] = data.loc[data['locality_name'] == locality_name, 'cityCenters_nearest'].median()\n",
    "\n",
    "#count NaN values in 'cityCenters_nearest' columns after replacement\n",
    "print('NaN_ count_cityCenters_nearest_after:',data['cityCenters_nearest'].isnull().sum())"
   ]
  },
  {
   "cell_type": "code",
   "execution_count": 66,
   "metadata": {},
   "outputs": [
    {
     "name": "stdout",
     "output_type": "stream",
     "text": [
      "airports_nearest_was_filled: 125\n"
     ]
    }
   ],
   "source": [
    "# calculate the number of NaN values was filled\n",
    "print('airports_nearest_was_filled:', 5511 - 5386)"
   ]
  },
  {
   "cell_type": "markdown",
   "metadata": {},
   "source": [
    "##### We are able to fill only 125 values from 5511 NaN values without analisys external data. <br>Remain the value as 'NaN\n"
   ]
  },
  {
   "cell_type": "code",
   "execution_count": 67,
   "metadata": {},
   "outputs": [
    {
     "name": "stdout",
     "output_type": "stream",
     "text": [
      "NaN_ count_parks_around3000_before: 5510\n",
      "NaN_ count_parks_around3000_after: 0\n"
     ]
    }
   ],
   "source": [
    "# count NaN values in 'parks_around3000' columns\n",
    "print('NaN_ count_parks_around3000_before:',data['parks_around3000'].isnull().sum())\n",
    "# replace NaN values to '0' (assume there aren't any parks near)\n",
    "data['parks_around3000'] = data['parks_around3000'].fillna(0)\n",
    "\n",
    "#count NaN values in 'parks_around3000' columns after replacement\n",
    "print('NaN_ count_parks_around3000_after:',data['parks_around3000'].isnull().sum())"
   ]
  },
  {
   "cell_type": "code",
   "execution_count": 68,
   "metadata": {},
   "outputs": [
    {
     "name": "stdout",
     "output_type": "stream",
     "text": [
      "3190.0    2\n",
      "3064.0    1\n",
      "3013.0    1\n",
      "Name: parks_nearest, dtype: int64\n",
      "15586\n"
     ]
    }
   ],
   "source": [
    "#check information in column 'park_nearest'\n",
    "# sort data by parameter without park\n",
    "data_park_nearest = data.query('parks_around3000 == 0')\n",
    "# count NaN unique values and NaN by column 'parks_nearest'\n",
    "print(data_park_nearest['parks_nearest'].value_counts())\n",
    "print(data_park_nearest['parks_nearest'].isnull().sum())"
   ]
  },
  {
   "cell_type": "markdown",
   "metadata": {},
   "source": [
    "##### There are 4 values 'park nearest'  > 3000. They should be replace to zero (because there is no any parks located to around). <br> And also there are 15586 'NaN' values that should be replaced by zero (there is no way to find actual information about distance to nearest park) "
   ]
  },
  {
   "cell_type": "code",
   "execution_count": 69,
   "metadata": {},
   "outputs": [
    {
     "name": "stdout",
     "output_type": "stream",
     "text": [
      "0\n"
     ]
    }
   ],
   "source": [
    "#Replace NaN and outlier values in 'parks_nearest' to '0'\n",
    "data.loc[data['parks_nearest'].isna(), 'parks_nearest'] = 0.0\n",
    "data.loc[data['parks_around3000'] == 0, 'parks_nearest'] = 0.0\n",
    "\n",
    "# check is the all values was replaced\n",
    "print(data['parks_nearest'].isnull().sum())"
   ]
  },
  {
   "cell_type": "code",
   "execution_count": 70,
   "metadata": {},
   "outputs": [
    {
     "name": "stdout",
     "output_type": "stream",
     "text": [
      "NaN_values_ponds_around3000_before: 5510\n",
      "NaN_values_ponds_around3000_after: 0\n"
     ]
    }
   ],
   "source": [
    "# count NaN values in column 'ponds_around3000'\n",
    "print('NaN_values_ponds_around3000_before:',data['ponds_around3000'].isnull().sum())\n",
    "\n",
    "# replace NaN values to '0'\n",
    "data['ponds_around3000'] = data['ponds_around3000'].fillna(0)\n",
    "\n",
    "# count NaN values in column 'ponds_around3000'\n",
    "print('NaN_values_ponds_around3000_after:',data['ponds_around3000'].isnull().sum())"
   ]
  },
  {
   "cell_type": "code",
   "execution_count": 71,
   "metadata": {},
   "outputs": [
    {
     "name": "stdout",
     "output_type": "stream",
     "text": [
      "Series([], Name: ponds_nearest, dtype: int64)\n",
      "14565\n"
     ]
    }
   ],
   "source": [
    "#check information in column 'ponds_nearest'\n",
    "data_park_nearest = data.query('ponds_around3000 == 0')\n",
    "print(data_park_nearest['ponds_nearest'].value_counts())\n",
    "print(data_park_nearest['ponds_nearest'].isnull().sum())"
   ]
  },
  {
   "cell_type": "code",
   "execution_count": 72,
   "metadata": {},
   "outputs": [
    {
     "name": "stdout",
     "output_type": "stream",
     "text": [
      "NaN_values_ponds_around3000_after: 0\n"
     ]
    }
   ],
   "source": [
    "# Fill NaN values to '0'\n",
    "data['ponds_nearest'] = data['ponds_nearest'].fillna(0)\n",
    "# check if  NaN values after replacement are there\n",
    "print('NaN_values_ponds_around3000_after:',data['ponds_around3000'].isnull().sum())"
   ]
  },
  {
   "cell_type": "code",
   "execution_count": 77,
   "metadata": {},
   "outputs": [
    {
     "data": {
      "text/html": [
       "<div>\n",
       "<style scoped>\n",
       "    .dataframe tbody tr th:only-of-type {\n",
       "        vertical-align: middle;\n",
       "    }\n",
       "\n",
       "    .dataframe tbody tr th {\n",
       "        vertical-align: top;\n",
       "    }\n",
       "\n",
       "    .dataframe thead th {\n",
       "        text-align: right;\n",
       "    }\n",
       "</style>\n",
       "<table border=\"1\" class=\"dataframe\">\n",
       "  <thead>\n",
       "    <tr style=\"text-align: right;\">\n",
       "      <th></th>\n",
       "      <th>first_day_exposition</th>\n",
       "      <th>last_price</th>\n",
       "      <th>rooms</th>\n",
       "      <th>locality_name</th>\n",
       "      <th>days_exposition</th>\n",
       "    </tr>\n",
       "  </thead>\n",
       "  <tbody>\n",
       "    <tr>\n",
       "      <td>3291</td>\n",
       "      <td>2014-11-27T00:00:00</td>\n",
       "      <td>8200000.0</td>\n",
       "      <td>1</td>\n",
       "      <td>Санкт-Петербург</td>\n",
       "      <td>NaN</td>\n",
       "    </tr>\n",
       "    <tr>\n",
       "      <td>3873</td>\n",
       "      <td>2014-11-27T00:00:00</td>\n",
       "      <td>20100000.0</td>\n",
       "      <td>3</td>\n",
       "      <td>Санкт-Петербург</td>\n",
       "      <td>NaN</td>\n",
       "    </tr>\n",
       "    <tr>\n",
       "      <td>15857</td>\n",
       "      <td>2014-11-27T00:00:00</td>\n",
       "      <td>25000000.0</td>\n",
       "      <td>3</td>\n",
       "      <td>Санкт-Петербург</td>\n",
       "      <td>NaN</td>\n",
       "    </tr>\n",
       "    <tr>\n",
       "      <td>6922</td>\n",
       "      <td>2014-12-08T00:00:00</td>\n",
       "      <td>29999000.0</td>\n",
       "      <td>3</td>\n",
       "      <td>Санкт-Петербург</td>\n",
       "      <td>NaN</td>\n",
       "    </tr>\n",
       "    <tr>\n",
       "      <td>11055</td>\n",
       "      <td>2014-12-09T00:00:00</td>\n",
       "      <td>8200000.0</td>\n",
       "      <td>1</td>\n",
       "      <td>Санкт-Петербург</td>\n",
       "      <td>NaN</td>\n",
       "    </tr>\n",
       "    <tr>\n",
       "      <td>...</td>\n",
       "      <td>...</td>\n",
       "      <td>...</td>\n",
       "      <td>...</td>\n",
       "      <td>...</td>\n",
       "      <td>...</td>\n",
       "    </tr>\n",
       "    <tr>\n",
       "      <td>14424</td>\n",
       "      <td>2019-05-03T00:00:00</td>\n",
       "      <td>14500000.0</td>\n",
       "      <td>3</td>\n",
       "      <td>Санкт-Петербург</td>\n",
       "      <td>NaN</td>\n",
       "    </tr>\n",
       "    <tr>\n",
       "      <td>8170</td>\n",
       "      <td>2019-05-03T00:00:00</td>\n",
       "      <td>3280000.0</td>\n",
       "      <td>1</td>\n",
       "      <td>городской посёлок Новоселье</td>\n",
       "      <td>NaN</td>\n",
       "    </tr>\n",
       "    <tr>\n",
       "      <td>4450</td>\n",
       "      <td>2019-05-03T00:00:00</td>\n",
       "      <td>3500000.0</td>\n",
       "      <td>1</td>\n",
       "      <td>Пушкин</td>\n",
       "      <td>NaN</td>\n",
       "    </tr>\n",
       "    <tr>\n",
       "      <td>12208</td>\n",
       "      <td>2019-05-03T00:00:00</td>\n",
       "      <td>9000000.0</td>\n",
       "      <td>2</td>\n",
       "      <td>Санкт-Петербург</td>\n",
       "      <td>NaN</td>\n",
       "    </tr>\n",
       "    <tr>\n",
       "      <td>15881</td>\n",
       "      <td>2019-05-03T00:00:00</td>\n",
       "      <td>2100000.0</td>\n",
       "      <td>1</td>\n",
       "      <td>посёлок Ленинское</td>\n",
       "      <td>NaN</td>\n",
       "    </tr>\n",
       "  </tbody>\n",
       "</table>\n",
       "<p>3180 rows × 5 columns</p>\n",
       "</div>"
      ],
      "text/plain": [
       "      first_day_exposition  last_price  rooms                locality_name  \\\n",
       "3291   2014-11-27T00:00:00   8200000.0      1              Санкт-Петербург   \n",
       "3873   2014-11-27T00:00:00  20100000.0      3              Санкт-Петербург   \n",
       "15857  2014-11-27T00:00:00  25000000.0      3              Санкт-Петербург   \n",
       "6922   2014-12-08T00:00:00  29999000.0      3              Санкт-Петербург   \n",
       "11055  2014-12-09T00:00:00   8200000.0      1              Санкт-Петербург   \n",
       "...                    ...         ...    ...                          ...   \n",
       "14424  2019-05-03T00:00:00  14500000.0      3              Санкт-Петербург   \n",
       "8170   2019-05-03T00:00:00   3280000.0      1  городской посёлок Новоселье   \n",
       "4450   2019-05-03T00:00:00   3500000.0      1                       Пушкин   \n",
       "12208  2019-05-03T00:00:00   9000000.0      2              Санкт-Петербург   \n",
       "15881  2019-05-03T00:00:00   2100000.0      1            посёлок Ленинское   \n",
       "\n",
       "       days_exposition  \n",
       "3291               NaN  \n",
       "3873               NaN  \n",
       "15857              NaN  \n",
       "6922               NaN  \n",
       "11055              NaN  \n",
       "...                ...  \n",
       "14424              NaN  \n",
       "8170               NaN  \n",
       "4450               NaN  \n",
       "12208              NaN  \n",
       "15881              NaN  \n",
       "\n",
       "[3180 rows x 5 columns]"
      ]
     },
     "execution_count": 77,
     "metadata": {},
     "output_type": "execute_result"
    }
   ],
   "source": [
    "# check NaN values in 'days_exposition' columns\n",
    "\n",
    "data_sorted = data[data['days_exposition'].isnull()][['first_day_exposition','last_price','rooms','locality_name','days_exposition']]\n",
    "data_sorted.sort_values(by = 'first_day_exposition')"
   ]
  },
  {
   "cell_type": "markdown",
   "metadata": {},
   "source": [
    "##### I suppose, there are a two reason of NaN value in 'days exposition' column.\n",
    "##### The first reason is 'technical issue'. This issue relevant for old advertisements. (2014-2016 year) <br>The second reason is the flat hasn't sold yet. This issue relevant for new advertisment.\n",
    "##### In both cases we can't predict the right values. Let's remain the NaN values and exclude these advertisment from analisys in future stages."
   ]
  },
  {
   "cell_type": "code",
   "execution_count": 78,
   "metadata": {},
   "outputs": [],
   "source": [
    "# change the type of values\n",
    "data = data.astype({'last_price': 'int','floors_total' : 'int','parks_around3000': 'int',\n",
    "                    'parks_nearest':'int','ponds_around3000':'int','ponds_nearest':'int',\n",
    "                    'balcony':'int','is_apartment':'bool'})"
   ]
  },
  {
   "cell_type": "code",
   "execution_count": 79,
   "metadata": {},
   "outputs": [
    {
     "data": {
      "text/html": [
       "<div>\n",
       "<style scoped>\n",
       "    .dataframe tbody tr th:only-of-type {\n",
       "        vertical-align: middle;\n",
       "    }\n",
       "\n",
       "    .dataframe tbody tr th {\n",
       "        vertical-align: top;\n",
       "    }\n",
       "\n",
       "    .dataframe thead th {\n",
       "        text-align: right;\n",
       "    }\n",
       "</style>\n",
       "<table border=\"1\" class=\"dataframe\">\n",
       "  <thead>\n",
       "    <tr style=\"text-align: right;\">\n",
       "      <th></th>\n",
       "      <th>total_images</th>\n",
       "      <th>last_price</th>\n",
       "      <th>total_area</th>\n",
       "      <th>first_day_exposition</th>\n",
       "      <th>rooms</th>\n",
       "      <th>ceiling_height</th>\n",
       "      <th>floors_total</th>\n",
       "      <th>living_area</th>\n",
       "      <th>floor</th>\n",
       "      <th>is_apartment</th>\n",
       "      <th>...</th>\n",
       "      <th>kitchen_area</th>\n",
       "      <th>balcony</th>\n",
       "      <th>locality_name</th>\n",
       "      <th>airports_nearest</th>\n",
       "      <th>cityCenters_nearest</th>\n",
       "      <th>parks_around3000</th>\n",
       "      <th>parks_nearest</th>\n",
       "      <th>ponds_around3000</th>\n",
       "      <th>ponds_nearest</th>\n",
       "      <th>days_exposition</th>\n",
       "    </tr>\n",
       "  </thead>\n",
       "  <tbody>\n",
       "    <tr>\n",
       "      <td>0</td>\n",
       "      <td>20</td>\n",
       "      <td>13000000</td>\n",
       "      <td>108.0</td>\n",
       "      <td>2019-03-07</td>\n",
       "      <td>3</td>\n",
       "      <td>2.70</td>\n",
       "      <td>16</td>\n",
       "      <td>51.0</td>\n",
       "      <td>8</td>\n",
       "      <td>False</td>\n",
       "      <td>...</td>\n",
       "      <td>25.0</td>\n",
       "      <td>0</td>\n",
       "      <td>Санкт-Петербург</td>\n",
       "      <td>18863.0</td>\n",
       "      <td>16028.0</td>\n",
       "      <td>1</td>\n",
       "      <td>482</td>\n",
       "      <td>2</td>\n",
       "      <td>755</td>\n",
       "      <td>NaN</td>\n",
       "    </tr>\n",
       "    <tr>\n",
       "      <td>1</td>\n",
       "      <td>7</td>\n",
       "      <td>3350000</td>\n",
       "      <td>40.4</td>\n",
       "      <td>2018-12-04</td>\n",
       "      <td>1</td>\n",
       "      <td>2.65</td>\n",
       "      <td>11</td>\n",
       "      <td>18.6</td>\n",
       "      <td>1</td>\n",
       "      <td>False</td>\n",
       "      <td>...</td>\n",
       "      <td>11.0</td>\n",
       "      <td>2</td>\n",
       "      <td>посёлок Шушары</td>\n",
       "      <td>12817.0</td>\n",
       "      <td>18603.0</td>\n",
       "      <td>0</td>\n",
       "      <td>0</td>\n",
       "      <td>0</td>\n",
       "      <td>0</td>\n",
       "      <td>81.0</td>\n",
       "    </tr>\n",
       "    <tr>\n",
       "      <td>2</td>\n",
       "      <td>10</td>\n",
       "      <td>5196000</td>\n",
       "      <td>56.0</td>\n",
       "      <td>2015-08-20</td>\n",
       "      <td>2</td>\n",
       "      <td>2.65</td>\n",
       "      <td>5</td>\n",
       "      <td>34.3</td>\n",
       "      <td>4</td>\n",
       "      <td>False</td>\n",
       "      <td>...</td>\n",
       "      <td>8.3</td>\n",
       "      <td>0</td>\n",
       "      <td>Санкт-Петербург</td>\n",
       "      <td>21741.0</td>\n",
       "      <td>13933.0</td>\n",
       "      <td>1</td>\n",
       "      <td>90</td>\n",
       "      <td>2</td>\n",
       "      <td>574</td>\n",
       "      <td>558.0</td>\n",
       "    </tr>\n",
       "    <tr>\n",
       "      <td>3</td>\n",
       "      <td>0</td>\n",
       "      <td>64900000</td>\n",
       "      <td>159.0</td>\n",
       "      <td>2015-07-24</td>\n",
       "      <td>3</td>\n",
       "      <td>2.65</td>\n",
       "      <td>14</td>\n",
       "      <td>45.0</td>\n",
       "      <td>9</td>\n",
       "      <td>False</td>\n",
       "      <td>...</td>\n",
       "      <td>9.5</td>\n",
       "      <td>0</td>\n",
       "      <td>Санкт-Петербург</td>\n",
       "      <td>28098.0</td>\n",
       "      <td>6800.0</td>\n",
       "      <td>2</td>\n",
       "      <td>84</td>\n",
       "      <td>3</td>\n",
       "      <td>234</td>\n",
       "      <td>424.0</td>\n",
       "    </tr>\n",
       "    <tr>\n",
       "      <td>4</td>\n",
       "      <td>2</td>\n",
       "      <td>10000000</td>\n",
       "      <td>100.0</td>\n",
       "      <td>2018-06-19</td>\n",
       "      <td>2</td>\n",
       "      <td>3.03</td>\n",
       "      <td>14</td>\n",
       "      <td>32.0</td>\n",
       "      <td>13</td>\n",
       "      <td>False</td>\n",
       "      <td>...</td>\n",
       "      <td>41.0</td>\n",
       "      <td>0</td>\n",
       "      <td>Санкт-Петербург</td>\n",
       "      <td>31856.0</td>\n",
       "      <td>8098.0</td>\n",
       "      <td>2</td>\n",
       "      <td>112</td>\n",
       "      <td>1</td>\n",
       "      <td>48</td>\n",
       "      <td>121.0</td>\n",
       "    </tr>\n",
       "  </tbody>\n",
       "</table>\n",
       "<p>5 rows × 22 columns</p>\n",
       "</div>"
      ],
      "text/plain": [
       "   total_images  last_price  total_area first_day_exposition  rooms  \\\n",
       "0            20    13000000       108.0           2019-03-07      3   \n",
       "1             7     3350000        40.4           2018-12-04      1   \n",
       "2            10     5196000        56.0           2015-08-20      2   \n",
       "3             0    64900000       159.0           2015-07-24      3   \n",
       "4             2    10000000       100.0           2018-06-19      2   \n",
       "\n",
       "   ceiling_height  floors_total  living_area  floor  is_apartment  ...  \\\n",
       "0            2.70            16         51.0      8         False  ...   \n",
       "1            2.65            11         18.6      1         False  ...   \n",
       "2            2.65             5         34.3      4         False  ...   \n",
       "3            2.65            14         45.0      9         False  ...   \n",
       "4            3.03            14         32.0     13         False  ...   \n",
       "\n",
       "   kitchen_area  balcony    locality_name  airports_nearest  \\\n",
       "0          25.0        0  Санкт-Петербург           18863.0   \n",
       "1          11.0        2   посёлок Шушары           12817.0   \n",
       "2           8.3        0  Санкт-Петербург           21741.0   \n",
       "3           9.5        0  Санкт-Петербург           28098.0   \n",
       "4          41.0        0  Санкт-Петербург           31856.0   \n",
       "\n",
       "  cityCenters_nearest  parks_around3000  parks_nearest  ponds_around3000  \\\n",
       "0             16028.0                 1            482                 2   \n",
       "1             18603.0                 0              0                 0   \n",
       "2             13933.0                 1             90                 2   \n",
       "3              6800.0                 2             84                 3   \n",
       "4              8098.0                 2            112                 1   \n",
       "\n",
       "   ponds_nearest  days_exposition  \n",
       "0            755              NaN  \n",
       "1              0             81.0  \n",
       "2            574            558.0  \n",
       "3            234            424.0  \n",
       "4             48            121.0  \n",
       "\n",
       "[5 rows x 22 columns]"
      ]
     },
     "execution_count": 79,
     "metadata": {},
     "output_type": "execute_result"
    }
   ],
   "source": [
    "# replace 'first_day_exposition' values from string to datetime64\n",
    "data['first_day_exposition'] = pd.to_datetime(data['first_day_exposition'],format='%Y-%m-%dT%H:%M:%S')\n",
    "data.head()"
   ]
  },
  {
   "cell_type": "code",
   "execution_count": 80,
   "metadata": {},
   "outputs": [
    {
     "name": "stdout",
     "output_type": "stream",
     "text": [
      "<class 'pandas.core.frame.DataFrame'>\n",
      "Int64Index: 23650 entries, 0 to 23698\n",
      "Data columns (total 22 columns):\n",
      "total_images            23650 non-null int64\n",
      "last_price              23650 non-null int64\n",
      "total_area              23650 non-null float64\n",
      "first_day_exposition    23650 non-null datetime64[ns]\n",
      "rooms                   23650 non-null int64\n",
      "ceiling_height          23650 non-null float64\n",
      "floors_total            23650 non-null int64\n",
      "living_area             23650 non-null float64\n",
      "floor                   23650 non-null int64\n",
      "is_apartment            23650 non-null bool\n",
      "studio                  23650 non-null bool\n",
      "open_plan               23650 non-null bool\n",
      "kitchen_area            23650 non-null float64\n",
      "balcony                 23650 non-null int64\n",
      "locality_name           23650 non-null object\n",
      "airports_nearest        18264 non-null float64\n",
      "cityCenters_nearest     18264 non-null float64\n",
      "parks_around3000        23650 non-null int64\n",
      "parks_nearest           23650 non-null int64\n",
      "ponds_around3000        23650 non-null int64\n",
      "ponds_nearest           23650 non-null int64\n",
      "days_exposition         20470 non-null float64\n",
      "dtypes: bool(3), datetime64[ns](1), float64(7), int64(10), object(1)\n",
      "memory usage: 3.7+ MB\n"
     ]
    }
   ],
   "source": [
    "# check if the type was changed\n",
    "data.info()"
   ]
  },
  {
   "cell_type": "code",
   "execution_count": 81,
   "metadata": {},
   "outputs": [
    {
     "data": {
      "text/plain": [
       "0"
      ]
     },
     "execution_count": 81,
     "metadata": {},
     "output_type": "execute_result"
    }
   ],
   "source": [
    "# check if duplicates are there\n",
    "data.duplicated().sum()"
   ]
  },
  {
   "cell_type": "markdown",
   "metadata": {},
   "source": [
    "### Stage 3. Аdditional information аdding"
   ]
  },
  {
   "cell_type": "code",
   "execution_count": 82,
   "metadata": {},
   "outputs": [
    {
     "data": {
      "text/html": [
       "<div>\n",
       "<style scoped>\n",
       "    .dataframe tbody tr th:only-of-type {\n",
       "        vertical-align: middle;\n",
       "    }\n",
       "\n",
       "    .dataframe tbody tr th {\n",
       "        vertical-align: top;\n",
       "    }\n",
       "\n",
       "    .dataframe thead th {\n",
       "        text-align: right;\n",
       "    }\n",
       "</style>\n",
       "<table border=\"1\" class=\"dataframe\">\n",
       "  <thead>\n",
       "    <tr style=\"text-align: right;\">\n",
       "      <th></th>\n",
       "      <th>total_images</th>\n",
       "      <th>last_price</th>\n",
       "      <th>total_area</th>\n",
       "      <th>first_day_exposition</th>\n",
       "      <th>rooms</th>\n",
       "      <th>ceiling_height</th>\n",
       "      <th>floors_total</th>\n",
       "      <th>living_area</th>\n",
       "      <th>floor</th>\n",
       "      <th>is_apartment</th>\n",
       "      <th>...</th>\n",
       "      <th>balcony</th>\n",
       "      <th>locality_name</th>\n",
       "      <th>airports_nearest</th>\n",
       "      <th>cityCenters_nearest</th>\n",
       "      <th>parks_around3000</th>\n",
       "      <th>parks_nearest</th>\n",
       "      <th>ponds_around3000</th>\n",
       "      <th>ponds_nearest</th>\n",
       "      <th>days_exposition</th>\n",
       "      <th>price_per_m2</th>\n",
       "    </tr>\n",
       "  </thead>\n",
       "  <tbody>\n",
       "    <tr>\n",
       "      <td>0</td>\n",
       "      <td>20</td>\n",
       "      <td>13000000</td>\n",
       "      <td>108.0</td>\n",
       "      <td>2019-03-07</td>\n",
       "      <td>3</td>\n",
       "      <td>2.70</td>\n",
       "      <td>16</td>\n",
       "      <td>51.0</td>\n",
       "      <td>8</td>\n",
       "      <td>False</td>\n",
       "      <td>...</td>\n",
       "      <td>0</td>\n",
       "      <td>Санкт-Петербург</td>\n",
       "      <td>18863.0</td>\n",
       "      <td>16028.0</td>\n",
       "      <td>1</td>\n",
       "      <td>482</td>\n",
       "      <td>2</td>\n",
       "      <td>755</td>\n",
       "      <td>NaN</td>\n",
       "      <td>120370</td>\n",
       "    </tr>\n",
       "    <tr>\n",
       "      <td>1</td>\n",
       "      <td>7</td>\n",
       "      <td>3350000</td>\n",
       "      <td>40.4</td>\n",
       "      <td>2018-12-04</td>\n",
       "      <td>1</td>\n",
       "      <td>2.65</td>\n",
       "      <td>11</td>\n",
       "      <td>18.6</td>\n",
       "      <td>1</td>\n",
       "      <td>False</td>\n",
       "      <td>...</td>\n",
       "      <td>2</td>\n",
       "      <td>посёлок Шушары</td>\n",
       "      <td>12817.0</td>\n",
       "      <td>18603.0</td>\n",
       "      <td>0</td>\n",
       "      <td>0</td>\n",
       "      <td>0</td>\n",
       "      <td>0</td>\n",
       "      <td>81.0</td>\n",
       "      <td>82920</td>\n",
       "    </tr>\n",
       "    <tr>\n",
       "      <td>2</td>\n",
       "      <td>10</td>\n",
       "      <td>5196000</td>\n",
       "      <td>56.0</td>\n",
       "      <td>2015-08-20</td>\n",
       "      <td>2</td>\n",
       "      <td>2.65</td>\n",
       "      <td>5</td>\n",
       "      <td>34.3</td>\n",
       "      <td>4</td>\n",
       "      <td>False</td>\n",
       "      <td>...</td>\n",
       "      <td>0</td>\n",
       "      <td>Санкт-Петербург</td>\n",
       "      <td>21741.0</td>\n",
       "      <td>13933.0</td>\n",
       "      <td>1</td>\n",
       "      <td>90</td>\n",
       "      <td>2</td>\n",
       "      <td>574</td>\n",
       "      <td>558.0</td>\n",
       "      <td>92785</td>\n",
       "    </tr>\n",
       "    <tr>\n",
       "      <td>3</td>\n",
       "      <td>0</td>\n",
       "      <td>64900000</td>\n",
       "      <td>159.0</td>\n",
       "      <td>2015-07-24</td>\n",
       "      <td>3</td>\n",
       "      <td>2.65</td>\n",
       "      <td>14</td>\n",
       "      <td>45.0</td>\n",
       "      <td>9</td>\n",
       "      <td>False</td>\n",
       "      <td>...</td>\n",
       "      <td>0</td>\n",
       "      <td>Санкт-Петербург</td>\n",
       "      <td>28098.0</td>\n",
       "      <td>6800.0</td>\n",
       "      <td>2</td>\n",
       "      <td>84</td>\n",
       "      <td>3</td>\n",
       "      <td>234</td>\n",
       "      <td>424.0</td>\n",
       "      <td>408176</td>\n",
       "    </tr>\n",
       "    <tr>\n",
       "      <td>4</td>\n",
       "      <td>2</td>\n",
       "      <td>10000000</td>\n",
       "      <td>100.0</td>\n",
       "      <td>2018-06-19</td>\n",
       "      <td>2</td>\n",
       "      <td>3.03</td>\n",
       "      <td>14</td>\n",
       "      <td>32.0</td>\n",
       "      <td>13</td>\n",
       "      <td>False</td>\n",
       "      <td>...</td>\n",
       "      <td>0</td>\n",
       "      <td>Санкт-Петербург</td>\n",
       "      <td>31856.0</td>\n",
       "      <td>8098.0</td>\n",
       "      <td>2</td>\n",
       "      <td>112</td>\n",
       "      <td>1</td>\n",
       "      <td>48</td>\n",
       "      <td>121.0</td>\n",
       "      <td>100000</td>\n",
       "    </tr>\n",
       "  </tbody>\n",
       "</table>\n",
       "<p>5 rows × 23 columns</p>\n",
       "</div>"
      ],
      "text/plain": [
       "   total_images  last_price  total_area first_day_exposition  rooms  \\\n",
       "0            20    13000000       108.0           2019-03-07      3   \n",
       "1             7     3350000        40.4           2018-12-04      1   \n",
       "2            10     5196000        56.0           2015-08-20      2   \n",
       "3             0    64900000       159.0           2015-07-24      3   \n",
       "4             2    10000000       100.0           2018-06-19      2   \n",
       "\n",
       "   ceiling_height  floors_total  living_area  floor  is_apartment  ...  \\\n",
       "0            2.70            16         51.0      8         False  ...   \n",
       "1            2.65            11         18.6      1         False  ...   \n",
       "2            2.65             5         34.3      4         False  ...   \n",
       "3            2.65            14         45.0      9         False  ...   \n",
       "4            3.03            14         32.0     13         False  ...   \n",
       "\n",
       "   balcony    locality_name  airports_nearest  cityCenters_nearest  \\\n",
       "0        0  Санкт-Петербург           18863.0              16028.0   \n",
       "1        2   посёлок Шушары           12817.0              18603.0   \n",
       "2        0  Санкт-Петербург           21741.0              13933.0   \n",
       "3        0  Санкт-Петербург           28098.0               6800.0   \n",
       "4        0  Санкт-Петербург           31856.0               8098.0   \n",
       "\n",
       "  parks_around3000  parks_nearest  ponds_around3000  ponds_nearest  \\\n",
       "0                1            482                 2            755   \n",
       "1                0              0                 0              0   \n",
       "2                1             90                 2            574   \n",
       "3                2             84                 3            234   \n",
       "4                2            112                 1             48   \n",
       "\n",
       "   days_exposition  price_per_m2  \n",
       "0              NaN        120370  \n",
       "1             81.0         82920  \n",
       "2            558.0         92785  \n",
       "3            424.0        408176  \n",
       "4            121.0        100000  \n",
       "\n",
       "[5 rows x 23 columns]"
      ]
     },
     "execution_count": 82,
     "metadata": {},
     "output_type": "execute_result"
    }
   ],
   "source": [
    "#Calculate the price of square meter for each flat and add this one to additional column\n",
    "data['price_per_m2'] =  data['last_price'] / data['total_area']\n",
    "data = data.astype({'price_per_m2': 'int'})\n",
    "data.head()"
   ]
  },
  {
   "cell_type": "code",
   "execution_count": 83,
   "metadata": {},
   "outputs": [
    {
     "data": {
      "text/html": [
       "<div>\n",
       "<style scoped>\n",
       "    .dataframe tbody tr th:only-of-type {\n",
       "        vertical-align: middle;\n",
       "    }\n",
       "\n",
       "    .dataframe tbody tr th {\n",
       "        vertical-align: top;\n",
       "    }\n",
       "\n",
       "    .dataframe thead th {\n",
       "        text-align: right;\n",
       "    }\n",
       "</style>\n",
       "<table border=\"1\" class=\"dataframe\">\n",
       "  <thead>\n",
       "    <tr style=\"text-align: right;\">\n",
       "      <th></th>\n",
       "      <th>total_images</th>\n",
       "      <th>last_price</th>\n",
       "      <th>total_area</th>\n",
       "      <th>first_day_exposition</th>\n",
       "      <th>rooms</th>\n",
       "      <th>ceiling_height</th>\n",
       "      <th>floors_total</th>\n",
       "      <th>living_area</th>\n",
       "      <th>floor</th>\n",
       "      <th>is_apartment</th>\n",
       "      <th>...</th>\n",
       "      <th>cityCenters_nearest</th>\n",
       "      <th>parks_around3000</th>\n",
       "      <th>parks_nearest</th>\n",
       "      <th>ponds_around3000</th>\n",
       "      <th>ponds_nearest</th>\n",
       "      <th>days_exposition</th>\n",
       "      <th>price_per_m2</th>\n",
       "      <th>weekday_exposition</th>\n",
       "      <th>month_exposition</th>\n",
       "      <th>year_exposition</th>\n",
       "    </tr>\n",
       "  </thead>\n",
       "  <tbody>\n",
       "    <tr>\n",
       "      <td>0</td>\n",
       "      <td>20</td>\n",
       "      <td>13000000</td>\n",
       "      <td>108.0</td>\n",
       "      <td>2019-03-07</td>\n",
       "      <td>3</td>\n",
       "      <td>2.70</td>\n",
       "      <td>16</td>\n",
       "      <td>51.0</td>\n",
       "      <td>8</td>\n",
       "      <td>False</td>\n",
       "      <td>...</td>\n",
       "      <td>16028.0</td>\n",
       "      <td>1</td>\n",
       "      <td>482</td>\n",
       "      <td>2</td>\n",
       "      <td>755</td>\n",
       "      <td>NaN</td>\n",
       "      <td>120370</td>\n",
       "      <td>3</td>\n",
       "      <td>3</td>\n",
       "      <td>2019</td>\n",
       "    </tr>\n",
       "    <tr>\n",
       "      <td>1</td>\n",
       "      <td>7</td>\n",
       "      <td>3350000</td>\n",
       "      <td>40.4</td>\n",
       "      <td>2018-12-04</td>\n",
       "      <td>1</td>\n",
       "      <td>2.65</td>\n",
       "      <td>11</td>\n",
       "      <td>18.6</td>\n",
       "      <td>1</td>\n",
       "      <td>False</td>\n",
       "      <td>...</td>\n",
       "      <td>18603.0</td>\n",
       "      <td>0</td>\n",
       "      <td>0</td>\n",
       "      <td>0</td>\n",
       "      <td>0</td>\n",
       "      <td>81.0</td>\n",
       "      <td>82920</td>\n",
       "      <td>1</td>\n",
       "      <td>12</td>\n",
       "      <td>2018</td>\n",
       "    </tr>\n",
       "    <tr>\n",
       "      <td>2</td>\n",
       "      <td>10</td>\n",
       "      <td>5196000</td>\n",
       "      <td>56.0</td>\n",
       "      <td>2015-08-20</td>\n",
       "      <td>2</td>\n",
       "      <td>2.65</td>\n",
       "      <td>5</td>\n",
       "      <td>34.3</td>\n",
       "      <td>4</td>\n",
       "      <td>False</td>\n",
       "      <td>...</td>\n",
       "      <td>13933.0</td>\n",
       "      <td>1</td>\n",
       "      <td>90</td>\n",
       "      <td>2</td>\n",
       "      <td>574</td>\n",
       "      <td>558.0</td>\n",
       "      <td>92785</td>\n",
       "      <td>3</td>\n",
       "      <td>8</td>\n",
       "      <td>2015</td>\n",
       "    </tr>\n",
       "    <tr>\n",
       "      <td>3</td>\n",
       "      <td>0</td>\n",
       "      <td>64900000</td>\n",
       "      <td>159.0</td>\n",
       "      <td>2015-07-24</td>\n",
       "      <td>3</td>\n",
       "      <td>2.65</td>\n",
       "      <td>14</td>\n",
       "      <td>45.0</td>\n",
       "      <td>9</td>\n",
       "      <td>False</td>\n",
       "      <td>...</td>\n",
       "      <td>6800.0</td>\n",
       "      <td>2</td>\n",
       "      <td>84</td>\n",
       "      <td>3</td>\n",
       "      <td>234</td>\n",
       "      <td>424.0</td>\n",
       "      <td>408176</td>\n",
       "      <td>4</td>\n",
       "      <td>7</td>\n",
       "      <td>2015</td>\n",
       "    </tr>\n",
       "    <tr>\n",
       "      <td>4</td>\n",
       "      <td>2</td>\n",
       "      <td>10000000</td>\n",
       "      <td>100.0</td>\n",
       "      <td>2018-06-19</td>\n",
       "      <td>2</td>\n",
       "      <td>3.03</td>\n",
       "      <td>14</td>\n",
       "      <td>32.0</td>\n",
       "      <td>13</td>\n",
       "      <td>False</td>\n",
       "      <td>...</td>\n",
       "      <td>8098.0</td>\n",
       "      <td>2</td>\n",
       "      <td>112</td>\n",
       "      <td>1</td>\n",
       "      <td>48</td>\n",
       "      <td>121.0</td>\n",
       "      <td>100000</td>\n",
       "      <td>1</td>\n",
       "      <td>6</td>\n",
       "      <td>2018</td>\n",
       "    </tr>\n",
       "  </tbody>\n",
       "</table>\n",
       "<p>5 rows × 26 columns</p>\n",
       "</div>"
      ],
      "text/plain": [
       "   total_images  last_price  total_area first_day_exposition  rooms  \\\n",
       "0            20    13000000       108.0           2019-03-07      3   \n",
       "1             7     3350000        40.4           2018-12-04      1   \n",
       "2            10     5196000        56.0           2015-08-20      2   \n",
       "3             0    64900000       159.0           2015-07-24      3   \n",
       "4             2    10000000       100.0           2018-06-19      2   \n",
       "\n",
       "   ceiling_height  floors_total  living_area  floor  is_apartment  ...  \\\n",
       "0            2.70            16         51.0      8         False  ...   \n",
       "1            2.65            11         18.6      1         False  ...   \n",
       "2            2.65             5         34.3      4         False  ...   \n",
       "3            2.65            14         45.0      9         False  ...   \n",
       "4            3.03            14         32.0     13         False  ...   \n",
       "\n",
       "   cityCenters_nearest  parks_around3000  parks_nearest  ponds_around3000  \\\n",
       "0              16028.0                 1            482                 2   \n",
       "1              18603.0                 0              0                 0   \n",
       "2              13933.0                 1             90                 2   \n",
       "3               6800.0                 2             84                 3   \n",
       "4               8098.0                 2            112                 1   \n",
       "\n",
       "  ponds_nearest  days_exposition  price_per_m2  weekday_exposition  \\\n",
       "0           755              NaN        120370                   3   \n",
       "1             0             81.0         82920                   1   \n",
       "2           574            558.0         92785                   3   \n",
       "3           234            424.0        408176                   4   \n",
       "4            48            121.0        100000                   1   \n",
       "\n",
       "   month_exposition  year_exposition  \n",
       "0                 3             2019  \n",
       "1                12             2018  \n",
       "2                 8             2015  \n",
       "3                 7             2015  \n",
       "4                 6             2018  \n",
       "\n",
       "[5 rows x 26 columns]"
      ]
     },
     "execution_count": 83,
     "metadata": {},
     "output_type": "execute_result"
    }
   ],
   "source": [
    "# find out below values and add these ones to additional column\n",
    "# the weekday of publication \n",
    "data['weekday_exposition'] = data['first_day_exposition'].dt.weekday\n",
    "# the month of publication\n",
    "data['month_exposition'] = pd.DatetimeIndex(data['first_day_exposition']).month\n",
    "# the year of publication\n",
    "data['year_exposition'] = pd.DatetimeIndex(data['first_day_exposition']).year\n",
    "data.head()"
   ]
  },
  {
   "cell_type": "code",
   "execution_count": 84,
   "metadata": {},
   "outputs": [
    {
     "data": {
      "text/html": [
       "<div>\n",
       "<style scoped>\n",
       "    .dataframe tbody tr th:only-of-type {\n",
       "        vertical-align: middle;\n",
       "    }\n",
       "\n",
       "    .dataframe tbody tr th {\n",
       "        vertical-align: top;\n",
       "    }\n",
       "\n",
       "    .dataframe thead th {\n",
       "        text-align: right;\n",
       "    }\n",
       "</style>\n",
       "<table border=\"1\" class=\"dataframe\">\n",
       "  <thead>\n",
       "    <tr style=\"text-align: right;\">\n",
       "      <th></th>\n",
       "      <th>total_images</th>\n",
       "      <th>last_price</th>\n",
       "      <th>total_area</th>\n",
       "      <th>first_day_exposition</th>\n",
       "      <th>rooms</th>\n",
       "      <th>ceiling_height</th>\n",
       "      <th>floors_total</th>\n",
       "      <th>living_area</th>\n",
       "      <th>floor</th>\n",
       "      <th>is_apartment</th>\n",
       "      <th>...</th>\n",
       "      <th>parks_around3000</th>\n",
       "      <th>parks_nearest</th>\n",
       "      <th>ponds_around3000</th>\n",
       "      <th>ponds_nearest</th>\n",
       "      <th>days_exposition</th>\n",
       "      <th>price_per_m2</th>\n",
       "      <th>weekday_exposition</th>\n",
       "      <th>month_exposition</th>\n",
       "      <th>year_exposition</th>\n",
       "      <th>floor_desc</th>\n",
       "    </tr>\n",
       "  </thead>\n",
       "  <tbody>\n",
       "    <tr>\n",
       "      <td>0</td>\n",
       "      <td>20</td>\n",
       "      <td>13000000</td>\n",
       "      <td>108.0</td>\n",
       "      <td>2019-03-07</td>\n",
       "      <td>3</td>\n",
       "      <td>2.70</td>\n",
       "      <td>16</td>\n",
       "      <td>51.0</td>\n",
       "      <td>8</td>\n",
       "      <td>False</td>\n",
       "      <td>...</td>\n",
       "      <td>1</td>\n",
       "      <td>482</td>\n",
       "      <td>2</td>\n",
       "      <td>755</td>\n",
       "      <td>NaN</td>\n",
       "      <td>120370</td>\n",
       "      <td>3</td>\n",
       "      <td>3</td>\n",
       "      <td>2019</td>\n",
       "      <td>other</td>\n",
       "    </tr>\n",
       "    <tr>\n",
       "      <td>1</td>\n",
       "      <td>7</td>\n",
       "      <td>3350000</td>\n",
       "      <td>40.4</td>\n",
       "      <td>2018-12-04</td>\n",
       "      <td>1</td>\n",
       "      <td>2.65</td>\n",
       "      <td>11</td>\n",
       "      <td>18.6</td>\n",
       "      <td>1</td>\n",
       "      <td>False</td>\n",
       "      <td>...</td>\n",
       "      <td>0</td>\n",
       "      <td>0</td>\n",
       "      <td>0</td>\n",
       "      <td>0</td>\n",
       "      <td>81.0</td>\n",
       "      <td>82920</td>\n",
       "      <td>1</td>\n",
       "      <td>12</td>\n",
       "      <td>2018</td>\n",
       "      <td>the first</td>\n",
       "    </tr>\n",
       "    <tr>\n",
       "      <td>2</td>\n",
       "      <td>10</td>\n",
       "      <td>5196000</td>\n",
       "      <td>56.0</td>\n",
       "      <td>2015-08-20</td>\n",
       "      <td>2</td>\n",
       "      <td>2.65</td>\n",
       "      <td>5</td>\n",
       "      <td>34.3</td>\n",
       "      <td>4</td>\n",
       "      <td>False</td>\n",
       "      <td>...</td>\n",
       "      <td>1</td>\n",
       "      <td>90</td>\n",
       "      <td>2</td>\n",
       "      <td>574</td>\n",
       "      <td>558.0</td>\n",
       "      <td>92785</td>\n",
       "      <td>3</td>\n",
       "      <td>8</td>\n",
       "      <td>2015</td>\n",
       "      <td>other</td>\n",
       "    </tr>\n",
       "    <tr>\n",
       "      <td>3</td>\n",
       "      <td>0</td>\n",
       "      <td>64900000</td>\n",
       "      <td>159.0</td>\n",
       "      <td>2015-07-24</td>\n",
       "      <td>3</td>\n",
       "      <td>2.65</td>\n",
       "      <td>14</td>\n",
       "      <td>45.0</td>\n",
       "      <td>9</td>\n",
       "      <td>False</td>\n",
       "      <td>...</td>\n",
       "      <td>2</td>\n",
       "      <td>84</td>\n",
       "      <td>3</td>\n",
       "      <td>234</td>\n",
       "      <td>424.0</td>\n",
       "      <td>408176</td>\n",
       "      <td>4</td>\n",
       "      <td>7</td>\n",
       "      <td>2015</td>\n",
       "      <td>other</td>\n",
       "    </tr>\n",
       "    <tr>\n",
       "      <td>4</td>\n",
       "      <td>2</td>\n",
       "      <td>10000000</td>\n",
       "      <td>100.0</td>\n",
       "      <td>2018-06-19</td>\n",
       "      <td>2</td>\n",
       "      <td>3.03</td>\n",
       "      <td>14</td>\n",
       "      <td>32.0</td>\n",
       "      <td>13</td>\n",
       "      <td>False</td>\n",
       "      <td>...</td>\n",
       "      <td>2</td>\n",
       "      <td>112</td>\n",
       "      <td>1</td>\n",
       "      <td>48</td>\n",
       "      <td>121.0</td>\n",
       "      <td>100000</td>\n",
       "      <td>1</td>\n",
       "      <td>6</td>\n",
       "      <td>2018</td>\n",
       "      <td>other</td>\n",
       "    </tr>\n",
       "  </tbody>\n",
       "</table>\n",
       "<p>5 rows × 27 columns</p>\n",
       "</div>"
      ],
      "text/plain": [
       "   total_images  last_price  total_area first_day_exposition  rooms  \\\n",
       "0            20    13000000       108.0           2019-03-07      3   \n",
       "1             7     3350000        40.4           2018-12-04      1   \n",
       "2            10     5196000        56.0           2015-08-20      2   \n",
       "3             0    64900000       159.0           2015-07-24      3   \n",
       "4             2    10000000       100.0           2018-06-19      2   \n",
       "\n",
       "   ceiling_height  floors_total  living_area  floor  is_apartment  ...  \\\n",
       "0            2.70            16         51.0      8         False  ...   \n",
       "1            2.65            11         18.6      1         False  ...   \n",
       "2            2.65             5         34.3      4         False  ...   \n",
       "3            2.65            14         45.0      9         False  ...   \n",
       "4            3.03            14         32.0     13         False  ...   \n",
       "\n",
       "   parks_around3000  parks_nearest  ponds_around3000  ponds_nearest  \\\n",
       "0                 1            482                 2            755   \n",
       "1                 0              0                 0              0   \n",
       "2                 1             90                 2            574   \n",
       "3                 2             84                 3            234   \n",
       "4                 2            112                 1             48   \n",
       "\n",
       "  days_exposition  price_per_m2  weekday_exposition  month_exposition  \\\n",
       "0             NaN        120370                   3                 3   \n",
       "1            81.0         82920                   1                12   \n",
       "2           558.0         92785                   3                 8   \n",
       "3           424.0        408176                   4                 7   \n",
       "4           121.0        100000                   1                 6   \n",
       "\n",
       "   year_exposition  floor_desc  \n",
       "0             2019       other  \n",
       "1             2018   the first  \n",
       "2             2015       other  \n",
       "3             2015       other  \n",
       "4             2018       other  \n",
       "\n",
       "[5 rows x 27 columns]"
      ]
     },
     "execution_count": 84,
     "metadata": {},
     "output_type": "execute_result"
    }
   ],
   "source": [
    "# add additional description to the floor\n",
    "def floor_desc(floor, floors_total):\n",
    "    if floor == 1:\n",
    "        return 'the first'\n",
    "    elif floor == floors_total:\n",
    "        return 'the last'\n",
    "    else:\n",
    "        return 'other'\n",
    "\n",
    "data['floor_desc'] = data.apply(lambda row: floor_desc(row['floor'], row['floors_total']), axis=1)\n",
    "data.head()"
   ]
  },
  {
   "cell_type": "code",
   "execution_count": 85,
   "metadata": {},
   "outputs": [
    {
     "data": {
      "text/html": [
       "<div>\n",
       "<style scoped>\n",
       "    .dataframe tbody tr th:only-of-type {\n",
       "        vertical-align: middle;\n",
       "    }\n",
       "\n",
       "    .dataframe tbody tr th {\n",
       "        vertical-align: top;\n",
       "    }\n",
       "\n",
       "    .dataframe thead th {\n",
       "        text-align: right;\n",
       "    }\n",
       "</style>\n",
       "<table border=\"1\" class=\"dataframe\">\n",
       "  <thead>\n",
       "    <tr style=\"text-align: right;\">\n",
       "      <th></th>\n",
       "      <th>total_images</th>\n",
       "      <th>last_price</th>\n",
       "      <th>total_area</th>\n",
       "      <th>first_day_exposition</th>\n",
       "      <th>rooms</th>\n",
       "      <th>ceiling_height</th>\n",
       "      <th>floors_total</th>\n",
       "      <th>living_area</th>\n",
       "      <th>floor</th>\n",
       "      <th>is_apartment</th>\n",
       "      <th>...</th>\n",
       "      <th>ponds_around3000</th>\n",
       "      <th>ponds_nearest</th>\n",
       "      <th>days_exposition</th>\n",
       "      <th>price_per_m2</th>\n",
       "      <th>weekday_exposition</th>\n",
       "      <th>month_exposition</th>\n",
       "      <th>year_exposition</th>\n",
       "      <th>floor_desc</th>\n",
       "      <th>living/total_area</th>\n",
       "      <th>kitchen/total_area</th>\n",
       "    </tr>\n",
       "  </thead>\n",
       "  <tbody>\n",
       "    <tr>\n",
       "      <td>0</td>\n",
       "      <td>20</td>\n",
       "      <td>13000000</td>\n",
       "      <td>108.0</td>\n",
       "      <td>2019-03-07</td>\n",
       "      <td>3</td>\n",
       "      <td>2.70</td>\n",
       "      <td>16</td>\n",
       "      <td>51.0</td>\n",
       "      <td>8</td>\n",
       "      <td>False</td>\n",
       "      <td>...</td>\n",
       "      <td>2</td>\n",
       "      <td>755</td>\n",
       "      <td>NaN</td>\n",
       "      <td>120370</td>\n",
       "      <td>3</td>\n",
       "      <td>3</td>\n",
       "      <td>2019</td>\n",
       "      <td>other</td>\n",
       "      <td>0.472222</td>\n",
       "      <td>0.231481</td>\n",
       "    </tr>\n",
       "    <tr>\n",
       "      <td>1</td>\n",
       "      <td>7</td>\n",
       "      <td>3350000</td>\n",
       "      <td>40.4</td>\n",
       "      <td>2018-12-04</td>\n",
       "      <td>1</td>\n",
       "      <td>2.65</td>\n",
       "      <td>11</td>\n",
       "      <td>18.6</td>\n",
       "      <td>1</td>\n",
       "      <td>False</td>\n",
       "      <td>...</td>\n",
       "      <td>0</td>\n",
       "      <td>0</td>\n",
       "      <td>81.0</td>\n",
       "      <td>82920</td>\n",
       "      <td>1</td>\n",
       "      <td>12</td>\n",
       "      <td>2018</td>\n",
       "      <td>the first</td>\n",
       "      <td>0.460396</td>\n",
       "      <td>0.272277</td>\n",
       "    </tr>\n",
       "    <tr>\n",
       "      <td>2</td>\n",
       "      <td>10</td>\n",
       "      <td>5196000</td>\n",
       "      <td>56.0</td>\n",
       "      <td>2015-08-20</td>\n",
       "      <td>2</td>\n",
       "      <td>2.65</td>\n",
       "      <td>5</td>\n",
       "      <td>34.3</td>\n",
       "      <td>4</td>\n",
       "      <td>False</td>\n",
       "      <td>...</td>\n",
       "      <td>2</td>\n",
       "      <td>574</td>\n",
       "      <td>558.0</td>\n",
       "      <td>92785</td>\n",
       "      <td>3</td>\n",
       "      <td>8</td>\n",
       "      <td>2015</td>\n",
       "      <td>other</td>\n",
       "      <td>0.612500</td>\n",
       "      <td>0.148214</td>\n",
       "    </tr>\n",
       "    <tr>\n",
       "      <td>3</td>\n",
       "      <td>0</td>\n",
       "      <td>64900000</td>\n",
       "      <td>159.0</td>\n",
       "      <td>2015-07-24</td>\n",
       "      <td>3</td>\n",
       "      <td>2.65</td>\n",
       "      <td>14</td>\n",
       "      <td>45.0</td>\n",
       "      <td>9</td>\n",
       "      <td>False</td>\n",
       "      <td>...</td>\n",
       "      <td>3</td>\n",
       "      <td>234</td>\n",
       "      <td>424.0</td>\n",
       "      <td>408176</td>\n",
       "      <td>4</td>\n",
       "      <td>7</td>\n",
       "      <td>2015</td>\n",
       "      <td>other</td>\n",
       "      <td>0.283019</td>\n",
       "      <td>0.059748</td>\n",
       "    </tr>\n",
       "    <tr>\n",
       "      <td>4</td>\n",
       "      <td>2</td>\n",
       "      <td>10000000</td>\n",
       "      <td>100.0</td>\n",
       "      <td>2018-06-19</td>\n",
       "      <td>2</td>\n",
       "      <td>3.03</td>\n",
       "      <td>14</td>\n",
       "      <td>32.0</td>\n",
       "      <td>13</td>\n",
       "      <td>False</td>\n",
       "      <td>...</td>\n",
       "      <td>1</td>\n",
       "      <td>48</td>\n",
       "      <td>121.0</td>\n",
       "      <td>100000</td>\n",
       "      <td>1</td>\n",
       "      <td>6</td>\n",
       "      <td>2018</td>\n",
       "      <td>other</td>\n",
       "      <td>0.320000</td>\n",
       "      <td>0.410000</td>\n",
       "    </tr>\n",
       "  </tbody>\n",
       "</table>\n",
       "<p>5 rows × 29 columns</p>\n",
       "</div>"
      ],
      "text/plain": [
       "   total_images  last_price  total_area first_day_exposition  rooms  \\\n",
       "0            20    13000000       108.0           2019-03-07      3   \n",
       "1             7     3350000        40.4           2018-12-04      1   \n",
       "2            10     5196000        56.0           2015-08-20      2   \n",
       "3             0    64900000       159.0           2015-07-24      3   \n",
       "4             2    10000000       100.0           2018-06-19      2   \n",
       "\n",
       "   ceiling_height  floors_total  living_area  floor  is_apartment  ...  \\\n",
       "0            2.70            16         51.0      8         False  ...   \n",
       "1            2.65            11         18.6      1         False  ...   \n",
       "2            2.65             5         34.3      4         False  ...   \n",
       "3            2.65            14         45.0      9         False  ...   \n",
       "4            3.03            14         32.0     13         False  ...   \n",
       "\n",
       "   ponds_around3000  ponds_nearest  days_exposition  price_per_m2  \\\n",
       "0                 2            755              NaN        120370   \n",
       "1                 0              0             81.0         82920   \n",
       "2                 2            574            558.0         92785   \n",
       "3                 3            234            424.0        408176   \n",
       "4                 1             48            121.0        100000   \n",
       "\n",
       "  weekday_exposition  month_exposition  year_exposition  floor_desc  \\\n",
       "0                  3                 3             2019       other   \n",
       "1                  1                12             2018   the first   \n",
       "2                  3                 8             2015       other   \n",
       "3                  4                 7             2015       other   \n",
       "4                  1                 6             2018       other   \n",
       "\n",
       "   living/total_area  kitchen/total_area  \n",
       "0           0.472222            0.231481  \n",
       "1           0.460396            0.272277  \n",
       "2           0.612500            0.148214  \n",
       "3           0.283019            0.059748  \n",
       "4           0.320000            0.410000  \n",
       "\n",
       "[5 rows x 29 columns]"
      ]
     },
     "execution_count": 85,
     "metadata": {},
     "output_type": "execute_result"
    }
   ],
   "source": [
    "# calculate the living/total_area ratio and add additional column\n",
    "data['living/total_area'] =  data['living_area'] / data['total_area']\n",
    "\n",
    "# calculate the living/total_area ratio and add additional column\n",
    "data['kitchen/total_area'] = data['kitchen_area'] / data['total_area']\n",
    "\n",
    "data.head()"
   ]
  },
  {
   "cell_type": "markdown",
   "metadata": {},
   "source": [
    "### Stage 4. Perform research data analysis and follow the instructions:"
   ]
  },
  {
   "cell_type": "markdown",
   "metadata": {},
   "source": [
    "<i> Research the following parameters: area, price, number of rooms, ceiling height. Build histograms for each parameter <i>"
   ]
  },
  {
   "cell_type": "code",
   "execution_count": 87,
   "metadata": {},
   "outputs": [
    {
     "data": {
      "image/png": "[encoded data removed]",
      "text/plain": [
       "<Figure size 504x360 with 1 Axes>"
      ]
     },
     "metadata": {
      "needs_background": "light"
     },
     "output_type": "display_data"
    },
    {
     "data": {
      "image/png": "[encoded data removed]",
      "text/plain": [
       "<Figure size 504x360 with 1 Axes>"
      ]
     },
     "metadata": {
      "needs_background": "light"
     },
     "output_type": "display_data"
    },
    {
     "data": {
      "image/png": "[encoded data removed]",
      "text/plain": [
       "<Figure size 504x360 with 1 Axes>"
      ]
     },
     "metadata": {
      "needs_background": "light"
     },
     "output_type": "display_data"
    }
   ],
   "source": [
    "# Draw the histogram and check the distribution of total_area, last price, number of rooms\n",
    "# create a new column 'last_price_mln' for better visibility\n",
    "data['last_price_mln'] = data['last_price'] / 1000000\n",
    "\n",
    "parameters = ['total_area','last_price_mln','rooms']\n",
    "\n",
    "for i in parameters:\n",
    "    data[i].hist(figsize = (7,5))\n",
    "    plt.xlabel(i, fontsize=14)\n",
    "    plt.ylabel('number of flats', fontsize=14)\n",
    "    plt.show();"
   ]
  },
  {
   "cell_type": "markdown",
   "metadata": {},
   "source": [
    "##### On the histogram we see: the pick of total_area in range 5-100 m2. <br>The pick of last price in range 0-80 mln. <br> The range of number of rooms - 1-3 ones.\n",
    "##### These histograms are not informative.Check these ranges of values more careful using type of plot - boxplot"
   ]
  },
  {
   "cell_type": "code",
   "execution_count": 88,
   "metadata": {
    "scrolled": false
   },
   "outputs": [],
   "source": [
    "#function for drawing boxplot\n",
    "def boxplotF(columns,range_left,range_right):    \n",
    "    data.boxplot(column=columns)\n",
    "    plt.ylabel(columns)\n",
    "    plt.ylim(range_left, range_right)\n",
    "    print(data[columns].describe()) "
   ]
  },
  {
   "cell_type": "code",
   "execution_count": 94,
   "metadata": {},
   "outputs": [
    {
     "name": "stdout",
     "output_type": "stream",
     "text": [
      "count    23650.000000\n",
      "mean        60.329069\n",
      "std         35.661808\n",
      "min         12.000000\n",
      "25%         40.000000\n",
      "50%         52.000000\n",
      "75%         69.700000\n",
      "max        900.000000\n",
      "Name: total_area, dtype: float64\n"
     ]
    },
    {
     "data": {
      "image/png": "[encoded data removed]",
      "text/plain": [
       "<Figure size 432x288 with 1 Axes>"
      ]
     },
     "metadata": {
      "needs_background": "light"
     },
     "output_type": "display_data"
    }
   ],
   "source": [
    "# draw boxplot for total area\n",
    "A = boxplotF('total_area',0,120);"
   ]
  },
  {
   "cell_type": "code",
   "execution_count": 95,
   "metadata": {},
   "outputs": [
    {
     "name": "stdout",
     "output_type": "stream",
     "text": [
      "upper whisker border 112.5\n",
      "lower whisker border -3.5\n"
     ]
    }
   ],
   "source": [
    "# calculate the border of whiskers\n",
    "print('upper whisker border',(69-40)*1.5+69)\n",
    "print('lower whisker border', 40-(69-40)*1.5)\n",
    "# it means the lower border equal to 0"
   ]
  },
  {
   "cell_type": "code",
   "execution_count": 96,
   "metadata": {},
   "outputs": [
    {
     "name": "stdout",
     "output_type": "stream",
     "text": [
      "number of big flat:  1310\n"
     ]
    }
   ],
   "source": [
    "# calculate the number of flats out of the range of 'normal flats'\n",
    "print('number of big flat: ',len(data.query('total_area > 112.5')))"
   ]
  },
  {
   "cell_type": "markdown",
   "metadata": {},
   "source": [
    "##### We see the normal area for analisys from 12 to 112,5 m2. <br> The outlier area starts from 112,5 m2. Number of flats with outlier area is 1310 <br> But we can't discard this data, because it is a special segment 'BIG FLATS'. <br> We should research this segment separately of the rest flats."
   ]
  },
  {
   "cell_type": "code",
   "execution_count": 98,
   "metadata": {},
   "outputs": [
    {
     "name": "stdout",
     "output_type": "stream",
     "text": [
      "count    23650.000000\n",
      "mean         6.541127\n",
      "std         10.896399\n",
      "min          0.012190\n",
      "25%          3.400000\n",
      "50%          4.650000\n",
      "75%          6.799000\n",
      "max        763.000000\n",
      "Name: last_price_mln, dtype: float64\n"
     ]
    },
    {
     "data": {
      "image/png": "[encoded data removed]",
      "text/plain": [
       "<Figure size 432x288 with 1 Axes>"
      ]
     },
     "metadata": {
      "needs_background": "light"
     },
     "output_type": "display_data"
    }
   ],
   "source": [
    "# draw boxplot for last_price_mln\n",
    "boxplotF('last_price_mln',-2,15);"
   ]
  },
  {
   "cell_type": "code",
   "execution_count": 99,
   "metadata": {},
   "outputs": [
    {
     "name": "stdout",
     "output_type": "stream",
     "text": [
      "upper whisker border 11.8975\n",
      "lower whisker border -1.6985000000000006\n",
      "number of expensive flat: 2055\n"
     ]
    }
   ],
   "source": [
    "# calculate the border of whiskers\n",
    "print('upper whisker border',(6.799 - 3.4)*1.5+6.799)\n",
    "print('lower whisker border', 3.4-(6.799 - 3.4)*1.5)\n",
    "# it means the lower border equal to 0\n",
    "\n",
    "print('number of expensive flat:', len(data.query('last_price_mln > 11.8975')))\n",
    "\n"
   ]
  },
  {
   "cell_type": "markdown",
   "metadata": {},
   "source": [
    "##### The normal price for analisys from 0 to 11.89 mln. <br> The outlier price starts from 11.89 mln. <br> Number of flats with outlier price are 2055. <br> But we can't discard this data, because it is a special segment 'EXPENSIVE FLATS'. We should explore this segment separately of the rest flats. "
   ]
  },
  {
   "cell_type": "code",
   "execution_count": 101,
   "metadata": {},
   "outputs": [
    {
     "name": "stdout",
     "output_type": "stream",
     "text": [
      "count    23650.000000\n",
      "mean         2.070106\n",
      "std          1.078620\n",
      "min          0.000000\n",
      "25%          1.000000\n",
      "50%          2.000000\n",
      "75%          3.000000\n",
      "max         19.000000\n",
      "Name: rooms, dtype: float64\n"
     ]
    },
    {
     "data": {
      "image/png": "[encoded data removed]",
      "text/plain": [
       "<Figure size 432x288 with 1 Axes>"
      ]
     },
     "metadata": {
      "needs_background": "light"
     },
     "output_type": "display_data"
    }
   ],
   "source": [
    "# draw boxplot for rooms\n",
    "boxplotF('rooms',-1,20);"
   ]
  },
  {
   "cell_type": "code",
   "execution_count": 102,
   "metadata": {},
   "outputs": [
    {
     "name": "stdout",
     "output_type": "stream",
     "text": [
      "upper whisker border 6.0\n",
      "lower whisker border -2.0\n",
      "number of extra-rooms flat: 90\n"
     ]
    }
   ],
   "source": [
    "print('upper whisker border',(3 - 1)*1.5+3)\n",
    "print('lower whisker border', 1-(3 - 1)*1.5)\n",
    "# it means the lower border equal to 0\n",
    "\n",
    "# count the number of extra-rooms flat\n",
    "print('number of extra-rooms flat:', len(data.query('rooms > 6')))"
   ]
  },
  {
   "cell_type": "code",
   "execution_count": 103,
   "metadata": {},
   "outputs": [
    {
     "data": {
      "text/plain": [
       "279.02555555555557"
      ]
     },
     "execution_count": 103,
     "metadata": {},
     "output_type": "execute_result"
    }
   ],
   "source": [
    "#check the mean 'total_area' of extra-rooms flat\n",
    "extra_rooms_data = data.query(' rooms > 6')\n",
    "extra_rooms_data['total_area'].mean()"
   ]
  },
  {
   "cell_type": "markdown",
   "metadata": {},
   "source": [
    "##### The number of rooms in a 'normal flat' in range 0-6 rooms. But the flat with number of rooms upper than 6 is also real (because the mean area is also big). We can select them in a unique segment - 'EXTRA-ROOMS FLATS' and explore separetely. "
   ]
  },
  {
   "cell_type": "markdown",
   "metadata": {},
   "source": [
    "<i> Explore the days exposition of flat.\n",
    "We will analyze only flats for which the days_exposition is known <i>"
   ]
  },
  {
   "cell_type": "code",
   "execution_count": 105,
   "metadata": {},
   "outputs": [],
   "source": [
    "# sorted the data without NaN value in column 'days_exposition'\n",
    "sorted_DE_data = data[data['days_exposition'].isnull() == False]"
   ]
  },
  {
   "cell_type": "code",
   "execution_count": 107,
   "metadata": {},
   "outputs": [
    {
     "data": {
      "image/png": "[encoded data removed]",
      "text/plain": [
       "<Figure size 432x288 with 1 Axes>"
      ]
     },
     "metadata": {
      "needs_background": "light"
     },
     "output_type": "display_data"
    }
   ],
   "source": [
    "# draw the histogram\n",
    "sorted_DE_data['days_exposition'].hist()\n",
    "sorted_DE_data['days_exposition'].hist(range = (0,200));"
   ]
  },
  {
   "cell_type": "code",
   "execution_count": 111,
   "metadata": {},
   "outputs": [
    {
     "data": {
      "text/plain": [
       "count    20470.000000\n",
       "mean       180.753200\n",
       "std        219.777916\n",
       "min          1.000000\n",
       "25%         45.000000\n",
       "50%         95.000000\n",
       "75%        231.000000\n",
       "max       1580.000000\n",
       "Name: days_exposition, dtype: float64"
      ]
     },
     "execution_count": 111,
     "metadata": {},
     "output_type": "execute_result"
    },
    {
     "data": {
      "image/png": "[encoded data removed]",
      "text/plain": [
       "<Figure size 432x288 with 1 Axes>"
      ]
     },
     "metadata": {
      "needs_background": "light"
     },
     "output_type": "display_data"
    }
   ],
   "source": [
    "#draw the boxplot and discribe the values\n",
    "sorted_DE_data.boxplot(column='days_exposition')\n",
    "plt.ylim(-1, 550)\n",
    "sorted_DE_data['days_exposition'].describe()"
   ]
  },
  {
   "cell_type": "markdown",
   "metadata": {},
   "source": [
    "##### We see that STD is enormous (219.7) <br> Also we can see that median value more then twice less then mean value (95 days vs 180 days) <br> It means there are objects with very long selling time. <br> Check the count of such objects and the mean price for these obgects to determine the reason of long exposition time."
   ]
  },
  {
   "cell_type": "code",
   "execution_count": 112,
   "metadata": {},
   "outputs": [
    {
     "name": "stdout",
     "output_type": "stream",
     "text": [
      "number of objects with a long selling time: 1744\n",
      "mean price: 8.445614451261463\n",
      "mean area: 70.79566513761475\n",
      "\n",
      "Санкт-Петербург    1217\n",
      "деревня Кудрово      33\n",
      "посёлок Мурино       32\n",
      "Всеволожск           31\n",
      "Пушкин               29\n",
      "Name: locality_name, dtype: int64\n"
     ]
    }
   ],
   "source": [
    "# sorted data to long selling flats\n",
    "sorted_DE_data_long_time = sorted_DE_data.query('days_exposition > 500')\n",
    "print('number of objects with a long selling time:',len(sorted_DE_data_long_time))\n",
    "print('mean price:',sorted_DE_data_long_time['last_price_mln'].mean())\n",
    "print('mean area:',sorted_DE_data_long_time['total_area'].mean())\n",
    "print()\n",
    "print(sorted_DE_data_long_time['locality_name'].value_counts().head())"
   ]
  },
  {
   "cell_type": "code",
   "execution_count": 114,
   "metadata": {},
   "outputs": [
    {
     "data": {
      "image/png": "[encoded data removed]",
      "text/plain": [
       "<Figure size 432x288 with 1 Axes>"
      ]
     },
     "metadata": {
      "needs_background": "light"
     },
     "output_type": "display_data"
    }
   ],
   "source": [
    "sorted_DE_data_long_time['days_exposition'].hist();"
   ]
  },
  {
   "cell_type": "markdown",
   "metadata": {},
   "source": [
    "##### 1744 flats have atypical big selling time. the reason might be due to high price, whick higher than Q3 in boxplot. <br> To analyze the real mean selling time we should discarb this data."
   ]
  },
  {
   "cell_type": "code",
   "execution_count": 115,
   "metadata": {},
   "outputs": [
    {
     "name": "stdout",
     "output_type": "stream",
     "text": [
      "number of objects with a short selling time 5087\n",
      "mean price 5.594183856693547\n",
      "mean area 53.64348142323567\n",
      "\n",
      "Санкт-Петербург    3555\n",
      "посёлок Мурино      159\n",
      "посёлок Шушары       97\n",
      "Колпино              84\n",
      "деревня Кудрово      79\n",
      "Name: locality_name, dtype: int64\n"
     ]
    }
   ],
   "source": [
    "# sorted data to short selling flats \n",
    "sorted_DE_data_short_time = sorted_DE_data.query('days_exposition < 45')\n",
    "print('number of objects with a short selling time',len(sorted_DE_data_short_time))\n",
    "print('mean price',sorted_DE_data_short_time['last_price_mln'].mean())\n",
    "print('mean area',sorted_DE_data_short_time['total_area'].mean())\n",
    "print()\n",
    "print(sorted_DE_data_short_time['locality_name'].value_counts().head())"
   ]
  },
  {
   "cell_type": "code",
   "execution_count": 117,
   "metadata": {},
   "outputs": [
    {
     "data": {
      "image/png": "[encoded data removed]",
      "text/plain": [
       "<Figure size 432x288 with 1 Axes>"
      ]
     },
     "metadata": {
      "needs_background": "light"
     },
     "output_type": "display_data"
    }
   ],
   "source": [
    "sorted_DE_data_short_time['days_exposition'].hist(range = (0,10));"
   ]
  },
  {
   "cell_type": "markdown",
   "metadata": {},
   "source": [
    "##### Were not found any abnormal data in short-selling flats. The mean price and mean area corresponds to average values. <br> We can consider the short days_eposition are 1-3 days. Because the number of these flats are minor. "
   ]
  },
  {
   "cell_type": "markdown",
   "metadata": {},
   "source": [
    "<i> We should exclude long and short selling flats and analize mean and medium values one more time <i>"
   ]
  },
  {
   "cell_type": "code",
   "execution_count": 118,
   "metadata": {},
   "outputs": [
    {
     "data": {
      "text/plain": [
       "count    18717.000000\n",
       "mean       126.915798\n",
       "std        119.020671\n",
       "min          3.000000\n",
       "25%         41.000000\n",
       "50%         84.000000\n",
       "75%        181.000000\n",
       "max        499.000000\n",
       "Name: days_exposition, dtype: float64"
      ]
     },
     "execution_count": 118,
     "metadata": {},
     "output_type": "execute_result"
    }
   ],
   "source": [
    "#exclude long and short selling flats\n",
    "sorted_DE_data_final = sorted_DE_data.query('3 < days_exposition < 500')\n",
    "sorted_DE_data_final['days_exposition'].describe()"
   ]
  },
  {
   "cell_type": "markdown",
   "metadata": {},
   "source": [
    "#### The mean value of flat selling is 126 days. <br> The median value in 84 days. <br> We can consider the sales faster than 3 days are a short sales. <br> The sales longer then 500 days are a long sale."
   ]
  },
  {
   "cell_type": "markdown",
   "metadata": {},
   "source": [
    "<i> What factors most affect the value of the apartment? Examine whether the price depends on square meter, number of rooms, distance from the center. Examine the dependence of the price on what floor the apartment is located: first, last or other. Also study the dependence on the date of placement: day of the week, month and year <i>"
   ]
  },
  {
   "cell_type": "code",
   "execution_count": 120,
   "metadata": {
    "scrolled": true
   },
   "outputs": [
    {
     "data": {
      "image/png": "[encoded data removed]",
      "text/plain": [
       "<Figure size 432x288 with 1 Axes>"
      ]
     },
     "metadata": {
      "needs_background": "light"
     },
     "output_type": "display_data"
    }
   ],
   "source": [
    "#explore the price dependence on flat area, cleaned from 'BIG FLAT' flat (total_area > 112.5)\n",
    "data_normal_area_flat = data.query('total_area <= 112.5')\n",
    "data_normal_area_flat.sort_values('last_price_mln').plot(x='total_area', y='last_price_mln'\n",
    "                                 ,kind='scatter', alpha=0.2, grid = True)\n",
    "plt.ylim(-1, 30);"
   ]
  },
  {
   "cell_type": "markdown",
   "metadata": {},
   "source": [
    "###### We can see on the graph the general trend. The bigger flat have bigger price.  <br>But the range is quite  wide. For example the range for 60m2 flats about 1-12 mln. rub. <br> And the price 5 mln ruble is applicable for about 30-90 m2"
   ]
  },
  {
   "cell_type": "code",
   "execution_count": 121,
   "metadata": {},
   "outputs": [
    {
     "data": {
      "text/html": [
       "<div>\n",
       "<style scoped>\n",
       "    .dataframe tbody tr th:only-of-type {\n",
       "        vertical-align: middle;\n",
       "    }\n",
       "\n",
       "    .dataframe tbody tr th {\n",
       "        vertical-align: top;\n",
       "    }\n",
       "\n",
       "    .dataframe thead th {\n",
       "        text-align: right;\n",
       "    }\n",
       "</style>\n",
       "<table border=\"1\" class=\"dataframe\">\n",
       "  <thead>\n",
       "    <tr style=\"text-align: right;\">\n",
       "      <th></th>\n",
       "      <th>locality_name</th>\n",
       "      <th>last_price</th>\n",
       "    </tr>\n",
       "  </thead>\n",
       "  <tbody>\n",
       "    <tr>\n",
       "      <td>16274</td>\n",
       "      <td>деревня Старополье</td>\n",
       "      <td>440000</td>\n",
       "    </tr>\n",
       "    <tr>\n",
       "      <td>6859</td>\n",
       "      <td>деревня Старополье</td>\n",
       "      <td>490000</td>\n",
       "    </tr>\n",
       "    <tr>\n",
       "      <td>19555</td>\n",
       "      <td>Сланцы</td>\n",
       "      <td>650000</td>\n",
       "    </tr>\n",
       "    <tr>\n",
       "      <td>164</td>\n",
       "      <td>поселок городского типа Ефимовский</td>\n",
       "      <td>800000</td>\n",
       "    </tr>\n",
       "    <tr>\n",
       "      <td>10219</td>\n",
       "      <td>Сланцы</td>\n",
       "      <td>900000</td>\n",
       "    </tr>\n",
       "    <tr>\n",
       "      <td>...</td>\n",
       "      <td>...</td>\n",
       "      <td>...</td>\n",
       "    </tr>\n",
       "    <tr>\n",
       "      <td>8232</td>\n",
       "      <td>Санкт-Петербург</td>\n",
       "      <td>7750000</td>\n",
       "    </tr>\n",
       "    <tr>\n",
       "      <td>3686</td>\n",
       "      <td>Санкт-Петербург</td>\n",
       "      <td>7790000</td>\n",
       "    </tr>\n",
       "    <tr>\n",
       "      <td>7166</td>\n",
       "      <td>Санкт-Петербург</td>\n",
       "      <td>8000000</td>\n",
       "    </tr>\n",
       "    <tr>\n",
       "      <td>7460</td>\n",
       "      <td>Санкт-Петербург</td>\n",
       "      <td>8000000</td>\n",
       "    </tr>\n",
       "    <tr>\n",
       "      <td>13659</td>\n",
       "      <td>Санкт-Петербург</td>\n",
       "      <td>9500000</td>\n",
       "    </tr>\n",
       "  </tbody>\n",
       "</table>\n",
       "<p>746 rows × 2 columns</p>\n",
       "</div>"
      ],
      "text/plain": [
       "                            locality_name  last_price\n",
       "16274                  деревня Старополье      440000\n",
       "6859                   деревня Старополье      490000\n",
       "19555                              Сланцы      650000\n",
       "164    поселок городского типа Ефимовский      800000\n",
       "10219                              Сланцы      900000\n",
       "...                                   ...         ...\n",
       "8232                      Санкт-Петербург     7750000\n",
       "3686                      Санкт-Петербург     7790000\n",
       "7166                      Санкт-Петербург     8000000\n",
       "7460                      Санкт-Петербург     8000000\n",
       "13659                     Санкт-Петербург     9500000\n",
       "\n",
       "[746 rows x 2 columns]"
      ]
     },
     "execution_count": 121,
     "metadata": {},
     "output_type": "execute_result"
    }
   ],
   "source": [
    "data_40m2 = data.query('39 <total_area <41').sort_values(by='last_price')\n",
    "data_40m2[['locality_name','last_price']]"
   ]
  },
  {
   "cell_type": "code",
   "execution_count": 123,
   "metadata": {},
   "outputs": [
    {
     "data": {
      "image/png": "[encoded data removed]",
      "text/plain": [
       "<Figure size 432x288 with 1 Axes>"
      ]
     },
     "metadata": {
      "needs_background": "light"
     },
     "output_type": "display_data"
    }
   ],
   "source": [
    "#explore the price dependence on number of rooms, cleaned from extra-rooms flat (>6), \n",
    "#because the count of big flats is not enough for accurate analysis\n",
    "data_normal_room_flat = data.query('rooms <=6 ')\n",
    "data_normal_room_flat_pivot = data_normal_room_flat.pivot_table(index = 'rooms', values = 'last_price_mln', \n",
    "                 aggfunc = 'mean').sort_values(by='last_price_mln',ascending = False)\n",
    "data_normal_room_flat_pivot.plot(grid = True);"
   ]
  },
  {
   "cell_type": "markdown",
   "metadata": {},
   "source": [
    "##### We see the direct correlation on the histogram. The more the number of rooms, the more the price of flat."
   ]
  },
  {
   "cell_type": "code",
   "execution_count": 125,
   "metadata": {},
   "outputs": [
    {
     "data": {
      "image/png": "[encoded data removed]",
      "text/plain": [
       "<Figure size 432x288 with 1 Axes>"
      ]
     },
     "metadata": {
      "needs_background": "light"
     },
     "output_type": "display_data"
    },
    {
     "data": {
      "image/png": "[encoded data removed]",
      "text/plain": [
       "<Figure size 432x288 with 1 Axes>"
      ]
     },
     "metadata": {
      "needs_background": "light"
     },
     "output_type": "display_data"
    }
   ],
   "source": [
    "# explore the price depends on city center nearest \n",
    "\n",
    "# depending on the flat price\n",
    "data.sort_values('last_price_mln').plot(x='cityCenters_nearest', y='last_price_mln'\n",
    "                                 ,kind='scatter', alpha=0.2, grid = True)\n",
    "plt.ylim(-5, 200)\n",
    "\n",
    "#dependin on the m2 price\n",
    "data.sort_values('price_per_m2').plot(x='cityCenters_nearest', y='price_per_m2'\n",
    "                                 ,kind='scatter', alpha=0.2, grid = True)\n",
    "plt.ylim(25000, 300000);"
   ]
  },
  {
   "cell_type": "markdown",
   "metadata": {},
   "source": [
    "#####  There is the similar  dependence in the both charts. The clother to center, the higher price."
   ]
  },
  {
   "cell_type": "code",
   "execution_count": 126,
   "metadata": {},
   "outputs": [
    {
     "name": "stdout",
     "output_type": "stream",
     "text": [
      "dependence on floor in provices\n",
      "            price_per_m2\n",
      "floor_desc              \n",
      "the first   59517.408537\n",
      "the last    62098.598046\n",
      "other       73100.630401\n",
      "----------------------------------\n",
      "dependence on floor in St. Petersburg\n",
      "             price_per_m2\n",
      "floor_desc               \n",
      "the first   100415.455000\n",
      "other       116424.531078\n",
      "the last    116856.437693\n"
     ]
    }
   ],
   "source": [
    "# check how the floor affect to price on flat.  Will be dealing with all,\n",
    "# exclude St.Petersburg locations and at St. Petersburg only, separately based on price per m2\n",
    "\n",
    "# exclude St. Petersburg\n",
    "print('dependence on floor in provices')\n",
    "data_floor_sorted_province = data[data['locality_name'] != 'Санкт-Петербург']\n",
    "print(data_floor_sorted_province.pivot_table(index = 'floor_desc', values = 'price_per_m2',\n",
    "                              aggfunc = 'mean').sort_values(by = 'price_per_m2'))\n",
    "\n",
    "# St.Petersburg only\n",
    "print('----------------------------------')\n",
    "print('dependence on floor in St. Petersburg')\n",
    "data_floor_sorted_Spb = data[data['locality_name'] == 'Санкт-Петербург']\n",
    "print(data_floor_sorted_Spb.pivot_table(index = 'floor_desc', values = 'price_per_m2',\n",
    "                              aggfunc = 'mean').sort_values(by = 'price_per_m2'))\n"
   ]
  },
  {
   "cell_type": "markdown",
   "metadata": {},
   "source": [
    "###### Flats, located in the first floor, the most cheaper in both data set. <br> Flats, located in the last floor ~15% cheaper than the middle floors and 4% more expensive then the flats on the first floor in 'province' <br> In St. Petersburg there is another situation - the cost for flats on the first and middle floors are similar. <br> I suppose, the reason, there are more new building in St. Petersburg compared to province. In a new building the negative affect from the last floor is minimise"
   ]
  },
  {
   "cell_type": "code",
   "execution_count": 128,
   "metadata": {},
   "outputs": [
    {
     "data": {
      "image/png": "[encoded data removed]",
      "text/plain": [
       "<Figure size 432x288 with 1 Axes>"
      ]
     },
     "metadata": {
      "needs_background": "light"
     },
     "output_type": "display_data"
    }
   ],
   "source": [
    "# check dependence on week day of exposition\n",
    "# take data sorted from short days exposition(<3 days) and long day exposition (>500)\n",
    "WeekDayPrice =  sorted_DE_data_final.pivot_table(index = 'weekday_exposition', values = 'price_per_m2',\n",
    "                                aggfunc = 'mean')\n",
    "WeekDayPrice.plot(kind='bar',grid = True, rot = 0)\n",
    "plt.ylim(90000, 100000);\n",
    " "
   ]
  },
  {
   "cell_type": "code",
   "execution_count": 130,
   "metadata": {},
   "outputs": [
    {
     "data": {
      "image/png": "[encoded data removed]",
      "text/plain": [
       "<Figure size 432x288 with 1 Axes>"
      ]
     },
     "metadata": {
      "needs_background": "light"
     },
     "output_type": "display_data"
    }
   ],
   "source": [
    "# check dependence on month of exposition\n",
    "MonthPrice =  sorted_DE_data_final.pivot_table(index = 'month_exposition', values = 'price_per_m2',\n",
    "                                aggfunc = 'mean')\n",
    "MonthPrice.plot(kind='bar',grid = True, rot = 0)\n",
    "plt.ylim(90000, 102000);"
   ]
  },
  {
   "cell_type": "code",
   "execution_count": 131,
   "metadata": {},
   "outputs": [
    {
     "data": {
      "text/html": [
       "<div>\n",
       "<style scoped>\n",
       "    .dataframe tbody tr th:only-of-type {\n",
       "        vertical-align: middle;\n",
       "    }\n",
       "\n",
       "    .dataframe tbody tr th {\n",
       "        vertical-align: top;\n",
       "    }\n",
       "\n",
       "    .dataframe thead th {\n",
       "        text-align: right;\n",
       "    }\n",
       "</style>\n",
       "<table border=\"1\" class=\"dataframe\">\n",
       "  <thead>\n",
       "    <tr style=\"text-align: right;\">\n",
       "      <th></th>\n",
       "      <th>price_per_m2</th>\n",
       "    </tr>\n",
       "    <tr>\n",
       "      <th>year_exposition</th>\n",
       "      <th></th>\n",
       "    </tr>\n",
       "  </thead>\n",
       "  <tbody>\n",
       "    <tr>\n",
       "      <td>2015</td>\n",
       "      <td>97643.589165</td>\n",
       "    </tr>\n",
       "    <tr>\n",
       "      <td>2016</td>\n",
       "      <td>97175.521004</td>\n",
       "    </tr>\n",
       "    <tr>\n",
       "      <td>2017</td>\n",
       "      <td>96739.756275</td>\n",
       "    </tr>\n",
       "    <tr>\n",
       "      <td>2018</td>\n",
       "      <td>96857.655414</td>\n",
       "    </tr>\n",
       "    <tr>\n",
       "      <td>2019</td>\n",
       "      <td>105671.185357</td>\n",
       "    </tr>\n",
       "  </tbody>\n",
       "</table>\n",
       "</div>"
      ],
      "text/plain": [
       "                  price_per_m2\n",
       "year_exposition               \n",
       "2015              97643.589165\n",
       "2016              97175.521004\n",
       "2017              96739.756275\n",
       "2018              96857.655414\n",
       "2019             105671.185357"
      ]
     },
     "execution_count": 131,
     "metadata": {},
     "output_type": "execute_result"
    },
    {
     "data": {
      "image/png": "[encoded data removed]",
      "text/plain": [
       "<Figure size 432x288 with 1 Axes>"
      ]
     },
     "metadata": {
      "needs_background": "light"
     },
     "output_type": "display_data"
    }
   ],
   "source": [
    "# check dependence on year of exposition\n",
    "YearPrice =  sorted_DE_data_final.pivot_table(index = 'year_exposition', values = 'price_per_m2',\n",
    "                                aggfunc = 'mean')\n",
    "YearPrice.plot(kind='bar',grid = True, rot = 0)\n",
    "plt.ylim(90000, 108500)\n",
    "YearPrice"
   ]
  },
  {
   "cell_type": "markdown",
   "metadata": {},
   "source": [
    "######  Flats, exposed on Saturday the more expensive.<br> Flats, exposed on Sunday the most cheaper. The most expensive month is Septeber, the most cheapest is October. \n",
    "###### The price was increased by 9% in 2019."
   ]
  },
  {
   "cell_type": "markdown",
   "metadata": {},
   "source": [
    "<i> Select 10 locations with the most ads. Calculate the average price per square meter in these locations. Highlight the location with the highest and lowest cost. This data can be found by name in the column 'locality_name' <i>"
   ]
  },
  {
   "cell_type": "code",
   "execution_count": 132,
   "metadata": {},
   "outputs": [
    {
     "data": {
      "text/html": [
       "<div>\n",
       "<style scoped>\n",
       "    .dataframe tbody tr th:only-of-type {\n",
       "        vertical-align: middle;\n",
       "    }\n",
       "\n",
       "    .dataframe tbody tr th {\n",
       "        vertical-align: top;\n",
       "    }\n",
       "\n",
       "    .dataframe thead th {\n",
       "        text-align: right;\n",
       "    }\n",
       "</style>\n",
       "<table border=\"1\" class=\"dataframe\">\n",
       "  <thead>\n",
       "    <tr style=\"text-align: right;\">\n",
       "      <th></th>\n",
       "      <th>count</th>\n",
       "    </tr>\n",
       "    <tr>\n",
       "      <th>locality_name</th>\n",
       "      <th></th>\n",
       "    </tr>\n",
       "  </thead>\n",
       "  <tbody>\n",
       "    <tr>\n",
       "      <td>Санкт-Петербург</td>\n",
       "      <td>15721</td>\n",
       "    </tr>\n",
       "    <tr>\n",
       "      <td>посёлок Мурино</td>\n",
       "      <td>522</td>\n",
       "    </tr>\n",
       "    <tr>\n",
       "      <td>посёлок Шушары</td>\n",
       "      <td>440</td>\n",
       "    </tr>\n",
       "    <tr>\n",
       "      <td>Всеволожск</td>\n",
       "      <td>398</td>\n",
       "    </tr>\n",
       "    <tr>\n",
       "      <td>Пушкин</td>\n",
       "      <td>369</td>\n",
       "    </tr>\n",
       "    <tr>\n",
       "      <td>Колпино</td>\n",
       "      <td>338</td>\n",
       "    </tr>\n",
       "    <tr>\n",
       "      <td>посёлок Парголово</td>\n",
       "      <td>327</td>\n",
       "    </tr>\n",
       "    <tr>\n",
       "      <td>Гатчина</td>\n",
       "      <td>307</td>\n",
       "    </tr>\n",
       "    <tr>\n",
       "      <td>деревня Кудрово</td>\n",
       "      <td>299</td>\n",
       "    </tr>\n",
       "    <tr>\n",
       "      <td>Выборг</td>\n",
       "      <td>237</td>\n",
       "    </tr>\n",
       "  </tbody>\n",
       "</table>\n",
       "</div>"
      ],
      "text/plain": [
       "                   count\n",
       "locality_name           \n",
       "Санкт-Петербург    15721\n",
       "посёлок Мурино       522\n",
       "посёлок Шушары       440\n",
       "Всеволожск           398\n",
       "Пушкин               369\n",
       "Колпино              338\n",
       "посёлок Парголово    327\n",
       "Гатчина              307\n",
       "деревня Кудрово      299\n",
       "Выборг               237"
      ]
     },
     "execution_count": 132,
     "metadata": {},
     "output_type": "execute_result"
    }
   ],
   "source": [
    "# find the top of most popular location for flat selling\n",
    "#top_locations = data['locality_name'].value_counts().head(10)\n",
    "top_locations = data.pivot_table(index = 'locality_name', values = 'rooms', \n",
    "                 aggfunc = 'count').sort_values(by='rooms', ascending = False).head(10)\n",
    "top_locations.columns = ['count']\n",
    "top_locations"
   ]
  },
  {
   "cell_type": "code",
   "execution_count": 133,
   "metadata": {},
   "outputs": [
    {
     "data": {
      "text/html": [
       "<div>\n",
       "<style scoped>\n",
       "    .dataframe tbody tr th:only-of-type {\n",
       "        vertical-align: middle;\n",
       "    }\n",
       "\n",
       "    .dataframe tbody tr th {\n",
       "        vertical-align: top;\n",
       "    }\n",
       "\n",
       "    .dataframe thead th {\n",
       "        text-align: right;\n",
       "    }\n",
       "</style>\n",
       "<table border=\"1\" class=\"dataframe\">\n",
       "  <thead>\n",
       "    <tr style=\"text-align: right;\">\n",
       "      <th></th>\n",
       "      <th>price_per_m2</th>\n",
       "    </tr>\n",
       "    <tr>\n",
       "      <th>locality_name</th>\n",
       "      <th></th>\n",
       "    </tr>\n",
       "  </thead>\n",
       "  <tbody>\n",
       "    <tr>\n",
       "      <td>посёлок Лисий Нос</td>\n",
       "      <td>121615.500000</td>\n",
       "    </tr>\n",
       "    <tr>\n",
       "      <td>Зеленогорск</td>\n",
       "      <td>115122.500000</td>\n",
       "    </tr>\n",
       "    <tr>\n",
       "      <td>Санкт-Петербург</td>\n",
       "      <td>114848.565231</td>\n",
       "    </tr>\n",
       "    <tr>\n",
       "      <td>посёлок Репино</td>\n",
       "      <td>104238.500000</td>\n",
       "    </tr>\n",
       "    <tr>\n",
       "      <td>Пушкин</td>\n",
       "      <td>103125.373984</td>\n",
       "    </tr>\n",
       "    <tr>\n",
       "      <td>...</td>\n",
       "      <td>...</td>\n",
       "    </tr>\n",
       "    <tr>\n",
       "      <td>поселок Совхозный</td>\n",
       "      <td>12628.500000</td>\n",
       "    </tr>\n",
       "    <tr>\n",
       "      <td>деревня Выскатка</td>\n",
       "      <td>12335.000000</td>\n",
       "    </tr>\n",
       "    <tr>\n",
       "      <td>деревня Вахнова Кара</td>\n",
       "      <td>11688.000000</td>\n",
       "    </tr>\n",
       "    <tr>\n",
       "      <td>посёлок станции Свирь</td>\n",
       "      <td>11481.000000</td>\n",
       "    </tr>\n",
       "    <tr>\n",
       "      <td>деревня Старополье</td>\n",
       "      <td>11206.000000</td>\n",
       "    </tr>\n",
       "  </tbody>\n",
       "</table>\n",
       "<p>364 rows × 1 columns</p>\n",
       "</div>"
      ],
      "text/plain": [
       "                        price_per_m2\n",
       "locality_name                       \n",
       "посёлок Лисий Нос      121615.500000\n",
       "Зеленогорск            115122.500000\n",
       "Санкт-Петербург        114848.565231\n",
       "посёлок Репино         104238.500000\n",
       "Пушкин                 103125.373984\n",
       "...                              ...\n",
       "поселок Совхозный       12628.500000\n",
       "деревня Выскатка        12335.000000\n",
       "деревня Вахнова Кара    11688.000000\n",
       "посёлок станции Свирь   11481.000000\n",
       "деревня Старополье      11206.000000\n",
       "\n",
       "[364 rows x 1 columns]"
      ]
     },
     "execution_count": 133,
     "metadata": {},
     "output_type": "execute_result"
    }
   ],
   "source": [
    "# calculate the mean flat price per m2\n",
    "avr_price_loc = data.pivot_table(index = 'locality_name', values = 'price_per_m2', \n",
    "                                 aggfunc = 'mean')\n",
    "avr_price_loc.sort_values(by = 'price_per_m2', ascending = False)"
   ]
  },
  {
   "cell_type": "code",
   "execution_count": 134,
   "metadata": {},
   "outputs": [
    {
     "data": {
      "text/html": [
       "<div>\n",
       "<style scoped>\n",
       "    .dataframe tbody tr th:only-of-type {\n",
       "        vertical-align: middle;\n",
       "    }\n",
       "\n",
       "    .dataframe tbody tr th {\n",
       "        vertical-align: top;\n",
       "    }\n",
       "\n",
       "    .dataframe thead th {\n",
       "        text-align: right;\n",
       "    }\n",
       "</style>\n",
       "<table border=\"1\" class=\"dataframe\">\n",
       "  <thead>\n",
       "    <tr style=\"text-align: right;\">\n",
       "      <th></th>\n",
       "      <th>count</th>\n",
       "      <th>price_per_m2</th>\n",
       "    </tr>\n",
       "    <tr>\n",
       "      <th>locality_name</th>\n",
       "      <th></th>\n",
       "      <th></th>\n",
       "    </tr>\n",
       "  </thead>\n",
       "  <tbody>\n",
       "    <tr>\n",
       "      <td>Санкт-Петербург</td>\n",
       "      <td>15721</td>\n",
       "      <td>114848.565231</td>\n",
       "    </tr>\n",
       "    <tr>\n",
       "      <td>Пушкин</td>\n",
       "      <td>369</td>\n",
       "      <td>103125.373984</td>\n",
       "    </tr>\n",
       "    <tr>\n",
       "      <td>деревня Кудрово</td>\n",
       "      <td>299</td>\n",
       "      <td>92473.086957</td>\n",
       "    </tr>\n",
       "    <tr>\n",
       "      <td>посёлок Парголово</td>\n",
       "      <td>327</td>\n",
       "      <td>90175.489297</td>\n",
       "    </tr>\n",
       "    <tr>\n",
       "      <td>посёлок Мурино</td>\n",
       "      <td>522</td>\n",
       "      <td>85751.733716</td>\n",
       "    </tr>\n",
       "    <tr>\n",
       "      <td>посёлок Шушары</td>\n",
       "      <td>440</td>\n",
       "      <td>78676.904545</td>\n",
       "    </tr>\n",
       "    <tr>\n",
       "      <td>Колпино</td>\n",
       "      <td>338</td>\n",
       "      <td>75424.150888</td>\n",
       "    </tr>\n",
       "    <tr>\n",
       "      <td>Гатчина</td>\n",
       "      <td>307</td>\n",
       "      <td>68745.693811</td>\n",
       "    </tr>\n",
       "    <tr>\n",
       "      <td>Всеволожск</td>\n",
       "      <td>398</td>\n",
       "      <td>68654.007538</td>\n",
       "    </tr>\n",
       "    <tr>\n",
       "      <td>Выборг</td>\n",
       "      <td>237</td>\n",
       "      <td>58141.489451</td>\n",
       "    </tr>\n",
       "  </tbody>\n",
       "</table>\n",
       "</div>"
      ],
      "text/plain": [
       "                   count   price_per_m2\n",
       "locality_name                          \n",
       "Санкт-Петербург    15721  114848.565231\n",
       "Пушкин               369  103125.373984\n",
       "деревня Кудрово      299   92473.086957\n",
       "посёлок Парголово    327   90175.489297\n",
       "посёлок Мурино       522   85751.733716\n",
       "посёлок Шушары       440   78676.904545\n",
       "Колпино              338   75424.150888\n",
       "Гатчина              307   68745.693811\n",
       "Всеволожск           398   68654.007538\n",
       "Выборг               237   58141.489451"
      ]
     },
     "execution_count": 134,
     "metadata": {},
     "output_type": "execute_result"
    }
   ],
   "source": [
    "#merge two tables\n",
    "top_locations_data = top_locations.join(avr_price_loc)\n",
    "top_locations_data.sort_values(by = 'price_per_m2', ascending = False)"
   ]
  },
  {
   "cell_type": "code",
   "execution_count": 135,
   "metadata": {},
   "outputs": [
    {
     "name": "stdout",
     "output_type": "stream",
     "text": [
      "top_10 share of total: top_10: 0.8016067653276956\n"
     ]
    }
   ],
   "source": [
    "#Calculate the share total_10 of total\n",
    "print('top_10 share of total:','top_10:', top_locations['count'].sum()/len(data))"
   ]
  },
  {
   "cell_type": "markdown",
   "metadata": {},
   "source": [
    "###### Ten locations account for 80 percent of sales. <br> the most expensive city from Top_10 is St.Petersburg, the mean price per m2  is  114 848 rubles. <br>  The cheapest one is Vyborg with price 58 141mln rubles. <br> But if we look at the whole list of locations we'll see, that St.Petersburg on the 3th place on the list, and the most expensive flat costs 121 615 rubles per m2. <br> The cheapest cost is 11 206 rubles per m2."
   ]
  },
  {
   "cell_type": "markdown",
   "metadata": {},
   "source": [
    "<i>Research the offers of apartments: for each apartment there is information about the distance to the center. Highlight apartments in St. Petersburg ('locality_name'). Your task is to find out which area is in the center. Create a column with the distance to the center in kilometers: round to integer values. After that, calculate the average price for each kilometer. Build a chart: it should show how the price depends on the distance from the center. Define the border where the graph changes a lot - this will be the central zone<i>"
   ]
  },
  {
   "cell_type": "code",
   "execution_count": 137,
   "metadata": {},
   "outputs": [
    {
     "data": {
      "image/png": "[encoded data removed]",
      "text/plain": [
       "<Figure size 1080x576 with 1 Axes>"
      ]
     },
     "metadata": {
      "needs_background": "light"
     },
     "output_type": "display_data"
    }
   ],
   "source": [
    "# add column with  distance to city center by km\n",
    "data['cityCenters_nearest_km'] = data['cityCenters_nearest']/1000\n",
    "data['cityCenters_nearest_km'] = data['cityCenters_nearest_km'].round(0)\n",
    "\n",
    "# sort the data by St.Petersburg city \n",
    "data_Spb = data[data['locality_name'] == 'Санкт-Петербург']\n",
    "data_Spb_pivot_table = data_Spb.pivot_table(index = 'cityCenters_nearest_km', values = 'price_per_m2',\n",
    "                                           aggfunc = 'mean').sort_values(by = 'cityCenters_nearest_km')\n",
    "data_Spb_pivot_table.plot(grid = True, rot = 0, figsize=(15,8));"
   ]
  },
  {
   "cell_type": "markdown",
   "metadata": {},
   "source": [
    "##### We can see on the chart, direction changes at 3 km. We can assume, this is the border of center."
   ]
  },
  {
   "cell_type": "markdown",
   "metadata": {},
   "source": [
    "<i> Highlight the segment of apartments in the center. Analyze this territory and explore the following parameters: area, price, number of rooms, ceiling height. Also highlight the factors that affect the cost of the apartment (number of rooms, floor, distance from the center, date of placement of the advertisement). To do conclusions. Do they differ from general findings throughout the city? <i>"
   ]
  },
  {
   "cell_type": "code",
   "execution_count": 139,
   "metadata": {},
   "outputs": [
    {
     "data": {
      "text/html": [
       "<div>\n",
       "<style scoped>\n",
       "    .dataframe tbody tr th:only-of-type {\n",
       "        vertical-align: middle;\n",
       "    }\n",
       "\n",
       "    .dataframe tbody tr th {\n",
       "        vertical-align: top;\n",
       "    }\n",
       "\n",
       "    .dataframe thead th {\n",
       "        text-align: right;\n",
       "    }\n",
       "</style>\n",
       "<table border=\"1\" class=\"dataframe\">\n",
       "  <thead>\n",
       "    <tr style=\"text-align: right;\">\n",
       "      <th></th>\n",
       "      <th>total_images</th>\n",
       "      <th>last_price</th>\n",
       "      <th>total_area</th>\n",
       "      <th>first_day_exposition</th>\n",
       "      <th>rooms</th>\n",
       "      <th>ceiling_height</th>\n",
       "      <th>floors_total</th>\n",
       "      <th>living_area</th>\n",
       "      <th>floor</th>\n",
       "      <th>is_apartment</th>\n",
       "      <th>...</th>\n",
       "      <th>days_exposition</th>\n",
       "      <th>price_per_m2</th>\n",
       "      <th>weekday_exposition</th>\n",
       "      <th>month_exposition</th>\n",
       "      <th>year_exposition</th>\n",
       "      <th>floor_desc</th>\n",
       "      <th>living/total_area</th>\n",
       "      <th>kitchen/total_area</th>\n",
       "      <th>last_price_mln</th>\n",
       "      <th>cityCenters_nearest_km</th>\n",
       "    </tr>\n",
       "  </thead>\n",
       "  <tbody>\n",
       "    <tr>\n",
       "      <td>24</td>\n",
       "      <td>8</td>\n",
       "      <td>6500000</td>\n",
       "      <td>97.2</td>\n",
       "      <td>2015-10-31</td>\n",
       "      <td>2</td>\n",
       "      <td>2.65</td>\n",
       "      <td>3</td>\n",
       "      <td>46.5</td>\n",
       "      <td>1</td>\n",
       "      <td>False</td>\n",
       "      <td>...</td>\n",
       "      <td>265.0</td>\n",
       "      <td>66872</td>\n",
       "      <td>5</td>\n",
       "      <td>10</td>\n",
       "      <td>2015</td>\n",
       "      <td>the first</td>\n",
       "      <td>0.478395</td>\n",
       "      <td>0.201646</td>\n",
       "      <td>6.5</td>\n",
       "      <td>2.0</td>\n",
       "    </tr>\n",
       "    <tr>\n",
       "      <td>99</td>\n",
       "      <td>32</td>\n",
       "      <td>9600000</td>\n",
       "      <td>90.0</td>\n",
       "      <td>2017-09-26</td>\n",
       "      <td>4</td>\n",
       "      <td>2.65</td>\n",
       "      <td>5</td>\n",
       "      <td>67.0</td>\n",
       "      <td>2</td>\n",
       "      <td>False</td>\n",
       "      <td>...</td>\n",
       "      <td>104.0</td>\n",
       "      <td>106666</td>\n",
       "      <td>1</td>\n",
       "      <td>9</td>\n",
       "      <td>2017</td>\n",
       "      <td>other</td>\n",
       "      <td>0.744444</td>\n",
       "      <td>0.088889</td>\n",
       "      <td>9.6</td>\n",
       "      <td>3.0</td>\n",
       "    </tr>\n",
       "    <tr>\n",
       "      <td>138</td>\n",
       "      <td>8</td>\n",
       "      <td>4800000</td>\n",
       "      <td>40.0</td>\n",
       "      <td>2017-11-18</td>\n",
       "      <td>2</td>\n",
       "      <td>2.65</td>\n",
       "      <td>3</td>\n",
       "      <td>29.0</td>\n",
       "      <td>2</td>\n",
       "      <td>False</td>\n",
       "      <td>...</td>\n",
       "      <td>80.0</td>\n",
       "      <td>120000</td>\n",
       "      <td>5</td>\n",
       "      <td>11</td>\n",
       "      <td>2017</td>\n",
       "      <td>other</td>\n",
       "      <td>0.725000</td>\n",
       "      <td>0.150000</td>\n",
       "      <td>4.8</td>\n",
       "      <td>3.0</td>\n",
       "    </tr>\n",
       "    <tr>\n",
       "      <td>154</td>\n",
       "      <td>1</td>\n",
       "      <td>8200000</td>\n",
       "      <td>80.0</td>\n",
       "      <td>2018-11-06</td>\n",
       "      <td>3</td>\n",
       "      <td>4.15</td>\n",
       "      <td>3</td>\n",
       "      <td>44.2</td>\n",
       "      <td>2</td>\n",
       "      <td>False</td>\n",
       "      <td>...</td>\n",
       "      <td>38.0</td>\n",
       "      <td>102500</td>\n",
       "      <td>1</td>\n",
       "      <td>11</td>\n",
       "      <td>2018</td>\n",
       "      <td>other</td>\n",
       "      <td>0.552500</td>\n",
       "      <td>0.152500</td>\n",
       "      <td>8.2</td>\n",
       "      <td>3.0</td>\n",
       "    </tr>\n",
       "    <tr>\n",
       "      <td>155</td>\n",
       "      <td>8</td>\n",
       "      <td>96000000</td>\n",
       "      <td>317.0</td>\n",
       "      <td>2017-07-07</td>\n",
       "      <td>4</td>\n",
       "      <td>3.50</td>\n",
       "      <td>3</td>\n",
       "      <td>183.0</td>\n",
       "      <td>3</td>\n",
       "      <td>False</td>\n",
       "      <td>...</td>\n",
       "      <td>62.0</td>\n",
       "      <td>302839</td>\n",
       "      <td>4</td>\n",
       "      <td>7</td>\n",
       "      <td>2017</td>\n",
       "      <td>the last</td>\n",
       "      <td>0.577287</td>\n",
       "      <td>0.035016</td>\n",
       "      <td>96.0</td>\n",
       "      <td>2.0</td>\n",
       "    </tr>\n",
       "  </tbody>\n",
       "</table>\n",
       "<p>5 rows × 31 columns</p>\n",
       "</div>"
      ],
      "text/plain": [
       "     total_images  last_price  total_area first_day_exposition  rooms  \\\n",
       "24              8     6500000        97.2           2015-10-31      2   \n",
       "99             32     9600000        90.0           2017-09-26      4   \n",
       "138             8     4800000        40.0           2017-11-18      2   \n",
       "154             1     8200000        80.0           2018-11-06      3   \n",
       "155             8    96000000       317.0           2017-07-07      4   \n",
       "\n",
       "     ceiling_height  floors_total  living_area  floor  is_apartment  ...  \\\n",
       "24             2.65             3         46.5      1         False  ...   \n",
       "99             2.65             5         67.0      2         False  ...   \n",
       "138            2.65             3         29.0      2         False  ...   \n",
       "154            4.15             3         44.2      2         False  ...   \n",
       "155            3.50             3        183.0      3         False  ...   \n",
       "\n",
       "     days_exposition  price_per_m2  weekday_exposition  month_exposition  \\\n",
       "24             265.0         66872                   5                10   \n",
       "99             104.0        106666                   1                 9   \n",
       "138             80.0        120000                   5                11   \n",
       "154             38.0        102500                   1                11   \n",
       "155             62.0        302839                   4                 7   \n",
       "\n",
       "    year_exposition  floor_desc  living/total_area  kitchen/total_area  \\\n",
       "24             2015   the first           0.478395            0.201646   \n",
       "99             2017       other           0.744444            0.088889   \n",
       "138            2017       other           0.725000            0.150000   \n",
       "154            2018       other           0.552500            0.152500   \n",
       "155            2017    the last           0.577287            0.035016   \n",
       "\n",
       "     last_price_mln  cityCenters_nearest_km  \n",
       "24              6.5                     2.0  \n",
       "99              9.6                     3.0  \n",
       "138             4.8                     3.0  \n",
       "154             8.2                     3.0  \n",
       "155            96.0                     2.0  \n",
       "\n",
       "[5 rows x 31 columns]"
      ]
     },
     "execution_count": 139,
     "metadata": {},
     "output_type": "execute_result"
    }
   ],
   "source": [
    "# sort data_Spb by city center (<=3 km)\n",
    "data_Spb_center = data_Spb.query('cityCenters_nearest_km <= 3')\n",
    "data_Spb_center.head()"
   ]
  },
  {
   "cell_type": "code",
   "execution_count": 140,
   "metadata": {},
   "outputs": [
    {
     "name": "stdout",
     "output_type": "stream",
     "text": [
      "mean of total area_Spb center: 98.63244596131965\n",
      "mean of total area all: 60.329069344608705\n"
     ]
    }
   ],
   "source": [
    "# calculate the mean total_area \n",
    "print('mean of total area_Spb center:',data_Spb_center['total_area'].mean())\n",
    "print('mean of total area all:',data['total_area'].mean())"
   ]
  },
  {
   "cell_type": "markdown",
   "metadata": {},
   "source": [
    "##### In Spb city center the total area of flats 61% bigger than the  total data set."
   ]
  },
  {
   "cell_type": "code",
   "execution_count": 141,
   "metadata": {},
   "outputs": [
    {
     "name": "stdout",
     "output_type": "stream",
     "text": [
      "mean of rooms Spb center: 3.110352673492605\n",
      "mean of rooms all: 2.070105708245243\n"
     ]
    }
   ],
   "source": [
    "# calculate the mean number of rooms\n",
    "print('mean of rooms Spb center:',data_Spb_center['rooms'].mean())\n",
    "print('mean of rooms all:',data['rooms'].mean())"
   ]
  },
  {
   "cell_type": "markdown",
   "metadata": {},
   "source": [
    "##### In Spb city center the number of rooms is more per one room than the total data set."
   ]
  },
  {
   "cell_type": "code",
   "execution_count": 142,
   "metadata": {},
   "outputs": [
    {
     "name": "stdout",
     "output_type": "stream",
     "text": [
      "mean of ceiling height Spb center: 3.030841865756557\n",
      "mean of ceiling height all: 2.6949978858354595\n"
     ]
    }
   ],
   "source": [
    "# calculate the mean ceiling_height \n",
    "print('mean of ceiling height Spb center:',data_Spb_center['ceiling_height'].mean())\n",
    "print('mean of ceiling height all:', data['ceiling_height'].mean())"
   ]
  },
  {
   "cell_type": "markdown",
   "metadata": {},
   "source": [
    "##### In Spb city center the ceiling height 30 centimeters more  than the total data set."
   ]
  },
  {
   "cell_type": "code",
   "execution_count": 152,
   "metadata": {},
   "outputs": [
    {
     "name": "stdout",
     "output_type": "stream",
     "text": [
      "price mean Spb center 8.35\n",
      "price mean all 4.5\n"
     ]
    },
    {
     "data": {
      "image/png": "[encoded data removed]",
      "text/plain": [
       "<Figure size 720x432 with 1 Axes>"
      ]
     },
     "metadata": {
      "needs_background": "light"
     },
     "output_type": "display_data"
    }
   ],
   "source": [
    "#explore the price dependence on flat area, cleaned from 'BIG FLAT' flat (total_area > 112.5)\n",
    "data_normal_area_flat = data.query('total_area <= 112.5').sort_values('last_price_mln')\n",
    "data_Spb_center_area = data_Spb_center.query('total_area <= 112.5').sort_values('last_price_mln')\n",
    "\n",
    "ax = data_normal_area_flat.plot(x='total_area', y='last_price_mln'\n",
    "                                ,kind='scatter', alpha=0.2, grid = True, figsize=(10,6),\n",
    "                               linewidth=3,label='all flats')\n",
    "data_Spb_center_area.plot(ax=ax, x='total_area', y='last_price_mln'\n",
    "                                ,kind='scatter', alpha=0.5, grid = True,color = 'red',\n",
    "                         linewidth=3,label='Spb city center' )\n",
    "plt.ylim(-1, 30)\n",
    "print('price mean Spb center',data_Spb_center_area['last_price_mln'].median())\n",
    "print('price mean all',data_normal_area_flat['last_price_mln'].median() )"
   ]
  },
  {
   "cell_type": "markdown",
   "metadata": {},
   "source": [
    "#####  the trend of the price dependence on flat area are similar for both data set. The bigger flats have bigger cost. <br> But the mean price of flats in Spb. center approximately twice higher than mean price of the total data set."
   ]
  },
  {
   "cell_type": "code",
   "execution_count": 147,
   "metadata": {},
   "outputs": [
    {
     "data": {
      "image/png": "[encoded data removed]",
      "text/plain": [
       "<Figure size 432x288 with 1 Axes>"
      ]
     },
     "metadata": {
      "needs_background": "light"
     },
     "output_type": "display_data"
    }
   ],
   "source": [
    "# explore the price depends on number of rooms\n",
    "data_normal_room_flat = data.query('rooms <=6 ')\n",
    "data_normal_room_flat_pivot = data_normal_room_flat.pivot_table(index = 'rooms', values = 'last_price_mln', \n",
    "                 aggfunc = 'mean').sort_values(by='last_price_mln',ascending = False)\n",
    "\n",
    "data_Spb_center_normal_room_flat = data_Spb_center.query('rooms <=6 ')\n",
    "data_Spb_center_normal_room_flat_pivot = data_Spb_center_normal_room_flat.pivot_table(index = 'rooms', values = 'last_price_mln', \n",
    "                 aggfunc = 'mean').sort_values(by='last_price_mln',ascending = False)\n",
    "\n",
    "ax = data_normal_room_flat_pivot.plot(kind = 'line', label ='all flats')\n",
    "data_Spb_center_normal_room_flat_pivot.plot(ax=ax,kind = 'line', grid=True, label ='city center Spb');"
   ]
  },
  {
   "cell_type": "markdown",
   "metadata": {},
   "source": [
    "#####  the trend of the price dependence on number of rooms are similar for both data set. The flats with the bigger number of rooms have bigger cost. <br> The trend of the price dependence on number of rooms are similar for both data set. The flats with the bigger number of rooms have bigger cost. <br> But flats in Spb center cost higher than the flats in everywhere, except 5 rooms flats which cost similar for both data set."
   ]
  },
  {
   "cell_type": "code",
   "execution_count": 153,
   "metadata": {},
   "outputs": [
    {
     "data": {
      "image/png": "[encoded data removed]",
      "text/plain": [
       "<Figure size 720x432 with 1 Axes>"
      ]
     },
     "metadata": {
      "needs_background": "light"
     },
     "output_type": "display_data"
    }
   ],
   "source": [
    "# check how the floor affect to price on flat.  Will be dealing with all,\n",
    "# exclude St.Petersburg locations and at St. Petersburg only, separately based on price per m2\n",
    "\n",
    "# exclude St. Petersburg\n",
    "data_floor_sorted_province = data[data['locality_name'] != 'Санкт-Петербург']\n",
    "data_floor_sorted_province_PT = data_floor_sorted_province.pivot_table(index = 'floor_desc', values = 'price_per_m2',\n",
    "                              aggfunc = 'mean').sort_values(by = 'price_per_m2')\n",
    "\n",
    "# St.Petersburg only\n",
    "#print('----------------------------------')\n",
    "#print('dependence on floor in St. Petersburg')\n",
    "data_floor_sorted_Spb = data[data['locality_name'] == 'Санкт-Петербург']\n",
    "data_floor_sorted_Spb_PT = data_floor_sorted_Spb.pivot_table(index = 'floor_desc', values = 'price_per_m2',\n",
    "                              aggfunc = 'mean').sort_values(by = 'price_per_m2')\n",
    "\n",
    "#St.Petersburg city center\n",
    "data_Spb_center_PT = data_Spb_center.pivot_table(index = 'floor_desc', values = 'price_per_m2',\n",
    "                              aggfunc = 'mean').sort_values(by = 'price_per_m2')\n",
    "\n",
    "#merge three pivot table\n",
    "dependence_on_floor_PT = data_floor_sorted_province_PT.merge(data_floor_sorted_Spb_PT, how = 'outer', on = 'floor_desc')\n",
    "dependence_on_floor_PT = dependence_on_floor_PT.merge(data_Spb_center_PT, how = 'outer', on = 'floor_desc')\n",
    "dependence_on_floor_PT.columns = ['price_per_m2_province', 'price_per_m2_Spb', 'price_per_m2_Spb_center']\n",
    "ax = dependence_on_floor_PT.plot(y=['price_per_m2_province', 'price_per_m2_Spb', 'price_per_m2_Spb_center'], \n",
    "                            kind=\"bar\", rot = 0,figsize=(10,6) )\n",
    "ax.axhline(y=116424.531078, color = 'red', linestyle = '--');\n"
   ]
  },
  {
   "cell_type": "markdown",
   "metadata": {},
   "source": [
    "##### In the Spb city center the most cheapest flats located in the first floor (the same as the rest data sets) <br> The last floor cheaper than the others and more expensive than the first. This behavior is similar to 'province' data set and opposite to whole St. Petersburg."
   ]
  },
  {
   "cell_type": "code",
   "execution_count": 154,
   "metadata": {},
   "outputs": [
    {
     "data": {
      "image/png": "[encoded data removed]",
      "text/plain": [
       "<Figure size 720x432 with 1 Axes>"
      ]
     },
     "metadata": {
      "needs_background": "light"
     },
     "output_type": "display_data"
    },
    {
     "data": {
      "image/png": "[encoded data removed]",
      "text/plain": [
       "<Figure size 720x432 with 1 Axes>"
      ]
     },
     "metadata": {
      "needs_background": "light"
     },
     "output_type": "display_data"
    }
   ],
   "source": [
    "# explore the price depends on city center nearest \n",
    "\n",
    "data.sort_values('price_per_m2').plot(x='cityCenters_nearest', y='price_per_m2',\n",
    "                                kind='scatter', alpha=0.2, grid = True, figsize=(10,6),\n",
    "                               linewidth=3,label='all flats')\n",
    "plt.ylim(25000, 750000)\n",
    "data_Spb_center.plot(x='cityCenters_nearest', y='price_per_m2',\n",
    "                                kind='scatter', alpha=0.2, grid = True, figsize=(10,6),\n",
    "                               linewidth=3,label='Spb_city_center', color = 'red')\n",
    "\n",
    "plt.ylim(25000, 300000);"
   ]
  },
  {
   "cell_type": "markdown",
   "metadata": {},
   "source": [
    "#####  There is no difference in price within the historical center."
   ]
  },
  {
   "cell_type": "code",
   "execution_count": 155,
   "metadata": {},
   "outputs": [
    {
     "data": {
      "text/plain": [
       "(90000, 165000)"
      ]
     },
     "execution_count": 155,
     "metadata": {},
     "output_type": "execute_result"
    },
    {
     "data": {
      "image/png": "[encoded data removed]",
      "text/plain": [
       "<Figure size 720x432 with 1 Axes>"
      ]
     },
     "metadata": {
      "needs_background": "light"
     },
     "output_type": "display_data"
    }
   ],
   "source": [
    "#WEEKDAY\n",
    "# check dependence on week day of exposition\n",
    "# take data sorted from short days exposition(<3 days) and long day exposition (>500)\n",
    "WeekDayPrice =  sorted_DE_data_final.pivot_table(index = 'weekday_exposition', values = 'price_per_m2',\n",
    "                                aggfunc = 'mean')\n",
    "WeekDayPriceSpbCenter =  data_Spb_center.pivot_table(index = 'weekday_exposition', values = 'price_per_m2',\n",
    "                                aggfunc = 'mean')\n",
    "\n",
    "\n",
    "WeekDayPriceSpbCenter = WeekDayPrice.merge(WeekDayPriceSpbCenter, how = 'outer', on = 'weekday_exposition')\n",
    "WeekDayPriceSpbCenter.columns = ['price_per_m2_all', 'price_per_m2_Spb_center']\n",
    "\n",
    "ax = WeekDayPriceSpbCenter.plot(kind='line',grid = True, rot = 0, figsize = (10,6))\n",
    "ax.axhline(y=96496.935055, color = 'blue', linestyle = '--')\n",
    "ax.axhline(y=140181.228070, color = 'red', linestyle = '--')\n",
    "\n",
    "plt.ylim(90000, 165000)"
   ]
  },
  {
   "cell_type": "code",
   "execution_count": 158,
   "metadata": {},
   "outputs": [
    {
     "data": {
      "image/png": "[encoded data removed]",
      "text/plain": [
       "<Figure size 720x432 with 1 Axes>"
      ]
     },
     "metadata": {
      "needs_background": "light"
     },
     "output_type": "display_data"
    }
   ],
   "source": [
    "#MONTH\n",
    "# check dependence on month of exposition\n",
    "MonthPrice =  sorted_DE_data_final.pivot_table(index = 'month_exposition', values = 'price_per_m2',\n",
    "                                aggfunc = 'mean')\n",
    "MonthPriceCityCenter = data_Spb_center.pivot_table(index = 'month_exposition', values = 'price_per_m2',\n",
    "                                aggfunc = 'mean')\n",
    "\n",
    "MonthPriceCityCenter = MonthPrice.merge(MonthPriceCityCenter, how = 'outer', on = 'month_exposition')\n",
    "MonthPriceCityCenter.columns = ['price_per_m2_all', 'price_per_m2_Spb_center']\n",
    "\n",
    "ax = MonthPriceCityCenter.plot(kind='line',grid = True, rot = 0, figsize = (10,6));"
   ]
  },
  {
   "cell_type": "markdown",
   "metadata": {},
   "source": [
    "##### The most expensive month for Spb city center is April and the cheapest one is May compare to all data set where the most expensive month is September and the cheapest one is May."
   ]
  },
  {
   "cell_type": "code",
   "execution_count": 162,
   "metadata": {},
   "outputs": [
    {
     "data": {
      "image/png": "[encoded data removed]",
      "text/plain": [
       "<Figure size 720x432 with 1 Axes>"
      ]
     },
     "metadata": {
      "needs_background": "light"
     },
     "output_type": "display_data"
    }
   ],
   "source": [
    "# YEAR\n",
    "# check dependence on year of exposition\n",
    "YearPrice =  sorted_DE_data_final.pivot_table(index = 'year_exposition', values = 'price_per_m2',\n",
    "                                aggfunc = 'mean')\n",
    "YearPriceCityCenter = data_Spb_center.pivot_table(index = 'year_exposition', values = 'price_per_m2',\n",
    "                                aggfunc = 'mean')\n",
    "\n",
    "YearPriceCityCenter = YearPrice.merge(YearPriceCityCenter, how = 'outer', on = 'year_exposition')\n",
    "YearPriceCityCenter.columns = ['price_per_m2_all', 'price_per_m2_Spb_center']\n",
    "\n",
    "YearPriceCityCenter = YearPriceCityCenter[YearPriceCityCenter['price_per_m2_all'].isnull() == False]\n",
    "\n",
    "ax = YearPriceCityCenter.plot(kind='line',grid = True, rot = 0, figsize = (10,6))"
   ]
  },
  {
   "cell_type": "markdown",
   "metadata": {},
   "source": [
    "##### The price of apartments in the center of St. Petersburg began to increase in 2016 ( as opposed all apartments, the price of which began to increase in 2019)"
   ]
  },
  {
   "cell_type": "markdown",
   "metadata": {},
   "source": [
    "### Шаг 5. Общий вывод"
   ]
  },
  {
   "cell_type": "markdown",
   "metadata": {},
   "source": [
    "The data from the Real estate service for 2014 - 2019 were researched.\n",
    "The data were considered in two sections: St. Petersburg + Leningrad Region and the central area of St. Petersburg, limited by a 3 km distance from the city center.\n",
    "\n",
    "The following AVERAGE indicators of apartments were determined:\n",
    "\n",
    "|research area   |area  |number of rooms |ceiling height\n",
    "|----------------|--------|-------------|-----------|\n",
    "|St.Petersburg |98.6 m2 |3.11         |  3.03     |\n",
    "|all apartmnts      |60.3 m2 |2.07          |  2.69     |  \n",
    "\n",
    "The average object sale time is 127 days, the median is 84 days.\n",
    "Selling an apartment up to 3 days can be considered as a very fast, over 500 days - unusually long.\n",
    "\n",
    "As a result of the analysis, it was found that, in general, the larger the apartment (including the number of rooms), and the closer to the center, than the higher its price.\n",
    "However, the run-up in the data is very large, for example, the range of cost of the apartment 40m2  from 440 thousand rubles  to 9.5 million rubles.\n",
    "As for the distance from the center: the closer the apartment is to the center,  the more expensive the price.\n",
    "\n",
    "Interesting facts was found: as expected, the apartments on the 1st floor are the cheapest, on the top floor, on the second place, on the middle floors - the most expensive.\n",
    "However, if we consider only apartments in St. Petersburg, we can see that the cost of apartments on the top and middle floors is the same.\n",
    "Most likely, this is due to the fact that there are many new buildings in St. Petersburg, in which the negative effects of finding an apartment on the top floor are leveled, and there are even bonuses (lack of neighbors from above, beautiful view)\n",
    "\n",
    "TOP 10 cities with the largest number of ads(which is 80% of all ads)\n",
    "Three leaders:\n",
    "<ol>\n",
    "<li> Saint Petersburg </li>\n",
    "<li> Marina Village </li>\n",
    "<li> Shushary village </li>\n",
    "</ol>\n",
    "The most expensive city is St. Petersburg. Price per square meter - 114 8484.5 rubles\n",
    "The cheapest is Vyborg. Price per square meter - 58 141.4 rubles"
   ]
  },
  {
   "cell_type": "code",
   "execution_count": null,
   "metadata": {},
   "outputs": [],
   "source": []
  }
 ],
 "metadata": {
  "kernelspec": {
   "display_name": "Python 3",
   "language": "python",
   "name": "python3"
  },
  "language_info": {
   "codemirror_mode": {
    "name": "ipython",
    "version": 3
   },
   "file_extension": ".py",
   "mimetype": "text/x-python",
   "name": "python",
   "nbconvert_exporter": "python",
   "pygments_lexer": "ipython3",
   "version": "3.7.4-final"
  }
 },
 "nbformat": 4,
 "nbformat_minor": 2
}